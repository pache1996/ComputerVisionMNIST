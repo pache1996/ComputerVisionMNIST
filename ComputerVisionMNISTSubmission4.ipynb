{
 "cells": [
  {
   "cell_type": "markdown",
   "id": "980a3459",
   "metadata": {
    "papermill": {
     "duration": 0.007583,
     "end_time": "2023-12-01T15:59:52.117708",
     "exception": false,
     "start_time": "2023-12-01T15:59:52.110125",
     "status": "completed"
    },
    "tags": []
   },
   "source": [
    "# Intro\n",
    "Basically this environment is to essay different things from preprocessing to everything else. "
   ]
  },
  {
   "cell_type": "code",
   "execution_count": 1,
   "id": "c94d4c9c",
   "metadata": {
    "execution": {
     "iopub.execute_input": "2023-12-01T15:59:52.133454Z",
     "iopub.status.busy": "2023-12-01T15:59:52.133158Z",
     "iopub.status.idle": "2023-12-01T16:00:02.183884Z",
     "shell.execute_reply": "2023-12-01T16:00:02.183023Z"
    },
    "papermill": {
     "duration": 10.060796,
     "end_time": "2023-12-01T16:00:02.186104",
     "exception": false,
     "start_time": "2023-12-01T15:59:52.125308",
     "status": "completed"
    },
    "tags": []
   },
   "outputs": [
    {
     "name": "stderr",
     "output_type": "stream",
     "text": [
      "/opt/conda/lib/python3.10/site-packages/scipy/__init__.py:146: UserWarning: A NumPy version >=1.16.5 and <1.23.0 is required for this version of SciPy (detected version 1.23.5\n",
      "  warnings.warn(f\"A NumPy version >={np_minversion} and <{np_maxversion}\"\n"
     ]
    }
   ],
   "source": [
    "import pandas as pd \n",
    "import seaborn as sns\n",
    "import matplotlib.pyplot as plt\n",
    "import os\n",
    "import numpy as np\n",
    "import tensorflow as tf\n",
    "from sklearn.model_selection import train_test_split\n",
    "from tensorflow.keras.layers.experimental import preprocessing\n",
    "from tensorflow import keras\n",
    "from tensorflow.keras import layers\n",
    "\n",
    "def set_seed(seed=35643419):\n",
    "    np.random.seed(seed)\n",
    "    tf.random.set_seed(seed)\n",
    "    os.environ['PYTHONHASHSEED'] = str(seed)\n",
    "    os.environ['TF_DETERMINISTIC_OPS'] = '1'\n",
    "set_seed(35643419)"
   ]
  },
  {
   "cell_type": "code",
   "execution_count": 2,
   "id": "4cb3b439",
   "metadata": {
    "execution": {
     "iopub.execute_input": "2023-12-01T16:00:02.202424Z",
     "iopub.status.busy": "2023-12-01T16:00:02.201883Z",
     "iopub.status.idle": "2023-12-01T16:00:07.920281Z",
     "shell.execute_reply": "2023-12-01T16:00:07.919496Z"
    },
    "papermill": {
     "duration": 5.729089,
     "end_time": "2023-12-01T16:00:07.922738",
     "exception": false,
     "start_time": "2023-12-01T16:00:02.193649",
     "status": "completed"
    },
    "tags": []
   },
   "outputs": [],
   "source": [
    "train = pd.read_csv('/kaggle/input/digit-recognizer/train.csv')\n",
    "test = pd.read_csv('/kaggle/input/digit-recognizer/test.csv')"
   ]
  },
  {
   "cell_type": "code",
   "execution_count": 3,
   "id": "1dcda98a",
   "metadata": {
    "execution": {
     "iopub.execute_input": "2023-12-01T16:00:07.939755Z",
     "iopub.status.busy": "2023-12-01T16:00:07.939462Z",
     "iopub.status.idle": "2023-12-01T16:00:07.943605Z",
     "shell.execute_reply": "2023-12-01T16:00:07.942601Z"
    },
    "papermill": {
     "duration": 0.014795,
     "end_time": "2023-12-01T16:00:07.945585",
     "exception": false,
     "start_time": "2023-12-01T16:00:07.930790",
     "status": "completed"
    },
    "tags": []
   },
   "outputs": [],
   "source": [
    "#train.head()"
   ]
  },
  {
   "cell_type": "code",
   "execution_count": 4,
   "id": "7f0fc75b",
   "metadata": {
    "execution": {
     "iopub.execute_input": "2023-12-01T16:00:07.960894Z",
     "iopub.status.busy": "2023-12-01T16:00:07.960627Z",
     "iopub.status.idle": "2023-12-01T16:00:07.964271Z",
     "shell.execute_reply": "2023-12-01T16:00:07.963473Z"
    },
    "papermill": {
     "duration": 0.013589,
     "end_time": "2023-12-01T16:00:07.966252",
     "exception": false,
     "start_time": "2023-12-01T16:00:07.952663",
     "status": "completed"
    },
    "tags": []
   },
   "outputs": [],
   "source": [
    "#We have more or less the same distribution of numbers\n",
    "#sns.histplot(train.label)"
   ]
  },
  {
   "cell_type": "code",
   "execution_count": 5,
   "id": "df0f3308",
   "metadata": {
    "execution": {
     "iopub.execute_input": "2023-12-01T16:00:07.981824Z",
     "iopub.status.busy": "2023-12-01T16:00:07.981560Z",
     "iopub.status.idle": "2023-12-01T16:00:08.073851Z",
     "shell.execute_reply": "2023-12-01T16:00:08.072859Z"
    },
    "papermill": {
     "duration": 0.102276,
     "end_time": "2023-12-01T16:00:08.075867",
     "exception": false,
     "start_time": "2023-12-01T16:00:07.973591",
     "status": "completed"
    },
    "tags": []
   },
   "outputs": [],
   "source": [
    "labels = train['label']\n",
    "pixels = train.drop('label', axis=1)\n",
    "\n",
    "images = pixels.values.reshape(-1, 28, 28)\n",
    "\n",
    "#for i in [0,1,2,3,4]:\n",
    " #   plt.imshow(images[i], cmap='gray')\n",
    "  #  plt.title(f\"Label: {labels[i]}\")\n",
    "   # plt.show()"
   ]
  },
  {
   "cell_type": "code",
   "execution_count": 6,
   "id": "b97f3a16",
   "metadata": {
    "execution": {
     "iopub.execute_input": "2023-12-01T16:00:08.091714Z",
     "iopub.status.busy": "2023-12-01T16:00:08.091436Z",
     "iopub.status.idle": "2023-12-01T16:00:08.321538Z",
     "shell.execute_reply": "2023-12-01T16:00:08.320560Z"
    },
    "papermill": {
     "duration": 0.240782,
     "end_time": "2023-12-01T16:00:08.324012",
     "exception": false,
     "start_time": "2023-12-01T16:00:08.083230",
     "status": "completed"
    },
    "tags": []
   },
   "outputs": [],
   "source": [
    "pixels_train, pixels_valid, labels_train, labels_valid = train_test_split(\n",
    "    pixels,  \n",
    "    labels,  \n",
    "    test_size=0.3,\n",
    "    random_state=35643419 \n",
    ")"
   ]
  },
  {
   "cell_type": "code",
   "execution_count": 7,
   "id": "bee3c783",
   "metadata": {
    "execution": {
     "iopub.execute_input": "2023-12-01T16:00:08.340481Z",
     "iopub.status.busy": "2023-12-01T16:00:08.340162Z",
     "iopub.status.idle": "2023-12-01T16:00:08.344972Z",
     "shell.execute_reply": "2023-12-01T16:00:08.344147Z"
    },
    "papermill": {
     "duration": 0.014774,
     "end_time": "2023-12-01T16:00:08.346801",
     "exception": false,
     "start_time": "2023-12-01T16:00:08.332027",
     "status": "completed"
    },
    "tags": []
   },
   "outputs": [],
   "source": [
    "images_train = pixels_train.values.reshape(-1, 28, 28)\n",
    "images_valid = pixels_valid.values.reshape(-1,28,28)"
   ]
  },
  {
   "cell_type": "code",
   "execution_count": 8,
   "id": "b790c88f",
   "metadata": {
    "execution": {
     "iopub.execute_input": "2023-12-01T16:00:08.363167Z",
     "iopub.status.busy": "2023-12-01T16:00:08.362330Z",
     "iopub.status.idle": "2023-12-01T16:00:08.368222Z",
     "shell.execute_reply": "2023-12-01T16:00:08.367499Z"
    },
    "papermill": {
     "duration": 0.015869,
     "end_time": "2023-12-01T16:00:08.370208",
     "exception": false,
     "start_time": "2023-12-01T16:00:08.354339",
     "status": "completed"
    },
    "tags": []
   },
   "outputs": [],
   "source": [
    "labels_train_one_hot = tf.keras.utils.to_categorical(labels_train, num_classes=10)\n",
    "labels_valid_one_hot = tf.keras.utils.to_categorical(labels_valid, num_classes=10)"
   ]
  },
  {
   "cell_type": "code",
   "execution_count": 9,
   "id": "85a36096",
   "metadata": {
    "execution": {
     "iopub.execute_input": "2023-12-01T16:00:08.386451Z",
     "iopub.status.busy": "2023-12-01T16:00:08.386172Z",
     "iopub.status.idle": "2023-12-01T16:00:08.390383Z",
     "shell.execute_reply": "2023-12-01T16:00:08.389429Z"
    },
    "papermill": {
     "duration": 0.014551,
     "end_time": "2023-12-01T16:00:08.392270",
     "exception": false,
     "start_time": "2023-12-01T16:00:08.377719",
     "status": "completed"
    },
    "tags": []
   },
   "outputs": [],
   "source": [
    "images_train_with_channel = images_train[..., np.newaxis]\n",
    "images_valid_with_channel = images_valid[..., np.newaxis]"
   ]
  },
  {
   "cell_type": "code",
   "execution_count": 10,
   "id": "8a76cde2",
   "metadata": {
    "execution": {
     "iopub.execute_input": "2023-12-01T16:00:08.408122Z",
     "iopub.status.busy": "2023-12-01T16:00:08.407879Z",
     "iopub.status.idle": "2023-12-01T16:00:08.411757Z",
     "shell.execute_reply": "2023-12-01T16:00:08.410919Z"
    },
    "papermill": {
     "duration": 0.014024,
     "end_time": "2023-12-01T16:00:08.413690",
     "exception": false,
     "start_time": "2023-12-01T16:00:08.399666",
     "status": "completed"
    },
    "tags": []
   },
   "outputs": [],
   "source": [
    "#pretrained_base = tf.keras.models.load_model(\n",
    " #   '../input/cv-course-models/cv-course-models/inceptionv3',\n",
    "#)\n",
    "#pretrained_base.trainable = False"
   ]
  },
  {
   "cell_type": "code",
   "execution_count": 11,
   "id": "1386d5e5",
   "metadata": {
    "execution": {
     "iopub.execute_input": "2023-12-01T16:00:08.429978Z",
     "iopub.status.busy": "2023-12-01T16:00:08.429690Z",
     "iopub.status.idle": "2023-12-01T16:00:11.636380Z",
     "shell.execute_reply": "2023-12-01T16:00:11.635608Z"
    },
    "papermill": {
     "duration": 3.217543,
     "end_time": "2023-12-01T16:00:11.638759",
     "exception": false,
     "start_time": "2023-12-01T16:00:08.421216",
     "status": "completed"
    },
    "tags": []
   },
   "outputs": [],
   "source": [
    "model = keras.Sequential([\n",
    "    preprocessing.Rescaling(scale=1./255),\n",
    "    #Filter + detect : obtain 32 features, moving 1 pixel in the two dimensions, treating borders equally (same)\n",
    "    layers.Conv2D(filters=32,kernel_size=3,strides=1,padding='same',activation='relu', input_shape=(28, 28, 1)),\n",
    "    #Condense features\n",
    "    layers.MaxPool2D(pool_size=2,strides=1,padding='same'),\n",
    "\n",
    "    layers.Conv2D(filters=64,kernel_size=3,strides=1,padding='same',activation='relu'),\n",
    "    layers.MaxPool2D(pool_size=2,strides=1,padding='same'),  \n",
    "    \n",
    "    layers.Conv2D(filters=128, kernel_size=3, strides=1, padding='same', activation='relu'),\n",
    "    layers.MaxPool2D(pool_size=2, strides=1, padding='same'),\n",
    "    \n",
    "    layers.Flatten(),\n",
    "    layers.Dense(10, activation='softmax'),\n",
    "])"
   ]
  },
  {
   "cell_type": "code",
   "execution_count": 12,
   "id": "8b586b50",
   "metadata": {
    "execution": {
     "iopub.execute_input": "2023-12-01T16:00:11.654731Z",
     "iopub.status.busy": "2023-12-01T16:00:11.654417Z",
     "iopub.status.idle": "2023-12-01T16:00:11.677241Z",
     "shell.execute_reply": "2023-12-01T16:00:11.676347Z"
    },
    "papermill": {
     "duration": 0.032758,
     "end_time": "2023-12-01T16:00:11.679153",
     "exception": false,
     "start_time": "2023-12-01T16:00:11.646395",
     "status": "completed"
    },
    "tags": []
   },
   "outputs": [],
   "source": [
    "model.compile(\n",
    "    optimizer='rmsprop',\n",
    "    loss='categorical_crossentropy',\n",
    "    metrics=['accuracy'],\n",
    ")"
   ]
  },
  {
   "cell_type": "code",
   "execution_count": 13,
   "id": "899c258f",
   "metadata": {
    "execution": {
     "iopub.execute_input": "2023-12-01T16:00:11.694238Z",
     "iopub.status.busy": "2023-12-01T16:00:11.693958Z",
     "iopub.status.idle": "2023-12-01T16:00:11.698115Z",
     "shell.execute_reply": "2023-12-01T16:00:11.697240Z"
    },
    "papermill": {
     "duration": 0.013802,
     "end_time": "2023-12-01T16:00:11.699924",
     "exception": false,
     "start_time": "2023-12-01T16:00:11.686122",
     "status": "completed"
    },
    "tags": []
   },
   "outputs": [],
   "source": [
    "early_stopping = keras.callbacks.EarlyStopping(\n",
    "    patience=5,\n",
    "    min_delta=0.001,\n",
    "    restore_best_weights=True,\n",
    ")"
   ]
  },
  {
   "cell_type": "code",
   "execution_count": 14,
   "id": "30e4e55a",
   "metadata": {
    "execution": {
     "iopub.execute_input": "2023-12-01T16:00:11.715036Z",
     "iopub.status.busy": "2023-12-01T16:00:11.714779Z",
     "iopub.status.idle": "2023-12-01T16:00:11.719237Z",
     "shell.execute_reply": "2023-12-01T16:00:11.718255Z"
    },
    "papermill": {
     "duration": 0.014234,
     "end_time": "2023-12-01T16:00:11.721233",
     "exception": false,
     "start_time": "2023-12-01T16:00:11.706999",
     "status": "completed"
    },
    "tags": []
   },
   "outputs": [],
   "source": [
    "model_checkpoint = keras.callbacks.ModelCheckpoint(\n",
    "    'best_model.h5',  # Save the best weights to this file\n",
    "    save_best_only=True,  # Only save the best weights based on the validation loss\n",
    "    monitor='val_loss',  # Monitor validation loss\n",
    "    mode='min',  # Mode can be 'min' or 'max' depending on the metric to minimize or maximize\n",
    "    verbose=1  # Display messages when saving the best weights\n",
    ")"
   ]
  },
  {
   "cell_type": "code",
   "execution_count": 15,
   "id": "b7e6b160",
   "metadata": {
    "execution": {
     "iopub.execute_input": "2023-12-01T16:00:11.736622Z",
     "iopub.status.busy": "2023-12-01T16:00:11.736314Z",
     "iopub.status.idle": "2023-12-01T16:01:19.572649Z",
     "shell.execute_reply": "2023-12-01T16:01:19.571707Z"
    },
    "papermill": {
     "duration": 67.846769,
     "end_time": "2023-12-01T16:01:19.575023",
     "exception": false,
     "start_time": "2023-12-01T16:00:11.728254",
     "status": "completed"
    },
    "tags": []
   },
   "outputs": [
    {
     "name": "stdout",
     "output_type": "stream",
     "text": [
      "Epoch 1/20\n",
      "915/919 [============================>.] - ETA: 0s - loss: 0.1407 - accuracy: 0.9562\n",
      "Epoch 1: val_loss improved from inf to 0.05009, saving model to best_model.h5\n",
      "919/919 [==============================] - 15s 8ms/step - loss: 0.1403 - accuracy: 0.9564 - val_loss: 0.0501 - val_accuracy: 0.9840\n",
      "Epoch 2/20\n",
      "919/919 [==============================] - ETA: 0s - loss: 0.0516 - accuracy: 0.9849\n",
      "Epoch 2: val_loss did not improve from 0.05009\n",
      "919/919 [==============================] - 6s 7ms/step - loss: 0.0516 - accuracy: 0.9849 - val_loss: 0.0535 - val_accuracy: 0.9852\n",
      "Epoch 3/20\n",
      "918/919 [============================>.] - ETA: 0s - loss: 0.0370 - accuracy: 0.9894\n",
      "Epoch 3: val_loss did not improve from 0.05009\n",
      "919/919 [==============================] - 6s 7ms/step - loss: 0.0370 - accuracy: 0.9894 - val_loss: 0.0694 - val_accuracy: 0.9825\n",
      "Epoch 4/20\n",
      "917/919 [============================>.] - ETA: 0s - loss: 0.0286 - accuracy: 0.9918\n",
      "Epoch 4: val_loss improved from 0.05009 to 0.04182, saving model to best_model.h5\n",
      "919/919 [==============================] - 7s 7ms/step - loss: 0.0286 - accuracy: 0.9918 - val_loss: 0.0418 - val_accuracy: 0.9889\n",
      "Epoch 5/20\n",
      "919/919 [==============================] - ETA: 0s - loss: 0.0238 - accuracy: 0.9929\n",
      "Epoch 5: val_loss did not improve from 0.04182\n",
      "919/919 [==============================] - 6s 7ms/step - loss: 0.0238 - accuracy: 0.9929 - val_loss: 0.0482 - val_accuracy: 0.9887\n",
      "Epoch 6/20\n",
      "918/919 [============================>.] - ETA: 0s - loss: 0.0197 - accuracy: 0.9949\n",
      "Epoch 6: val_loss did not improve from 0.04182\n",
      "919/919 [==============================] - 6s 7ms/step - loss: 0.0197 - accuracy: 0.9948 - val_loss: 0.0644 - val_accuracy: 0.9862\n",
      "Epoch 7/20\n",
      "919/919 [==============================] - ETA: 0s - loss: 0.0172 - accuracy: 0.9958\n",
      "Epoch 7: val_loss did not improve from 0.04182\n",
      "919/919 [==============================] - 6s 7ms/step - loss: 0.0172 - accuracy: 0.9958 - val_loss: 0.0611 - val_accuracy: 0.9866\n",
      "Epoch 8/20\n",
      "919/919 [==============================] - ETA: 0s - loss: 0.0138 - accuracy: 0.9966\n",
      "Epoch 8: val_loss did not improve from 0.04182\n",
      "919/919 [==============================] - 7s 7ms/step - loss: 0.0138 - accuracy: 0.9966 - val_loss: 0.0709 - val_accuracy: 0.9874\n",
      "Epoch 9/20\n",
      "913/919 [============================>.] - ETA: 0s - loss: 0.0123 - accuracy: 0.9974\n",
      "Epoch 9: val_loss did not improve from 0.04182\n",
      "919/919 [==============================] - 7s 7ms/step - loss: 0.0124 - accuracy: 0.9973 - val_loss: 0.0856 - val_accuracy: 0.9860\n"
     ]
    }
   ],
   "source": [
    "history = model.fit(\n",
    "    images_train_with_channel, \n",
    "    labels_train_one_hot,\n",
    "    validation_data=(images_valid_with_channel, labels_valid_one_hot),\n",
    "    epochs=20,\n",
    "    callbacks=[early_stopping,model_checkpoint],\n",
    ")"
   ]
  },
  {
   "cell_type": "code",
   "execution_count": 16,
   "id": "caf9090b",
   "metadata": {
    "execution": {
     "iopub.execute_input": "2023-12-01T16:01:19.780289Z",
     "iopub.status.busy": "2023-12-01T16:01:19.779892Z",
     "iopub.status.idle": "2023-12-01T16:01:19.785465Z",
     "shell.execute_reply": "2023-12-01T16:01:19.784401Z"
    },
    "papermill": {
     "duration": 0.089445,
     "end_time": "2023-12-01T16:01:19.787651",
     "exception": false,
     "start_time": "2023-12-01T16:01:19.698206",
     "status": "completed"
    },
    "tags": []
   },
   "outputs": [],
   "source": [
    "history_frame = pd.DataFrame(history.history)"
   ]
  },
  {
   "cell_type": "code",
   "execution_count": 17,
   "id": "a6f1ab28",
   "metadata": {
    "execution": {
     "iopub.execute_input": "2023-12-01T16:01:19.957240Z",
     "iopub.status.busy": "2023-12-01T16:01:19.956876Z",
     "iopub.status.idle": "2023-12-01T16:01:20.487554Z",
     "shell.execute_reply": "2023-12-01T16:01:20.486492Z"
    },
    "papermill": {
     "duration": 0.614221,
     "end_time": "2023-12-01T16:01:20.489660",
     "exception": false,
     "start_time": "2023-12-01T16:01:19.875439",
     "status": "completed"
    },
    "tags": []
   },
   "outputs": [
    {
     "data": {
      "text/plain": [
       "<Axes: >"
      ]
     },
     "execution_count": 17,
     "metadata": {},
     "output_type": "execute_result"
    },
    {
     "data": {
      "image/png": "[encoded data removed]",
      "text/plain": [
       "<Figure size 640x480 with 1 Axes>"
      ]
     },
     "metadata": {},
     "output_type": "display_data"
    },
    {
     "data": {
      "image/png": "[encoded data removed]",
      "text/plain": [
       "<Figure size 640x480 with 1 Axes>"
      ]
     },
     "metadata": {},
     "output_type": "display_data"
    }
   ],
   "source": [
    "history_frame.loc[3:, ['loss', 'val_loss']].plot()\n",
    "history_frame.loc[3:, ['accuracy', 'val_accuracy']].plot()"
   ]
  },
  {
   "cell_type": "code",
   "execution_count": 18,
   "id": "54fb02cc",
   "metadata": {
    "execution": {
     "iopub.execute_input": "2023-12-01T16:01:20.649383Z",
     "iopub.status.busy": "2023-12-01T16:01:20.649017Z",
     "iopub.status.idle": "2023-12-01T16:01:20.766354Z",
     "shell.execute_reply": "2023-12-01T16:01:20.765412Z"
    },
    "papermill": {
     "duration": 0.199728,
     "end_time": "2023-12-01T16:01:20.768717",
     "exception": false,
     "start_time": "2023-12-01T16:01:20.568989",
     "status": "completed"
    },
    "tags": []
   },
   "outputs": [],
   "source": [
    "best_model = keras.models.load_model('best_model.h5')"
   ]
  },
  {
   "cell_type": "code",
   "execution_count": 19,
   "id": "87f69ac6",
   "metadata": {
    "execution": {
     "iopub.execute_input": "2023-12-01T16:01:20.926939Z",
     "iopub.status.busy": "2023-12-01T16:01:20.926612Z",
     "iopub.status.idle": "2023-12-01T16:01:22.623648Z",
     "shell.execute_reply": "2023-12-01T16:01:22.622667Z"
    },
    "papermill": {
     "duration": 1.778068,
     "end_time": "2023-12-01T16:01:22.625857",
     "exception": false,
     "start_time": "2023-12-01T16:01:20.847789",
     "status": "completed"
    },
    "tags": []
   },
   "outputs": [
    {
     "name": "stdout",
     "output_type": "stream",
     "text": [
      "394/394 [==============================] - 1s 3ms/step - loss: 0.0418 - accuracy: 0.9889\n",
      "valid_acc: 0.9888888597488403\n"
     ]
    }
   ],
   "source": [
    "valid_loss, valid_acc = best_model.evaluate(images_valid_with_channel, labels_valid_one_hot)\n",
    "print('valid_acc:', valid_acc)"
   ]
  },
  {
   "cell_type": "code",
   "execution_count": 20,
   "id": "1207f1e3",
   "metadata": {
    "execution": {
     "iopub.execute_input": "2023-12-01T16:01:22.789469Z",
     "iopub.status.busy": "2023-12-01T16:01:22.789095Z",
     "iopub.status.idle": "2023-12-01T16:01:22.793842Z",
     "shell.execute_reply": "2023-12-01T16:01:22.793014Z"
    },
    "papermill": {
     "duration": 0.088452,
     "end_time": "2023-12-01T16:01:22.795762",
     "exception": false,
     "start_time": "2023-12-01T16:01:22.707310",
     "status": "completed"
    },
    "tags": []
   },
   "outputs": [],
   "source": [
    "images_test = test.values.reshape(-1, 28, 28)\n",
    "images_test_with_channel = images_test[..., np.newaxis]"
   ]
  },
  {
   "cell_type": "code",
   "execution_count": 21,
   "id": "30769477",
   "metadata": {
    "execution": {
     "iopub.execute_input": "2023-12-01T16:01:22.960643Z",
     "iopub.status.busy": "2023-12-01T16:01:22.960277Z",
     "iopub.status.idle": "2023-12-01T16:01:25.855957Z",
     "shell.execute_reply": "2023-12-01T16:01:25.854881Z"
    },
    "papermill": {
     "duration": 2.982982,
     "end_time": "2023-12-01T16:01:25.858913",
     "exception": false,
     "start_time": "2023-12-01T16:01:22.875931",
     "status": "completed"
    },
    "tags": []
   },
   "outputs": [
    {
     "name": "stdout",
     "output_type": "stream",
     "text": [
      "875/875 [==============================] - 2s 2ms/step\n"
     ]
    }
   ],
   "source": [
    "pred = best_model.predict(images_test)"
   ]
  },
  {
   "cell_type": "code",
   "execution_count": 22,
   "id": "e901439e",
   "metadata": {
    "execution": {
     "iopub.execute_input": "2023-12-01T16:01:26.045775Z",
     "iopub.status.busy": "2023-12-01T16:01:26.045334Z",
     "iopub.status.idle": "2023-12-01T16:01:26.050692Z",
     "shell.execute_reply": "2023-12-01T16:01:26.049901Z"
    },
    "papermill": {
     "duration": 0.091243,
     "end_time": "2023-12-01T16:01:26.052577",
     "exception": false,
     "start_time": "2023-12-01T16:01:25.961334",
     "status": "completed"
    },
    "tags": []
   },
   "outputs": [],
   "source": [
    "predicted_classes = np.argmax(pred, axis=1)"
   ]
  },
  {
   "cell_type": "code",
   "execution_count": 23,
   "id": "4e763b4c",
   "metadata": {
    "execution": {
     "iopub.execute_input": "2023-12-01T16:01:26.224588Z",
     "iopub.status.busy": "2023-12-01T16:01:26.224260Z",
     "iopub.status.idle": "2023-12-01T16:01:26.228507Z",
     "shell.execute_reply": "2023-12-01T16:01:26.227747Z"
    },
    "papermill": {
     "duration": 0.092786,
     "end_time": "2023-12-01T16:01:26.230447",
     "exception": false,
     "start_time": "2023-12-01T16:01:26.137661",
     "status": "completed"
    },
    "tags": []
   },
   "outputs": [],
   "source": [
    "image_ids = np.arange(1, len(predicted_classes) + 1)"
   ]
  },
  {
   "cell_type": "code",
   "execution_count": 24,
   "id": "43b11d5f",
   "metadata": {
    "execution": {
     "iopub.execute_input": "2023-12-01T16:01:26.398251Z",
     "iopub.status.busy": "2023-12-01T16:01:26.397925Z",
     "iopub.status.idle": "2023-12-01T16:01:26.402950Z",
     "shell.execute_reply": "2023-12-01T16:01:26.402149Z"
    },
    "papermill": {
     "duration": 0.090647,
     "end_time": "2023-12-01T16:01:26.404976",
     "exception": false,
     "start_time": "2023-12-01T16:01:26.314329",
     "status": "completed"
    },
    "tags": []
   },
   "outputs": [],
   "source": [
    "df_submission = pd.DataFrame({\n",
    "    'ImageId': image_ids,\n",
    "    'Label': predicted_classes\n",
    "})"
   ]
  },
  {
   "cell_type": "code",
   "execution_count": 25,
   "id": "af8dcd44",
   "metadata": {
    "execution": {
     "iopub.execute_input": "2023-12-01T16:01:26.571767Z",
     "iopub.status.busy": "2023-12-01T16:01:26.571430Z",
     "iopub.status.idle": "2023-12-01T16:01:26.630703Z",
     "shell.execute_reply": "2023-12-01T16:01:26.629976Z"
    },
    "papermill": {
     "duration": 0.144937,
     "end_time": "2023-12-01T16:01:26.632831",
     "exception": false,
     "start_time": "2023-12-01T16:01:26.487894",
     "status": "completed"
    },
    "tags": []
   },
   "outputs": [],
   "source": [
    "df_submission.to_csv('submission3.csv', index=False)"
   ]
  }
 ],
 "metadata": {
  "kaggle": {
   "accelerator": "gpu",
   "dataSources": [
    {
     "databundleVersionId": 861823,
     "sourceId": 3004,
     "sourceType": "competition"
    },
    {
     "datasetId": 708136,
     "sourceId": 1338830,
     "sourceType": "datasetVersion"
    }
   ],
   "dockerImageVersionId": 30558,
   "isGpuEnabled": true,
   "isInternetEnabled": true,
   "language": "python",
   "sourceType": "notebook"
  },
  "kernelspec": {
   "display_name": "Python 3",
   "language": "python",
   "name": "python3"
  },
  "language_info": {
   "codemirror_mode": {
    "name": "ipython",
    "version": 3
   },
   "file_extension": ".py",
   "mimetype": "text/x-python",
   "name": "python",
   "nbconvert_exporter": "python",
   "pygments_lexer": "ipython3",
   "version": "3.10.12"
  },
  "papermill": {
   "default_parameters": {},
   "duration": 101.562374,
   "end_time": "2023-12-01T16:01:30.315666",
   "environment_variables": {},
   "exception": null,
   "input_path": "__notebook__.ipynb",
   "output_path": "__notebook__.ipynb",
   "parameters": {},
   "start_time": "2023-12-01T15:59:48.753292",
   "version": "2.4.0"
  }
 },
 "nbformat": 4,
 "nbformat_minor": 5
}
