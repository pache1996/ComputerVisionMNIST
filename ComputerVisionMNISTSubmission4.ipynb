{
 "cells": [
  {
   "cell_type": "markdown",
   "id": "c9804e79",
   "metadata": {
    "papermill": {
     "duration": 0.008648,
     "end_time": "2023-12-01T16:03:29.734967",
     "exception": false,
     "start_time": "2023-12-01T16:03:29.726319",
     "status": "completed"
    },
    "tags": []
   },
   "source": [
    "# Intro\n",
    "Basically this environment is to essay different things from preprocessing to everything else. "
   ]
  },
  {
   "cell_type": "code",
   "execution_count": 1,
   "id": "6c0ffad4",
   "metadata": {
    "execution": {
     "iopub.execute_input": "2023-12-01T16:03:29.754031Z",
     "iopub.status.busy": "2023-12-01T16:03:29.753591Z",
     "iopub.status.idle": "2023-12-01T16:03:38.867349Z",
     "shell.execute_reply": "2023-12-01T16:03:38.866391Z"
    },
    "papermill": {
     "duration": 9.1263,
     "end_time": "2023-12-01T16:03:38.869762",
     "exception": false,
     "start_time": "2023-12-01T16:03:29.743462",
     "status": "completed"
    },
    "tags": []
   },
   "outputs": [
    {
     "name": "stderr",
     "output_type": "stream",
     "text": [
      "/opt/conda/lib/python3.10/site-packages/scipy/__init__.py:146: UserWarning: A NumPy version >=1.16.5 and <1.23.0 is required for this version of SciPy (detected version 1.23.5\n",
      "  warnings.warn(f\"A NumPy version >={np_minversion} and <{np_maxversion}\"\n"
     ]
    }
   ],
   "source": [
    "import pandas as pd \n",
    "import seaborn as sns\n",
    "import matplotlib.pyplot as plt\n",
    "import os\n",
    "import numpy as np\n",
    "import tensorflow as tf\n",
    "from sklearn.model_selection import train_test_split\n",
    "from tensorflow.keras.layers.experimental import preprocessing\n",
    "from tensorflow import keras\n",
    "from tensorflow.keras import layers\n",
    "\n",
    "def set_seed(seed=35643419):\n",
    "    np.random.seed(seed)\n",
    "    tf.random.set_seed(seed)\n",
    "    os.environ['PYTHONHASHSEED'] = str(seed)\n",
    "    os.environ['TF_DETERMINISTIC_OPS'] = '1'\n",
    "set_seed(35643419)"
   ]
  },
  {
   "cell_type": "code",
   "execution_count": 2,
   "id": "41579e50",
   "metadata": {
    "execution": {
     "iopub.execute_input": "2023-12-01T16:03:38.886500Z",
     "iopub.status.busy": "2023-12-01T16:03:38.885606Z",
     "iopub.status.idle": "2023-12-01T16:03:44.764929Z",
     "shell.execute_reply": "2023-12-01T16:03:44.764091Z"
    },
    "papermill": {
     "duration": 5.890254,
     "end_time": "2023-12-01T16:03:44.767566",
     "exception": false,
     "start_time": "2023-12-01T16:03:38.877312",
     "status": "completed"
    },
    "tags": []
   },
   "outputs": [],
   "source": [
    "train = pd.read_csv('/kaggle/input/digit-recognizer/train.csv')\n",
    "test = pd.read_csv('/kaggle/input/digit-recognizer/test.csv')"
   ]
  },
  {
   "cell_type": "code",
   "execution_count": 3,
   "id": "0bbe7af1",
   "metadata": {
    "execution": {
     "iopub.execute_input": "2023-12-01T16:03:44.783757Z",
     "iopub.status.busy": "2023-12-01T16:03:44.783237Z",
     "iopub.status.idle": "2023-12-01T16:03:44.787313Z",
     "shell.execute_reply": "2023-12-01T16:03:44.786332Z"
    },
    "papermill": {
     "duration": 0.014232,
     "end_time": "2023-12-01T16:03:44.789198",
     "exception": false,
     "start_time": "2023-12-01T16:03:44.774966",
     "status": "completed"
    },
    "tags": []
   },
   "outputs": [],
   "source": [
    "#train.head()"
   ]
  },
  {
   "cell_type": "code",
   "execution_count": 4,
   "id": "d14e736c",
   "metadata": {
    "execution": {
     "iopub.execute_input": "2023-12-01T16:03:44.804445Z",
     "iopub.status.busy": "2023-12-01T16:03:44.804159Z",
     "iopub.status.idle": "2023-12-01T16:03:44.808046Z",
     "shell.execute_reply": "2023-12-01T16:03:44.807078Z"
    },
    "papermill": {
     "duration": 0.013649,
     "end_time": "2023-12-01T16:03:44.809948",
     "exception": false,
     "start_time": "2023-12-01T16:03:44.796299",
     "status": "completed"
    },
    "tags": []
   },
   "outputs": [],
   "source": [
    "#We have more or less the same distribution of numbers\n",
    "#sns.histplot(train.label)"
   ]
  },
  {
   "cell_type": "code",
   "execution_count": 5,
   "id": "29424144",
   "metadata": {
    "execution": {
     "iopub.execute_input": "2023-12-01T16:03:44.826774Z",
     "iopub.status.busy": "2023-12-01T16:03:44.825994Z",
     "iopub.status.idle": "2023-12-01T16:03:44.917040Z",
     "shell.execute_reply": "2023-12-01T16:03:44.916235Z"
    },
    "papermill": {
     "duration": 0.102478,
     "end_time": "2023-12-01T16:03:44.919401",
     "exception": false,
     "start_time": "2023-12-01T16:03:44.816923",
     "status": "completed"
    },
    "tags": []
   },
   "outputs": [],
   "source": [
    "labels = train['label']\n",
    "pixels = train.drop('label', axis=1)\n",
    "\n",
    "images = pixels.values.reshape(-1, 28, 28)\n",
    "\n",
    "#for i in [0,1,2,3,4]:\n",
    " #   plt.imshow(images[i], cmap='gray')\n",
    "  #  plt.title(f\"Label: {labels[i]}\")\n",
    "   # plt.show()"
   ]
  },
  {
   "cell_type": "code",
   "execution_count": 6,
   "id": "6e4a3875",
   "metadata": {
    "execution": {
     "iopub.execute_input": "2023-12-01T16:03:44.936284Z",
     "iopub.status.busy": "2023-12-01T16:03:44.935487Z",
     "iopub.status.idle": "2023-12-01T16:03:45.168437Z",
     "shell.execute_reply": "2023-12-01T16:03:45.167449Z"
    },
    "papermill": {
     "duration": 0.243688,
     "end_time": "2023-12-01T16:03:45.170951",
     "exception": false,
     "start_time": "2023-12-01T16:03:44.927263",
     "status": "completed"
    },
    "tags": []
   },
   "outputs": [],
   "source": [
    "pixels_train, pixels_valid, labels_train, labels_valid = train_test_split(\n",
    "    pixels,  \n",
    "    labels,  \n",
    "    test_size=0.3,\n",
    "    random_state=35643419 \n",
    ")"
   ]
  },
  {
   "cell_type": "code",
   "execution_count": 7,
   "id": "11fba866",
   "metadata": {
    "execution": {
     "iopub.execute_input": "2023-12-01T16:03:45.189086Z",
     "iopub.status.busy": "2023-12-01T16:03:45.188512Z",
     "iopub.status.idle": "2023-12-01T16:03:45.192997Z",
     "shell.execute_reply": "2023-12-01T16:03:45.192139Z"
    },
    "papermill": {
     "duration": 0.01518,
     "end_time": "2023-12-01T16:03:45.195003",
     "exception": false,
     "start_time": "2023-12-01T16:03:45.179823",
     "status": "completed"
    },
    "tags": []
   },
   "outputs": [],
   "source": [
    "images_train = pixels_train.values.reshape(-1, 28, 28)\n",
    "images_valid = pixels_valid.values.reshape(-1,28,28)"
   ]
  },
  {
   "cell_type": "code",
   "execution_count": 8,
   "id": "aca87090",
   "metadata": {
    "execution": {
     "iopub.execute_input": "2023-12-01T16:03:45.210789Z",
     "iopub.status.busy": "2023-12-01T16:03:45.210106Z",
     "iopub.status.idle": "2023-12-01T16:03:45.215605Z",
     "shell.execute_reply": "2023-12-01T16:03:45.214748Z"
    },
    "papermill": {
     "duration": 0.015545,
     "end_time": "2023-12-01T16:03:45.217550",
     "exception": false,
     "start_time": "2023-12-01T16:03:45.202005",
     "status": "completed"
    },
    "tags": []
   },
   "outputs": [],
   "source": [
    "labels_train_one_hot = tf.keras.utils.to_categorical(labels_train, num_classes=10)\n",
    "labels_valid_one_hot = tf.keras.utils.to_categorical(labels_valid, num_classes=10)"
   ]
  },
  {
   "cell_type": "code",
   "execution_count": 9,
   "id": "914799d3",
   "metadata": {
    "execution": {
     "iopub.execute_input": "2023-12-01T16:03:45.233422Z",
     "iopub.status.busy": "2023-12-01T16:03:45.232782Z",
     "iopub.status.idle": "2023-12-01T16:03:45.236958Z",
     "shell.execute_reply": "2023-12-01T16:03:45.236118Z"
    },
    "papermill": {
     "duration": 0.014173,
     "end_time": "2023-12-01T16:03:45.238753",
     "exception": false,
     "start_time": "2023-12-01T16:03:45.224580",
     "status": "completed"
    },
    "tags": []
   },
   "outputs": [],
   "source": [
    "images_train_with_channel = images_train[..., np.newaxis]\n",
    "images_valid_with_channel = images_valid[..., np.newaxis]"
   ]
  },
  {
   "cell_type": "code",
   "execution_count": 10,
   "id": "837bbd87",
   "metadata": {
    "execution": {
     "iopub.execute_input": "2023-12-01T16:03:45.254873Z",
     "iopub.status.busy": "2023-12-01T16:03:45.254193Z",
     "iopub.status.idle": "2023-12-01T16:03:45.258106Z",
     "shell.execute_reply": "2023-12-01T16:03:45.257278Z"
    },
    "papermill": {
     "duration": 0.014137,
     "end_time": "2023-12-01T16:03:45.260087",
     "exception": false,
     "start_time": "2023-12-01T16:03:45.245950",
     "status": "completed"
    },
    "tags": []
   },
   "outputs": [],
   "source": [
    "#pretrained_base = tf.keras.models.load_model(\n",
    " #   '../input/cv-course-models/cv-course-models/inceptionv3',\n",
    "#)\n",
    "#pretrained_base.trainable = False"
   ]
  },
  {
   "cell_type": "code",
   "execution_count": 11,
   "id": "6ce9afde",
   "metadata": {
    "execution": {
     "iopub.execute_input": "2023-12-01T16:03:45.275950Z",
     "iopub.status.busy": "2023-12-01T16:03:45.275214Z",
     "iopub.status.idle": "2023-12-01T16:03:48.133764Z",
     "shell.execute_reply": "2023-12-01T16:03:48.132776Z"
    },
    "papermill": {
     "duration": 2.868973,
     "end_time": "2023-12-01T16:03:48.136207",
     "exception": false,
     "start_time": "2023-12-01T16:03:45.267234",
     "status": "completed"
    },
    "tags": []
   },
   "outputs": [],
   "source": [
    "model = keras.Sequential([\n",
    "    preprocessing.Rescaling(scale=1./255),\n",
    "    #Filter + detect : obtain 32 features, moving 1 pixel in the two dimensions, treating borders equally (same)\n",
    "    layers.Conv2D(filters=32,kernel_size=3,strides=1,padding='same',activation='relu', input_shape=(28, 28, 1)),\n",
    "    #Condense features\n",
    "    layers.MaxPool2D(pool_size=2,strides=1,padding='same'),\n",
    "\n",
    "    layers.Conv2D(filters=64,kernel_size=3,strides=1,padding='same',activation='relu'),\n",
    "    layers.MaxPool2D(pool_size=2,strides=1,padding='same'),  \n",
    "    \n",
    "    layers.Conv2D(filters=128, kernel_size=3, strides=1, padding='same', activation='relu'),\n",
    "    layers.MaxPool2D(pool_size=2, strides=1, padding='same'),\n",
    "    \n",
    "    layers.Flatten(),\n",
    "    layers.Dense(10, activation='softmax'),\n",
    "])"
   ]
  },
  {
   "cell_type": "code",
   "execution_count": 12,
   "id": "8c0372d2",
   "metadata": {
    "execution": {
     "iopub.execute_input": "2023-12-01T16:03:48.152182Z",
     "iopub.status.busy": "2023-12-01T16:03:48.151897Z",
     "iopub.status.idle": "2023-12-01T16:03:48.177316Z",
     "shell.execute_reply": "2023-12-01T16:03:48.176589Z"
    },
    "papermill": {
     "duration": 0.035603,
     "end_time": "2023-12-01T16:03:48.179191",
     "exception": false,
     "start_time": "2023-12-01T16:03:48.143588",
     "status": "completed"
    },
    "tags": []
   },
   "outputs": [],
   "source": [
    "model.compile(\n",
    "    optimizer='rmsprop',\n",
    "    loss='categorical_crossentropy',\n",
    "    metrics=['accuracy'],\n",
    ")"
   ]
  },
  {
   "cell_type": "code",
   "execution_count": 13,
   "id": "7b1e254d",
   "metadata": {
    "execution": {
     "iopub.execute_input": "2023-12-01T16:03:48.195840Z",
     "iopub.status.busy": "2023-12-01T16:03:48.195512Z",
     "iopub.status.idle": "2023-12-01T16:03:48.199590Z",
     "shell.execute_reply": "2023-12-01T16:03:48.198780Z"
    },
    "papermill": {
     "duration": 0.014429,
     "end_time": "2023-12-01T16:03:48.201393",
     "exception": false,
     "start_time": "2023-12-01T16:03:48.186964",
     "status": "completed"
    },
    "tags": []
   },
   "outputs": [],
   "source": [
    "early_stopping = keras.callbacks.EarlyStopping(\n",
    "    patience=5,\n",
    "    min_delta=0.001,\n",
    "    restore_best_weights=True,\n",
    ")"
   ]
  },
  {
   "cell_type": "code",
   "execution_count": 14,
   "id": "a55a2120",
   "metadata": {
    "execution": {
     "iopub.execute_input": "2023-12-01T16:03:48.216759Z",
     "iopub.status.busy": "2023-12-01T16:03:48.216475Z",
     "iopub.status.idle": "2023-12-01T16:03:48.220788Z",
     "shell.execute_reply": "2023-12-01T16:03:48.220016Z"
    },
    "papermill": {
     "duration": 0.014042,
     "end_time": "2023-12-01T16:03:48.222641",
     "exception": false,
     "start_time": "2023-12-01T16:03:48.208599",
     "status": "completed"
    },
    "tags": []
   },
   "outputs": [],
   "source": [
    "model_checkpoint = keras.callbacks.ModelCheckpoint(\n",
    "    'best_model.h5',  # Save the best weights to this file\n",
    "    save_best_only=True,  # Only save the best weights based on the validation loss\n",
    "    monitor='val_loss',  # Monitor validation loss\n",
    "    mode='min',  # Mode can be 'min' or 'max' depending on the metric to minimize or maximize\n",
    "    verbose=1  # Display messages when saving the best weights\n",
    ")"
   ]
  },
  {
   "cell_type": "code",
   "execution_count": 15,
   "id": "0f44d6da",
   "metadata": {
    "execution": {
     "iopub.execute_input": "2023-12-01T16:03:48.237683Z",
     "iopub.status.busy": "2023-12-01T16:03:48.237425Z",
     "iopub.status.idle": "2023-12-01T16:04:55.783404Z",
     "shell.execute_reply": "2023-12-01T16:04:55.782353Z"
    },
    "papermill": {
     "duration": 67.555542,
     "end_time": "2023-12-01T16:04:55.785356",
     "exception": false,
     "start_time": "2023-12-01T16:03:48.229814",
     "status": "completed"
    },
    "tags": []
   },
   "outputs": [
    {
     "name": "stdout",
     "output_type": "stream",
     "text": [
      "Epoch 1/20\n",
      "917/919 [============================>.] - ETA: 0s - loss: 0.1456 - accuracy: 0.9548\n",
      "Epoch 1: val_loss improved from inf to 0.06157, saving model to best_model.h5\n",
      "919/919 [==============================] - 14s 8ms/step - loss: 0.1455 - accuracy: 0.9549 - val_loss: 0.0616 - val_accuracy: 0.9805\n",
      "Epoch 2/20\n",
      "915/919 [============================>.] - ETA: 0s - loss: 0.0523 - accuracy: 0.9843\n",
      "Epoch 2: val_loss improved from 0.06157 to 0.05100, saving model to best_model.h5\n",
      "919/919 [==============================] - 7s 7ms/step - loss: 0.0522 - accuracy: 0.9844 - val_loss: 0.0510 - val_accuracy: 0.9861\n",
      "Epoch 3/20\n",
      "919/919 [==============================] - ETA: 0s - loss: 0.0376 - accuracy: 0.9896\n",
      "Epoch 3: val_loss did not improve from 0.05100\n",
      "919/919 [==============================] - 6s 7ms/step - loss: 0.0376 - accuracy: 0.9896 - val_loss: 0.0565 - val_accuracy: 0.9850\n",
      "Epoch 4/20\n",
      "919/919 [==============================] - ETA: 0s - loss: 0.0304 - accuracy: 0.9917\n",
      "Epoch 4: val_loss improved from 0.05100 to 0.04235, saving model to best_model.h5\n",
      "919/919 [==============================] - 7s 7ms/step - loss: 0.0304 - accuracy: 0.9917 - val_loss: 0.0423 - val_accuracy: 0.9887\n",
      "Epoch 5/20\n",
      "915/919 [============================>.] - ETA: 0s - loss: 0.0234 - accuracy: 0.9927\n",
      "Epoch 5: val_loss did not improve from 0.04235\n",
      "919/919 [==============================] - 7s 7ms/step - loss: 0.0233 - accuracy: 0.9928 - val_loss: 0.0598 - val_accuracy: 0.9872\n",
      "Epoch 6/20\n",
      "919/919 [==============================] - ETA: 0s - loss: 0.0210 - accuracy: 0.9947\n",
      "Epoch 6: val_loss did not improve from 0.04235\n",
      "919/919 [==============================] - 7s 7ms/step - loss: 0.0210 - accuracy: 0.9947 - val_loss: 0.0523 - val_accuracy: 0.9886\n",
      "Epoch 7/20\n",
      "915/919 [============================>.] - ETA: 0s - loss: 0.0166 - accuracy: 0.9955\n",
      "Epoch 7: val_loss did not improve from 0.04235\n",
      "919/919 [==============================] - 7s 7ms/step - loss: 0.0173 - accuracy: 0.9955 - val_loss: 0.0608 - val_accuracy: 0.9874\n",
      "Epoch 8/20\n",
      "917/919 [============================>.] - ETA: 0s - loss: 0.0133 - accuracy: 0.9967\n",
      "Epoch 8: val_loss did not improve from 0.04235\n",
      "919/919 [==============================] - 7s 7ms/step - loss: 0.0132 - accuracy: 0.9967 - val_loss: 0.0822 - val_accuracy: 0.9851\n",
      "Epoch 9/20\n",
      "919/919 [==============================] - ETA: 0s - loss: 0.0135 - accuracy: 0.9969\n",
      "Epoch 9: val_loss did not improve from 0.04235\n",
      "919/919 [==============================] - 7s 7ms/step - loss: 0.0135 - accuracy: 0.9969 - val_loss: 0.0871 - val_accuracy: 0.9867\n"
     ]
    }
   ],
   "source": [
    "history = model.fit(\n",
    "    images_train_with_channel, \n",
    "    labels_train_one_hot,\n",
    "    validation_data=(images_valid_with_channel, labels_valid_one_hot),\n",
    "    epochs=20,\n",
    "    callbacks=[early_stopping,model_checkpoint],\n",
    ")"
   ]
  },
  {
   "cell_type": "code",
   "execution_count": 16,
   "id": "5309af2a",
   "metadata": {
    "execution": {
     "iopub.execute_input": "2023-12-01T16:04:55.988113Z",
     "iopub.status.busy": "2023-12-01T16:04:55.987766Z",
     "iopub.status.idle": "2023-12-01T16:04:55.992990Z",
     "shell.execute_reply": "2023-12-01T16:04:55.992060Z"
    },
    "papermill": {
     "duration": 0.086145,
     "end_time": "2023-12-01T16:04:55.994836",
     "exception": false,
     "start_time": "2023-12-01T16:04:55.908691",
     "status": "completed"
    },
    "tags": []
   },
   "outputs": [],
   "source": [
    "history_frame = pd.DataFrame(history.history)"
   ]
  },
  {
   "cell_type": "code",
   "execution_count": 17,
   "id": "7eef95b8",
   "metadata": {
    "execution": {
     "iopub.execute_input": "2023-12-01T16:04:56.152313Z",
     "iopub.status.busy": "2023-12-01T16:04:56.151983Z",
     "iopub.status.idle": "2023-12-01T16:04:56.679412Z",
     "shell.execute_reply": "2023-12-01T16:04:56.678470Z"
    },
    "papermill": {
     "duration": 0.609701,
     "end_time": "2023-12-01T16:04:56.681484",
     "exception": false,
     "start_time": "2023-12-01T16:04:56.071783",
     "status": "completed"
    },
    "tags": []
   },
   "outputs": [
    {
     "data": {
      "text/plain": [
       "<Axes: >"
      ]
     },
     "execution_count": 17,
     "metadata": {},
     "output_type": "execute_result"
    },
    {
     "data": {
      "image/png": "[encoded data removed]",
      "text/plain": [
       "<Figure size 640x480 with 1 Axes>"
      ]
     },
     "metadata": {},
     "output_type": "display_data"
    },
    {
     "data": {
      "image/png": "[encoded data removed]",
      "text/plain": [
       "<Figure size 640x480 with 1 Axes>"
      ]
     },
     "metadata": {},
     "output_type": "display_data"
    }
   ],
   "source": [
    "history_frame.loc[3:, ['loss', 'val_loss']].plot()\n",
    "history_frame.loc[3:, ['accuracy', 'val_accuracy']].plot()"
   ]
  },
  {
   "cell_type": "code",
   "execution_count": 18,
   "id": "3e998f4c",
   "metadata": {
    "execution": {
     "iopub.execute_input": "2023-12-01T16:04:56.841408Z",
     "iopub.status.busy": "2023-12-01T16:04:56.840727Z",
     "iopub.status.idle": "2023-12-01T16:04:56.960262Z",
     "shell.execute_reply": "2023-12-01T16:04:56.959247Z"
    },
    "papermill": {
     "duration": 0.202086,
     "end_time": "2023-12-01T16:04:56.962852",
     "exception": false,
     "start_time": "2023-12-01T16:04:56.760766",
     "status": "completed"
    },
    "tags": []
   },
   "outputs": [],
   "source": [
    "best_model = keras.models.load_model('best_model.h5')"
   ]
  },
  {
   "cell_type": "code",
   "execution_count": 19,
   "id": "bd68dbb5",
   "metadata": {
    "execution": {
     "iopub.execute_input": "2023-12-01T16:04:57.122029Z",
     "iopub.status.busy": "2023-12-01T16:04:57.121301Z",
     "iopub.status.idle": "2023-12-01T16:04:58.794848Z",
     "shell.execute_reply": "2023-12-01T16:04:58.793790Z"
    },
    "papermill": {
     "duration": 1.75526,
     "end_time": "2023-12-01T16:04:58.796877",
     "exception": false,
     "start_time": "2023-12-01T16:04:57.041617",
     "status": "completed"
    },
    "tags": []
   },
   "outputs": [
    {
     "name": "stdout",
     "output_type": "stream",
     "text": [
      "394/394 [==============================] - 1s 3ms/step - loss: 0.0423 - accuracy: 0.9887\n",
      "valid_acc: 0.9887301325798035\n"
     ]
    }
   ],
   "source": [
    "valid_loss, valid_acc = best_model.evaluate(images_valid_with_channel, labels_valid_one_hot)\n",
    "print('valid_acc:', valid_acc)"
   ]
  },
  {
   "cell_type": "code",
   "execution_count": 20,
   "id": "8bf5533e",
   "metadata": {
    "execution": {
     "iopub.execute_input": "2023-12-01T16:04:58.961700Z",
     "iopub.status.busy": "2023-12-01T16:04:58.960582Z",
     "iopub.status.idle": "2023-12-01T16:04:58.965393Z",
     "shell.execute_reply": "2023-12-01T16:04:58.964614Z"
    },
    "papermill": {
     "duration": 0.089497,
     "end_time": "2023-12-01T16:04:58.967455",
     "exception": false,
     "start_time": "2023-12-01T16:04:58.877958",
     "status": "completed"
    },
    "tags": []
   },
   "outputs": [],
   "source": [
    "images_test = test.values.reshape(-1, 28, 28)\n",
    "images_test_with_channel = images_test[..., np.newaxis]"
   ]
  },
  {
   "cell_type": "code",
   "execution_count": 21,
   "id": "a6df0f29",
   "metadata": {
    "execution": {
     "iopub.execute_input": "2023-12-01T16:04:59.130294Z",
     "iopub.status.busy": "2023-12-01T16:04:59.129363Z",
     "iopub.status.idle": "2023-12-01T16:05:02.025419Z",
     "shell.execute_reply": "2023-12-01T16:05:02.024568Z"
    },
    "papermill": {
     "duration": 2.979672,
     "end_time": "2023-12-01T16:05:02.027925",
     "exception": false,
     "start_time": "2023-12-01T16:04:59.048253",
     "status": "completed"
    },
    "tags": []
   },
   "outputs": [
    {
     "name": "stdout",
     "output_type": "stream",
     "text": [
      "875/875 [==============================] - 2s 2ms/step\n"
     ]
    }
   ],
   "source": [
    "pred = best_model.predict(images_test)"
   ]
  },
  {
   "cell_type": "code",
   "execution_count": 22,
   "id": "a18d69b3",
   "metadata": {
    "execution": {
     "iopub.execute_input": "2023-12-01T16:05:02.198479Z",
     "iopub.status.busy": "2023-12-01T16:05:02.197631Z",
     "iopub.status.idle": "2023-12-01T16:05:02.203335Z",
     "shell.execute_reply": "2023-12-01T16:05:02.202404Z"
    },
    "papermill": {
     "duration": 0.092517,
     "end_time": "2023-12-01T16:05:02.205377",
     "exception": false,
     "start_time": "2023-12-01T16:05:02.112860",
     "status": "completed"
    },
    "tags": []
   },
   "outputs": [],
   "source": [
    "predicted_classes = np.argmax(pred, axis=1)"
   ]
  },
  {
   "cell_type": "code",
   "execution_count": 23,
   "id": "595998cd",
   "metadata": {
    "execution": {
     "iopub.execute_input": "2023-12-01T16:05:02.377724Z",
     "iopub.status.busy": "2023-12-01T16:05:02.376950Z",
     "iopub.status.idle": "2023-12-01T16:05:02.381593Z",
     "shell.execute_reply": "2023-12-01T16:05:02.380718Z"
    },
    "papermill": {
     "duration": 0.091073,
     "end_time": "2023-12-01T16:05:02.383463",
     "exception": false,
     "start_time": "2023-12-01T16:05:02.292390",
     "status": "completed"
    },
    "tags": []
   },
   "outputs": [],
   "source": [
    "image_ids = np.arange(1, len(predicted_classes) + 1)"
   ]
  },
  {
   "cell_type": "code",
   "execution_count": 24,
   "id": "b1a4fa2a",
   "metadata": {
    "execution": {
     "iopub.execute_input": "2023-12-01T16:05:02.553189Z",
     "iopub.status.busy": "2023-12-01T16:05:02.552527Z",
     "iopub.status.idle": "2023-12-01T16:05:02.557503Z",
     "shell.execute_reply": "2023-12-01T16:05:02.556651Z"
    },
    "papermill": {
     "duration": 0.091159,
     "end_time": "2023-12-01T16:05:02.559330",
     "exception": false,
     "start_time": "2023-12-01T16:05:02.468171",
     "status": "completed"
    },
    "tags": []
   },
   "outputs": [],
   "source": [
    "df_submission = pd.DataFrame({\n",
    "    'ImageId': image_ids,\n",
    "    'Label': predicted_classes\n",
    "})"
   ]
  },
  {
   "cell_type": "code",
   "execution_count": 25,
   "id": "cf5063df",
   "metadata": {
    "execution": {
     "iopub.execute_input": "2023-12-01T16:05:02.726992Z",
     "iopub.status.busy": "2023-12-01T16:05:02.726606Z",
     "iopub.status.idle": "2023-12-01T16:05:02.787385Z",
     "shell.execute_reply": "2023-12-01T16:05:02.786231Z"
    },
    "papermill": {
     "duration": 0.147514,
     "end_time": "2023-12-01T16:05:02.789901",
     "exception": false,
     "start_time": "2023-12-01T16:05:02.642387",
     "status": "completed"
    },
    "tags": []
   },
   "outputs": [],
   "source": [
    "df_submission.to_csv('submission4.csv', index=False)"
   ]
  }
 ],
 "metadata": {
  "kaggle": {
   "accelerator": "gpu",
   "dataSources": [
    {
     "databundleVersionId": 861823,
     "sourceId": 3004,
     "sourceType": "competition"
    },
    {
     "datasetId": 708136,
     "sourceId": 1338830,
     "sourceType": "datasetVersion"
    }
   ],
   "dockerImageVersionId": 30558,
   "isGpuEnabled": true,
   "isInternetEnabled": true,
   "language": "python",
   "sourceType": "notebook"
  },
  "kernelspec": {
   "display_name": "Python 3",
   "language": "python",
   "name": "python3"
  },
  "language_info": {
   "codemirror_mode": {
    "name": "ipython",
    "version": 3
   },
   "file_extension": ".py",
   "mimetype": "text/x-python",
   "name": "python",
   "nbconvert_exporter": "python",
   "pygments_lexer": "ipython3",
   "version": "3.10.12"
  },
  "papermill": {
   "default_parameters": {},
   "duration": 99.555874,
   "end_time": "2023-12-01T16:05:05.905350",
   "environment_variables": {},
   "exception": null,
   "input_path": "__notebook__.ipynb",
   "output_path": "__notebook__.ipynb",
   "parameters": {},
   "start_time": "2023-12-01T16:03:26.349476",
   "version": "2.4.0"
  }
 },
 "nbformat": 4,
 "nbformat_minor": 5
}
