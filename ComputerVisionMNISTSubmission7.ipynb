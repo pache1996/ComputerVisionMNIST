{
 "cells": [
  {
   "cell_type": "markdown",
   "id": "48706d5d",
   "metadata": {
    "papermill": {
     "duration": 0.007583,
     "end_time": "2023-12-01T17:49:44.278659",
     "exception": false,
     "start_time": "2023-12-01T17:49:44.271076",
     "status": "completed"
    },
    "tags": []
   },
   "source": [
    "# Intro\n",
    "Basically this environment is to essay different things from preprocessing to everything else. "
   ]
  },
  {
   "cell_type": "code",
   "execution_count": 1,
   "id": "7548ac95",
   "metadata": {
    "execution": {
     "iopub.execute_input": "2023-12-01T17:49:44.294676Z",
     "iopub.status.busy": "2023-12-01T17:49:44.294295Z",
     "iopub.status.idle": "2023-12-01T17:49:54.154656Z",
     "shell.execute_reply": "2023-12-01T17:49:54.153604Z"
    },
    "papermill": {
     "duration": 9.871324,
     "end_time": "2023-12-01T17:49:54.157059",
     "exception": false,
     "start_time": "2023-12-01T17:49:44.285735",
     "status": "completed"
    },
    "tags": []
   },
   "outputs": [
    {
     "name": "stderr",
     "output_type": "stream",
     "text": [
      "/opt/conda/lib/python3.10/site-packages/scipy/__init__.py:146: UserWarning: A NumPy version >=1.16.5 and <1.23.0 is required for this version of SciPy (detected version 1.23.5\n",
      "  warnings.warn(f\"A NumPy version >={np_minversion} and <{np_maxversion}\"\n"
     ]
    }
   ],
   "source": [
    "import pandas as pd \n",
    "import seaborn as sns\n",
    "import matplotlib.pyplot as plt\n",
    "import os\n",
    "import numpy as np\n",
    "import tensorflow as tf\n",
    "from sklearn.model_selection import train_test_split\n",
    "from tensorflow.keras.layers.experimental import preprocessing\n",
    "from tensorflow import keras\n",
    "from tensorflow.keras import layers\n",
    "\n",
    "def set_seed(seed=35643419):\n",
    "    np.random.seed(seed)\n",
    "    tf.random.set_seed(seed)\n",
    "    os.environ['PYTHONHASHSEED'] = str(seed)\n",
    "    os.environ['TF_DETERMINISTIC_OPS'] = '1'\n",
    "set_seed(35643419)"
   ]
  },
  {
   "cell_type": "code",
   "execution_count": 2,
   "id": "bb16767d",
   "metadata": {
    "execution": {
     "iopub.execute_input": "2023-12-01T17:49:54.173735Z",
     "iopub.status.busy": "2023-12-01T17:49:54.173211Z",
     "iopub.status.idle": "2023-12-01T17:49:59.723696Z",
     "shell.execute_reply": "2023-12-01T17:49:59.722838Z"
    },
    "papermill": {
     "duration": 5.561168,
     "end_time": "2023-12-01T17:49:59.726029",
     "exception": false,
     "start_time": "2023-12-01T17:49:54.164861",
     "status": "completed"
    },
    "tags": []
   },
   "outputs": [],
   "source": [
    "train = pd.read_csv('/kaggle/input/digit-recognizer/train.csv')\n",
    "test = pd.read_csv('/kaggle/input/digit-recognizer/test.csv')"
   ]
  },
  {
   "cell_type": "code",
   "execution_count": 3,
   "id": "f4b30894",
   "metadata": {
    "execution": {
     "iopub.execute_input": "2023-12-01T17:49:59.741971Z",
     "iopub.status.busy": "2023-12-01T17:49:59.741689Z",
     "iopub.status.idle": "2023-12-01T17:49:59.745768Z",
     "shell.execute_reply": "2023-12-01T17:49:59.744906Z"
    },
    "papermill": {
     "duration": 0.014207,
     "end_time": "2023-12-01T17:49:59.747684",
     "exception": false,
     "start_time": "2023-12-01T17:49:59.733477",
     "status": "completed"
    },
    "tags": []
   },
   "outputs": [],
   "source": [
    "#train.head()"
   ]
  },
  {
   "cell_type": "code",
   "execution_count": 4,
   "id": "cd2538b3",
   "metadata": {
    "execution": {
     "iopub.execute_input": "2023-12-01T17:49:59.762853Z",
     "iopub.status.busy": "2023-12-01T17:49:59.762584Z",
     "iopub.status.idle": "2023-12-01T17:49:59.766117Z",
     "shell.execute_reply": "2023-12-01T17:49:59.765312Z"
    },
    "papermill": {
     "duration": 0.013013,
     "end_time": "2023-12-01T17:49:59.767851",
     "exception": false,
     "start_time": "2023-12-01T17:49:59.754838",
     "status": "completed"
    },
    "tags": []
   },
   "outputs": [],
   "source": [
    "#We have more or less the same distribution of numbers\n",
    "#sns.histplot(train.label)"
   ]
  },
  {
   "cell_type": "code",
   "execution_count": 5,
   "id": "792c7a72",
   "metadata": {
    "execution": {
     "iopub.execute_input": "2023-12-01T17:49:59.782929Z",
     "iopub.status.busy": "2023-12-01T17:49:59.782664Z",
     "iopub.status.idle": "2023-12-01T17:49:59.874199Z",
     "shell.execute_reply": "2023-12-01T17:49:59.873222Z"
    },
    "papermill": {
     "duration": 0.101449,
     "end_time": "2023-12-01T17:49:59.876318",
     "exception": false,
     "start_time": "2023-12-01T17:49:59.774869",
     "status": "completed"
    },
    "tags": []
   },
   "outputs": [],
   "source": [
    "labels = train['label']\n",
    "pixels = train.drop('label', axis=1)\n",
    "\n",
    "images = pixels.values.reshape(-1, 28, 28)\n",
    "\n",
    "#for i in [0,1,2,3,4]:\n",
    " #   plt.imshow(images[i], cmap='gray')\n",
    "  #  plt.title(f\"Label: {labels[i]}\")\n",
    "   # plt.show()"
   ]
  },
  {
   "cell_type": "code",
   "execution_count": 6,
   "id": "f1929df8",
   "metadata": {
    "execution": {
     "iopub.execute_input": "2023-12-01T17:49:59.892011Z",
     "iopub.status.busy": "2023-12-01T17:49:59.891743Z",
     "iopub.status.idle": "2023-12-01T17:50:00.125348Z",
     "shell.execute_reply": "2023-12-01T17:50:00.124548Z"
    },
    "papermill": {
     "duration": 0.243997,
     "end_time": "2023-12-01T17:50:00.127721",
     "exception": false,
     "start_time": "2023-12-01T17:49:59.883724",
     "status": "completed"
    },
    "tags": []
   },
   "outputs": [],
   "source": [
    "pixels_train, pixels_valid, labels_train, labels_valid = train_test_split(\n",
    "    pixels,  \n",
    "    labels,  \n",
    "    test_size=0.3,\n",
    "    random_state=35643419 \n",
    ")"
   ]
  },
  {
   "cell_type": "code",
   "execution_count": 7,
   "id": "716b734e",
   "metadata": {
    "execution": {
     "iopub.execute_input": "2023-12-01T17:50:00.143381Z",
     "iopub.status.busy": "2023-12-01T17:50:00.143058Z",
     "iopub.status.idle": "2023-12-01T17:50:00.147613Z",
     "shell.execute_reply": "2023-12-01T17:50:00.146751Z"
    },
    "papermill": {
     "duration": 0.014573,
     "end_time": "2023-12-01T17:50:00.149655",
     "exception": false,
     "start_time": "2023-12-01T17:50:00.135082",
     "status": "completed"
    },
    "tags": []
   },
   "outputs": [],
   "source": [
    "images_train = pixels_train.values.reshape(-1, 28, 28)\n",
    "images_valid = pixels_valid.values.reshape(-1,28,28)"
   ]
  },
  {
   "cell_type": "code",
   "execution_count": 8,
   "id": "77ea6e1e",
   "metadata": {
    "execution": {
     "iopub.execute_input": "2023-12-01T17:50:00.164925Z",
     "iopub.status.busy": "2023-12-01T17:50:00.164670Z",
     "iopub.status.idle": "2023-12-01T17:50:00.169864Z",
     "shell.execute_reply": "2023-12-01T17:50:00.169192Z"
    },
    "papermill": {
     "duration": 0.01503,
     "end_time": "2023-12-01T17:50:00.171753",
     "exception": false,
     "start_time": "2023-12-01T17:50:00.156723",
     "status": "completed"
    },
    "tags": []
   },
   "outputs": [],
   "source": [
    "labels_train_one_hot = tf.keras.utils.to_categorical(labels_train, num_classes=10)\n",
    "labels_valid_one_hot = tf.keras.utils.to_categorical(labels_valid, num_classes=10)"
   ]
  },
  {
   "cell_type": "code",
   "execution_count": 9,
   "id": "43d9c024",
   "metadata": {
    "execution": {
     "iopub.execute_input": "2023-12-01T17:50:00.186866Z",
     "iopub.status.busy": "2023-12-01T17:50:00.186593Z",
     "iopub.status.idle": "2023-12-01T17:50:00.190775Z",
     "shell.execute_reply": "2023-12-01T17:50:00.189938Z"
    },
    "papermill": {
     "duration": 0.014064,
     "end_time": "2023-12-01T17:50:00.192709",
     "exception": false,
     "start_time": "2023-12-01T17:50:00.178645",
     "status": "completed"
    },
    "tags": []
   },
   "outputs": [],
   "source": [
    "images_train_with_channel = images_train[..., np.newaxis]\n",
    "images_valid_with_channel = images_valid[..., np.newaxis]"
   ]
  },
  {
   "cell_type": "code",
   "execution_count": 10,
   "id": "0951eb54",
   "metadata": {
    "execution": {
     "iopub.execute_input": "2023-12-01T17:50:00.207712Z",
     "iopub.status.busy": "2023-12-01T17:50:00.207470Z",
     "iopub.status.idle": "2023-12-01T17:50:00.211003Z",
     "shell.execute_reply": "2023-12-01T17:50:00.210218Z"
    },
    "papermill": {
     "duration": 0.013142,
     "end_time": "2023-12-01T17:50:00.212803",
     "exception": false,
     "start_time": "2023-12-01T17:50:00.199661",
     "status": "completed"
    },
    "tags": []
   },
   "outputs": [],
   "source": [
    "#pretrained_base = tf.keras.models.load_model(\n",
    " #   '../input/cv-course-models/cv-course-models/inceptionv3',\n",
    "#)\n",
    "#pretrained_base.trainable = False"
   ]
  },
  {
   "cell_type": "code",
   "execution_count": 11,
   "id": "cd489c63",
   "metadata": {
    "execution": {
     "iopub.execute_input": "2023-12-01T17:50:00.227946Z",
     "iopub.status.busy": "2023-12-01T17:50:00.227707Z",
     "iopub.status.idle": "2023-12-01T17:50:03.382240Z",
     "shell.execute_reply": "2023-12-01T17:50:03.381400Z"
    },
    "papermill": {
     "duration": 3.164749,
     "end_time": "2023-12-01T17:50:03.384468",
     "exception": false,
     "start_time": "2023-12-01T17:50:00.219719",
     "status": "completed"
    },
    "tags": []
   },
   "outputs": [],
   "source": [
    "model = keras.Sequential([\n",
    "    preprocessing.Rescaling(scale=1./255),\n",
    "    #Filter + detect : obtain 32 features, moving 1 pixel in the two dimensions, treating borders equally (same)\n",
    "    layers.Conv2D(filters=32,kernel_size=5,strides=1,padding='valid',activation='relu', input_shape=(28, 28, 1)),\n",
    "    #Condense features\n",
    "    layers.MaxPool2D(pool_size=2,strides=1,padding='valid'),\n",
    "\n",
    "    layers.Conv2D(filters=64,kernel_size=5,strides=1,padding='valid',activation='relu'),\n",
    "    layers.MaxPool2D(pool_size=2,strides=1,padding='valid'),\n",
    "    \n",
    "    layers.Conv2D(filters=128, kernel_size=5, strides=1, padding='valid', activation='relu'),\n",
    "    layers.MaxPool2D(pool_size=2, strides=1, padding='valid'),\n",
    "    \n",
    "    layers.Flatten(),\n",
    "    layers.Dense(10, activation='softmax'),\n",
    "])"
   ]
  },
  {
   "cell_type": "code",
   "execution_count": 12,
   "id": "b8e0242b",
   "metadata": {
    "execution": {
     "iopub.execute_input": "2023-12-01T17:50:03.400078Z",
     "iopub.status.busy": "2023-12-01T17:50:03.399786Z",
     "iopub.status.idle": "2023-12-01T17:50:03.422867Z",
     "shell.execute_reply": "2023-12-01T17:50:03.422135Z"
    },
    "papermill": {
     "duration": 0.032914,
     "end_time": "2023-12-01T17:50:03.424731",
     "exception": false,
     "start_time": "2023-12-01T17:50:03.391817",
     "status": "completed"
    },
    "tags": []
   },
   "outputs": [],
   "source": [
    "model.compile(\n",
    "    optimizer='rmsprop',\n",
    "    loss='categorical_crossentropy',\n",
    "    metrics=['accuracy'],\n",
    ")"
   ]
  },
  {
   "cell_type": "code",
   "execution_count": 13,
   "id": "e93bfae1",
   "metadata": {
    "execution": {
     "iopub.execute_input": "2023-12-01T17:50:03.440083Z",
     "iopub.status.busy": "2023-12-01T17:50:03.439790Z",
     "iopub.status.idle": "2023-12-01T17:50:03.444001Z",
     "shell.execute_reply": "2023-12-01T17:50:03.443167Z"
    },
    "papermill": {
     "duration": 0.014027,
     "end_time": "2023-12-01T17:50:03.445838",
     "exception": false,
     "start_time": "2023-12-01T17:50:03.431811",
     "status": "completed"
    },
    "tags": []
   },
   "outputs": [],
   "source": [
    "early_stopping = keras.callbacks.EarlyStopping(\n",
    "    patience=5,\n",
    "    min_delta=0.001,\n",
    "    restore_best_weights=True,\n",
    ")"
   ]
  },
  {
   "cell_type": "code",
   "execution_count": 14,
   "id": "e410c41e",
   "metadata": {
    "execution": {
     "iopub.execute_input": "2023-12-01T17:50:03.460969Z",
     "iopub.status.busy": "2023-12-01T17:50:03.460718Z",
     "iopub.status.idle": "2023-12-01T17:50:03.465132Z",
     "shell.execute_reply": "2023-12-01T17:50:03.464304Z"
    },
    "papermill": {
     "duration": 0.0143,
     "end_time": "2023-12-01T17:50:03.467097",
     "exception": false,
     "start_time": "2023-12-01T17:50:03.452797",
     "status": "completed"
    },
    "tags": []
   },
   "outputs": [],
   "source": [
    "model_checkpoint = keras.callbacks.ModelCheckpoint(\n",
    "    'best_model.h5',  # Save the best weights to this file\n",
    "    save_best_only=True,  # Only save the best weights based on the validation loss\n",
    "    monitor='val_loss',  # Monitor validation loss\n",
    "    mode='min',  # Mode can be 'min' or 'max' depending on the metric to minimize or maximize\n",
    "    verbose=1  # Display messages when saving the best weights\n",
    ")"
   ]
  },
  {
   "cell_type": "code",
   "execution_count": 15,
   "id": "c0b1b736",
   "metadata": {
    "execution": {
     "iopub.execute_input": "2023-12-01T17:50:03.482495Z",
     "iopub.status.busy": "2023-12-01T17:50:03.482240Z",
     "iopub.status.idle": "2023-12-01T17:50:52.634419Z",
     "shell.execute_reply": "2023-12-01T17:50:52.633568Z"
    },
    "papermill": {
     "duration": 49.162264,
     "end_time": "2023-12-01T17:50:52.636347",
     "exception": false,
     "start_time": "2023-12-01T17:50:03.474083",
     "status": "completed"
    },
    "tags": []
   },
   "outputs": [
    {
     "name": "stdout",
     "output_type": "stream",
     "text": [
      "Epoch 1/20\n",
      "919/919 [==============================] - ETA: 0s - loss: 0.1507 - accuracy: 0.9529\n",
      "Epoch 1: val_loss improved from inf to 0.05091, saving model to best_model.h5\n",
      "919/919 [==============================] - 14s 6ms/step - loss: 0.1507 - accuracy: 0.9529 - val_loss: 0.0509 - val_accuracy: 0.9844\n",
      "Epoch 2/20\n",
      "908/919 [============================>.] - ETA: 0s - loss: 0.0528 - accuracy: 0.9850\n",
      "Epoch 2: val_loss improved from 0.05091 to 0.04910, saving model to best_model.h5\n",
      "919/919 [==============================] - 5s 5ms/step - loss: 0.0530 - accuracy: 0.9850 - val_loss: 0.0491 - val_accuracy: 0.9874\n",
      "Epoch 3/20\n",
      "912/919 [============================>.] - ETA: 0s - loss: 0.0403 - accuracy: 0.9886\n",
      "Epoch 3: val_loss improved from 0.04910 to 0.04410, saving model to best_model.h5\n",
      "919/919 [==============================] - 5s 5ms/step - loss: 0.0401 - accuracy: 0.9887 - val_loss: 0.0441 - val_accuracy: 0.9881\n",
      "Epoch 4/20\n",
      "910/919 [============================>.] - ETA: 0s - loss: 0.0362 - accuracy: 0.9899\n",
      "Epoch 4: val_loss did not improve from 0.04410\n",
      "919/919 [==============================] - 5s 5ms/step - loss: 0.0361 - accuracy: 0.9899 - val_loss: 0.0643 - val_accuracy: 0.9864\n",
      "Epoch 5/20\n",
      "918/919 [============================>.] - ETA: 0s - loss: 0.0323 - accuracy: 0.9911\n",
      "Epoch 5: val_loss did not improve from 0.04410\n",
      "919/919 [==============================] - 5s 5ms/step - loss: 0.0323 - accuracy: 0.9912 - val_loss: 0.0497 - val_accuracy: 0.9887\n",
      "Epoch 6/20\n",
      "918/919 [============================>.] - ETA: 0s - loss: 0.0268 - accuracy: 0.9933\n",
      "Epoch 6: val_loss did not improve from 0.04410\n",
      "919/919 [==============================] - 5s 5ms/step - loss: 0.0268 - accuracy: 0.9933 - val_loss: 0.0588 - val_accuracy: 0.9869\n",
      "Epoch 7/20\n",
      "913/919 [============================>.] - ETA: 0s - loss: 0.0243 - accuracy: 0.9941\n",
      "Epoch 7: val_loss did not improve from 0.04410\n",
      "919/919 [==============================] - 5s 5ms/step - loss: 0.0243 - accuracy: 0.9941 - val_loss: 0.0487 - val_accuracy: 0.9887\n",
      "Epoch 8/20\n",
      "908/919 [============================>.] - ETA: 0s - loss: 0.0237 - accuracy: 0.9947\n",
      "Epoch 8: val_loss did not improve from 0.04410\n",
      "919/919 [==============================] - 5s 5ms/step - loss: 0.0235 - accuracy: 0.9947 - val_loss: 0.0772 - val_accuracy: 0.9892\n"
     ]
    }
   ],
   "source": [
    "history = model.fit(\n",
    "    images_train_with_channel, \n",
    "    labels_train_one_hot,\n",
    "    validation_data=(images_valid_with_channel, labels_valid_one_hot),\n",
    "    epochs=20,\n",
    "    callbacks=[early_stopping,model_checkpoint],\n",
    ")"
   ]
  },
  {
   "cell_type": "code",
   "execution_count": 16,
   "id": "ffa05191",
   "metadata": {
    "execution": {
     "iopub.execute_input": "2023-12-01T17:50:52.746771Z",
     "iopub.status.busy": "2023-12-01T17:50:52.746176Z",
     "iopub.status.idle": "2023-12-01T17:50:52.750977Z",
     "shell.execute_reply": "2023-12-01T17:50:52.750115Z"
    },
    "papermill": {
     "duration": 0.061685,
     "end_time": "2023-12-01T17:50:52.752897",
     "exception": false,
     "start_time": "2023-12-01T17:50:52.691212",
     "status": "completed"
    },
    "tags": []
   },
   "outputs": [],
   "source": [
    "history_frame = pd.DataFrame(history.history)"
   ]
  },
  {
   "cell_type": "code",
   "execution_count": 17,
   "id": "c6ccce97",
   "metadata": {
    "execution": {
     "iopub.execute_input": "2023-12-01T17:50:52.906063Z",
     "iopub.status.busy": "2023-12-01T17:50:52.905425Z",
     "iopub.status.idle": "2023-12-01T17:50:53.384859Z",
     "shell.execute_reply": "2023-12-01T17:50:53.383918Z"
    },
    "papermill": {
     "duration": 0.53655,
     "end_time": "2023-12-01T17:50:53.386851",
     "exception": false,
     "start_time": "2023-12-01T17:50:52.850301",
     "status": "completed"
    },
    "tags": []
   },
   "outputs": [
    {
     "data": {
      "text/plain": [
       "<Axes: >"
      ]
     },
     "execution_count": 17,
     "metadata": {},
     "output_type": "execute_result"
    },
    {
     "data": {
      "image/png": "[encoded data removed]",
      "text/plain": [
       "<Figure size 640x480 with 1 Axes>"
      ]
     },
     "metadata": {},
     "output_type": "display_data"
    },
    {
     "data": {
      "image/png": "[encoded data removed]",
      "text/plain": [
       "<Figure size 640x480 with 1 Axes>"
      ]
     },
     "metadata": {},
     "output_type": "display_data"
    }
   ],
   "source": [
    "history_frame.loc[3:, ['loss', 'val_loss']].plot()\n",
    "history_frame.loc[3:, ['accuracy', 'val_accuracy']].plot()"
   ]
  },
  {
   "cell_type": "code",
   "execution_count": 18,
   "id": "b7ef0f09",
   "metadata": {
    "execution": {
     "iopub.execute_input": "2023-12-01T17:50:53.499984Z",
     "iopub.status.busy": "2023-12-01T17:50:53.499665Z",
     "iopub.status.idle": "2023-12-01T17:50:53.606271Z",
     "shell.execute_reply": "2023-12-01T17:50:53.605501Z"
    },
    "papermill": {
     "duration": 0.165971,
     "end_time": "2023-12-01T17:50:53.608449",
     "exception": false,
     "start_time": "2023-12-01T17:50:53.442478",
     "status": "completed"
    },
    "tags": []
   },
   "outputs": [],
   "source": [
    "best_model = keras.models.load_model('best_model.h5')"
   ]
  },
  {
   "cell_type": "code",
   "execution_count": 19,
   "id": "13b474c3",
   "metadata": {
    "execution": {
     "iopub.execute_input": "2023-12-01T17:50:53.720806Z",
     "iopub.status.busy": "2023-12-01T17:50:53.720488Z",
     "iopub.status.idle": "2023-12-01T17:50:55.239954Z",
     "shell.execute_reply": "2023-12-01T17:50:55.238458Z"
    },
    "papermill": {
     "duration": 1.577821,
     "end_time": "2023-12-01T17:50:55.241903",
     "exception": false,
     "start_time": "2023-12-01T17:50:53.664082",
     "status": "completed"
    },
    "tags": []
   },
   "outputs": [
    {
     "name": "stdout",
     "output_type": "stream",
     "text": [
      "394/394 [==============================] - 1s 3ms/step - loss: 0.0441 - accuracy: 0.9881\n",
      "valid_acc: 0.988095223903656\n"
     ]
    }
   ],
   "source": [
    "valid_loss, valid_acc = best_model.evaluate(images_valid_with_channel, labels_valid_one_hot)\n",
    "print('valid_acc:', valid_acc)"
   ]
  },
  {
   "cell_type": "code",
   "execution_count": 20,
   "id": "609fd4b0",
   "metadata": {
    "execution": {
     "iopub.execute_input": "2023-12-01T17:50:55.357720Z",
     "iopub.status.busy": "2023-12-01T17:50:55.357413Z",
     "iopub.status.idle": "2023-12-01T17:50:55.361707Z",
     "shell.execute_reply": "2023-12-01T17:50:55.360893Z"
    },
    "papermill": {
     "duration": 0.063878,
     "end_time": "2023-12-01T17:50:55.363549",
     "exception": false,
     "start_time": "2023-12-01T17:50:55.299671",
     "status": "completed"
    },
    "tags": []
   },
   "outputs": [],
   "source": [
    "images_test = test.values.reshape(-1, 28, 28)\n",
    "images_test_with_channel = images_test[..., np.newaxis]"
   ]
  },
  {
   "cell_type": "code",
   "execution_count": 21,
   "id": "70b19d81",
   "metadata": {
    "execution": {
     "iopub.execute_input": "2023-12-01T17:50:55.478053Z",
     "iopub.status.busy": "2023-12-01T17:50:55.477776Z",
     "iopub.status.idle": "2023-12-01T17:50:58.011438Z",
     "shell.execute_reply": "2023-12-01T17:50:58.010412Z"
    },
    "papermill": {
     "duration": 2.593942,
     "end_time": "2023-12-01T17:50:58.013844",
     "exception": false,
     "start_time": "2023-12-01T17:50:55.419902",
     "status": "completed"
    },
    "tags": []
   },
   "outputs": [
    {
     "name": "stdout",
     "output_type": "stream",
     "text": [
      "875/875 [==============================] - 2s 2ms/step\n"
     ]
    }
   ],
   "source": [
    "pred = best_model.predict(images_test)"
   ]
  },
  {
   "cell_type": "code",
   "execution_count": 22,
   "id": "c5f0ad81",
   "metadata": {
    "execution": {
     "iopub.execute_input": "2023-12-01T17:50:58.151313Z",
     "iopub.status.busy": "2023-12-01T17:50:58.150932Z",
     "iopub.status.idle": "2023-12-01T17:50:58.155938Z",
     "shell.execute_reply": "2023-12-01T17:50:58.155194Z"
    },
    "papermill": {
     "duration": 0.083197,
     "end_time": "2023-12-01T17:50:58.157784",
     "exception": false,
     "start_time": "2023-12-01T17:50:58.074587",
     "status": "completed"
    },
    "tags": []
   },
   "outputs": [],
   "source": [
    "predicted_classes = np.argmax(pred, axis=1)"
   ]
  },
  {
   "cell_type": "code",
   "execution_count": 23,
   "id": "33b92d2f",
   "metadata": {
    "execution": {
     "iopub.execute_input": "2023-12-01T17:50:58.280753Z",
     "iopub.status.busy": "2023-12-01T17:50:58.280391Z",
     "iopub.status.idle": "2023-12-01T17:50:58.285036Z",
     "shell.execute_reply": "2023-12-01T17:50:58.284308Z"
    },
    "papermill": {
     "duration": 0.068924,
     "end_time": "2023-12-01T17:50:58.286969",
     "exception": false,
     "start_time": "2023-12-01T17:50:58.218045",
     "status": "completed"
    },
    "tags": []
   },
   "outputs": [],
   "source": [
    "image_ids = np.arange(1, len(predicted_classes) + 1)"
   ]
  },
  {
   "cell_type": "code",
   "execution_count": 24,
   "id": "194dc286",
   "metadata": {
    "execution": {
     "iopub.execute_input": "2023-12-01T17:50:58.409471Z",
     "iopub.status.busy": "2023-12-01T17:50:58.408653Z",
     "iopub.status.idle": "2023-12-01T17:50:58.413621Z",
     "shell.execute_reply": "2023-12-01T17:50:58.412826Z"
    },
    "papermill": {
     "duration": 0.067694,
     "end_time": "2023-12-01T17:50:58.415476",
     "exception": false,
     "start_time": "2023-12-01T17:50:58.347782",
     "status": "completed"
    },
    "tags": []
   },
   "outputs": [],
   "source": [
    "df_submission = pd.DataFrame({\n",
    "    'ImageId': image_ids,\n",
    "    'Label': predicted_classes\n",
    "})"
   ]
  },
  {
   "cell_type": "code",
   "execution_count": 25,
   "id": "6ab88e6d",
   "metadata": {
    "execution": {
     "iopub.execute_input": "2023-12-01T17:50:58.536384Z",
     "iopub.status.busy": "2023-12-01T17:50:58.535605Z",
     "iopub.status.idle": "2023-12-01T17:50:58.595061Z",
     "shell.execute_reply": "2023-12-01T17:50:58.594273Z"
    },
    "papermill": {
     "duration": 0.122527,
     "end_time": "2023-12-01T17:50:58.597017",
     "exception": false,
     "start_time": "2023-12-01T17:50:58.474490",
     "status": "completed"
    },
    "tags": []
   },
   "outputs": [],
   "source": [
    "df_submission.to_csv('submission7.csv', index=False)"
   ]
  }
 ],
 "metadata": {
  "kaggle": {
   "accelerator": "gpu",
   "dataSources": [
    {
     "databundleVersionId": 861823,
     "sourceId": 3004,
     "sourceType": "competition"
    },
    {
     "datasetId": 708136,
     "sourceId": 1338830,
     "sourceType": "datasetVersion"
    }
   ],
   "dockerImageVersionId": 30558,
   "isGpuEnabled": true,
   "isInternetEnabled": true,
   "language": "python",
   "sourceType": "notebook"
  },
  "kernelspec": {
   "display_name": "Python 3",
   "language": "python",
   "name": "python3"
  },
  "language_info": {
   "codemirror_mode": {
    "name": "ipython",
    "version": 3
   },
   "file_extension": ".py",
   "mimetype": "text/x-python",
   "name": "python",
   "nbconvert_exporter": "python",
   "pygments_lexer": "ipython3",
   "version": "3.10.12"
  },
  "papermill": {
   "default_parameters": {},
   "duration": 80.548245,
   "end_time": "2023-12-01T17:51:01.504277",
   "environment_variables": {},
   "exception": null,
   "input_path": "__notebook__.ipynb",
   "output_path": "__notebook__.ipynb",
   "parameters": {},
   "start_time": "2023-12-01T17:49:40.956032",
   "version": "2.4.0"
  }
 },
 "nbformat": 4,
 "nbformat_minor": 5
}
