{
 "cells": [
  {
   "cell_type": "markdown",
   "id": "2703829e",
   "metadata": {
    "papermill": {
     "duration": 0.008628,
     "end_time": "2023-11-30T23:10:27.007417",
     "exception": false,
     "start_time": "2023-11-30T23:10:26.998789",
     "status": "completed"
    },
    "tags": []
   },
   "source": [
    "# Intro\n",
    "Basically this environment is to essay different things from preprocessing to everything else. "
   ]
  },
  {
   "cell_type": "code",
   "execution_count": 1,
   "id": "25b635aa",
   "metadata": {
    "execution": {
     "iopub.execute_input": "2023-11-30T23:10:27.026270Z",
     "iopub.status.busy": "2023-11-30T23:10:27.025476Z",
     "iopub.status.idle": "2023-11-30T23:10:40.475091Z",
     "shell.execute_reply": "2023-11-30T23:10:40.473626Z"
    },
    "papermill": {
     "duration": 13.46265,
     "end_time": "2023-11-30T23:10:40.478319",
     "exception": false,
     "start_time": "2023-11-30T23:10:27.015669",
     "status": "completed"
    },
    "tags": []
   },
   "outputs": [],
   "source": [
    "import pandas as pd \n",
    "import seaborn as sns\n",
    "import matplotlib.pyplot as plt\n",
    "import os\n",
    "import numpy as np\n",
    "import tensorflow as tf\n",
    "from sklearn.model_selection import train_test_split\n",
    "from tensorflow.keras.layers.experimental import preprocessing\n",
    "from tensorflow import keras\n",
    "from tensorflow.keras import layers\n",
    "\n",
    "def set_seed(seed=35643419):\n",
    "    np.random.seed(seed)\n",
    "    tf.random.set_seed(seed)\n",
    "    os.environ['PYTHONHASHSEED'] = str(seed)\n",
    "    os.environ['TF_DETERMINISTIC_OPS'] = '1'\n",
    "set_seed(35643419)"
   ]
  },
  {
   "cell_type": "code",
   "execution_count": 2,
   "id": "68fb3282",
   "metadata": {
    "execution": {
     "iopub.execute_input": "2023-11-30T23:10:40.499565Z",
     "iopub.status.busy": "2023-11-30T23:10:40.496825Z",
     "iopub.status.idle": "2023-11-30T23:10:47.446545Z",
     "shell.execute_reply": "2023-11-30T23:10:47.445086Z"
    },
    "papermill": {
     "duration": 6.962471,
     "end_time": "2023-11-30T23:10:47.449370",
     "exception": false,
     "start_time": "2023-11-30T23:10:40.486899",
     "status": "completed"
    },
    "tags": []
   },
   "outputs": [],
   "source": [
    "train = pd.read_csv('/kaggle/input/digit-recognizer/train.csv')\n",
    "test = pd.read_csv('/kaggle/input/digit-recognizer/test.csv')"
   ]
  },
  {
   "cell_type": "code",
   "execution_count": 3,
   "id": "42c16e37",
   "metadata": {
    "execution": {
     "iopub.execute_input": "2023-11-30T23:10:47.468116Z",
     "iopub.status.busy": "2023-11-30T23:10:47.467732Z",
     "iopub.status.idle": "2023-11-30T23:10:47.472551Z",
     "shell.execute_reply": "2023-11-30T23:10:47.471410Z"
    },
    "papermill": {
     "duration": 0.017131,
     "end_time": "2023-11-30T23:10:47.474929",
     "exception": false,
     "start_time": "2023-11-30T23:10:47.457798",
     "status": "completed"
    },
    "tags": []
   },
   "outputs": [],
   "source": [
    "#train.head()"
   ]
  },
  {
   "cell_type": "code",
   "execution_count": 4,
   "id": "6b3d4199",
   "metadata": {
    "execution": {
     "iopub.execute_input": "2023-11-30T23:10:47.493505Z",
     "iopub.status.busy": "2023-11-30T23:10:47.493042Z",
     "iopub.status.idle": "2023-11-30T23:10:47.498117Z",
     "shell.execute_reply": "2023-11-30T23:10:47.496964Z"
    },
    "papermill": {
     "duration": 0.017033,
     "end_time": "2023-11-30T23:10:47.500437",
     "exception": false,
     "start_time": "2023-11-30T23:10:47.483404",
     "status": "completed"
    },
    "tags": []
   },
   "outputs": [],
   "source": [
    "#We have more or less the same distribution of numbers\n",
    "#sns.histplot(train.label)"
   ]
  },
  {
   "cell_type": "code",
   "execution_count": 5,
   "id": "70304fc5",
   "metadata": {
    "execution": {
     "iopub.execute_input": "2023-11-30T23:10:47.518686Z",
     "iopub.status.busy": "2023-11-30T23:10:47.518258Z",
     "iopub.status.idle": "2023-11-30T23:10:47.659383Z",
     "shell.execute_reply": "2023-11-30T23:10:47.658401Z"
    },
    "papermill": {
     "duration": 0.153497,
     "end_time": "2023-11-30T23:10:47.662199",
     "exception": false,
     "start_time": "2023-11-30T23:10:47.508702",
     "status": "completed"
    },
    "tags": []
   },
   "outputs": [],
   "source": [
    "labels = train['label']\n",
    "pixels = train.drop('label', axis=1)\n",
    "\n",
    "images = pixels.values.reshape(-1, 28, 28)\n",
    "\n",
    "#for i in [0,1,2,3,4]:\n",
    " #   plt.imshow(images[i], cmap='gray')\n",
    "  #  plt.title(f\"Label: {labels[i]}\")\n",
    "   # plt.show()"
   ]
  },
  {
   "cell_type": "code",
   "execution_count": 6,
   "id": "b152ddca",
   "metadata": {
    "execution": {
     "iopub.execute_input": "2023-11-30T23:10:47.681012Z",
     "iopub.status.busy": "2023-11-30T23:10:47.680628Z",
     "iopub.status.idle": "2023-11-30T23:10:47.969487Z",
     "shell.execute_reply": "2023-11-30T23:10:47.968304Z"
    },
    "papermill": {
     "duration": 0.301397,
     "end_time": "2023-11-30T23:10:47.972085",
     "exception": false,
     "start_time": "2023-11-30T23:10:47.670688",
     "status": "completed"
    },
    "tags": []
   },
   "outputs": [],
   "source": [
    "pixels_train, pixels_valid, labels_train, labels_valid = train_test_split(\n",
    "    pixels,  \n",
    "    labels,  \n",
    "    test_size=0.3,\n",
    "    random_state=35643419 \n",
    ")"
   ]
  },
  {
   "cell_type": "code",
   "execution_count": 7,
   "id": "0da60cc8",
   "metadata": {
    "execution": {
     "iopub.execute_input": "2023-11-30T23:10:47.990902Z",
     "iopub.status.busy": "2023-11-30T23:10:47.989965Z",
     "iopub.status.idle": "2023-11-30T23:10:47.995868Z",
     "shell.execute_reply": "2023-11-30T23:10:47.994821Z"
    },
    "papermill": {
     "duration": 0.01782,
     "end_time": "2023-11-30T23:10:47.998240",
     "exception": false,
     "start_time": "2023-11-30T23:10:47.980420",
     "status": "completed"
    },
    "tags": []
   },
   "outputs": [],
   "source": [
    "images_train = pixels_train.values.reshape(-1, 28, 28)\n",
    "images_valid = pixels_valid.values.reshape(-1,28,28)"
   ]
  },
  {
   "cell_type": "code",
   "execution_count": 8,
   "id": "2bade802",
   "metadata": {
    "execution": {
     "iopub.execute_input": "2023-11-30T23:10:48.017734Z",
     "iopub.status.busy": "2023-11-30T23:10:48.017315Z",
     "iopub.status.idle": "2023-11-30T23:10:48.023829Z",
     "shell.execute_reply": "2023-11-30T23:10:48.022738Z"
    },
    "papermill": {
     "duration": 0.019082,
     "end_time": "2023-11-30T23:10:48.026324",
     "exception": false,
     "start_time": "2023-11-30T23:10:48.007242",
     "status": "completed"
    },
    "tags": []
   },
   "outputs": [],
   "source": [
    "labels_train_one_hot = tf.keras.utils.to_categorical(labels_train, num_classes=10)\n",
    "labels_valid_one_hot = tf.keras.utils.to_categorical(labels_valid, num_classes=10)"
   ]
  },
  {
   "cell_type": "code",
   "execution_count": 9,
   "id": "7f0cc698",
   "metadata": {
    "execution": {
     "iopub.execute_input": "2023-11-30T23:10:48.044863Z",
     "iopub.status.busy": "2023-11-30T23:10:48.044457Z",
     "iopub.status.idle": "2023-11-30T23:10:48.050050Z",
     "shell.execute_reply": "2023-11-30T23:10:48.048818Z"
    },
    "papermill": {
     "duration": 0.01779,
     "end_time": "2023-11-30T23:10:48.052460",
     "exception": false,
     "start_time": "2023-11-30T23:10:48.034670",
     "status": "completed"
    },
    "tags": []
   },
   "outputs": [],
   "source": [
    "images_train_with_channel = images_train[..., np.newaxis]\n",
    "images_valid_with_channel = images_valid[..., np.newaxis]"
   ]
  },
  {
   "cell_type": "code",
   "execution_count": 10,
   "id": "a4340dd7",
   "metadata": {
    "execution": {
     "iopub.execute_input": "2023-11-30T23:10:48.071248Z",
     "iopub.status.busy": "2023-11-30T23:10:48.070836Z",
     "iopub.status.idle": "2023-11-30T23:10:48.075518Z",
     "shell.execute_reply": "2023-11-30T23:10:48.074229Z"
    },
    "papermill": {
     "duration": 0.016973,
     "end_time": "2023-11-30T23:10:48.077826",
     "exception": false,
     "start_time": "2023-11-30T23:10:48.060853",
     "status": "completed"
    },
    "tags": []
   },
   "outputs": [],
   "source": [
    "#pretrained_base = tf.keras.models.load_model(\n",
    " #   '../input/cv-course-models/cv-course-models/inceptionv3',\n",
    "#)\n",
    "#pretrained_base.trainable = False"
   ]
  },
  {
   "cell_type": "code",
   "execution_count": 11,
   "id": "acde418a",
   "metadata": {
    "execution": {
     "iopub.execute_input": "2023-11-30T23:10:48.096286Z",
     "iopub.status.busy": "2023-11-30T23:10:48.095901Z",
     "iopub.status.idle": "2023-11-30T23:10:48.217013Z",
     "shell.execute_reply": "2023-11-30T23:10:48.215479Z"
    },
    "papermill": {
     "duration": 0.133764,
     "end_time": "2023-11-30T23:10:48.219963",
     "exception": false,
     "start_time": "2023-11-30T23:10:48.086199",
     "status": "completed"
    },
    "tags": []
   },
   "outputs": [],
   "source": [
    "model = keras.Sequential([\n",
    "    #Data augmentation\n",
    "    preprocessing.Rescaling(scale=1./255),\n",
    "    #Filter + detect : obtain 64 features, moving 1 pixel in the two dimensions, treating borders equally (same)\n",
    "    layers.Conv2D(filters=64,kernel_size=3,strides=1,padding='same',activation='relu', input_shape=(28, 28, 1)),\n",
    "    #Condense features\n",
    "    layers.MaxPool2D(pool_size=2,strides=1,padding='same'),  \n",
    "    \n",
    "    layers.Conv2D(filters=128, kernel_size=3, strides=1, padding='same', activation='relu'),\n",
    "    layers.MaxPool2D(pool_size=2, strides=1, padding='same'),\n",
    "    \n",
    "    layers.Flatten(),\n",
    "    layers.Dense(10, activation='softmax'),\n",
    "])"
   ]
  },
  {
   "cell_type": "code",
   "execution_count": 12,
   "id": "faba1836",
   "metadata": {
    "execution": {
     "iopub.execute_input": "2023-11-30T23:10:48.238319Z",
     "iopub.status.busy": "2023-11-30T23:10:48.237923Z",
     "iopub.status.idle": "2023-11-30T23:10:48.268409Z",
     "shell.execute_reply": "2023-11-30T23:10:48.267287Z"
    },
    "papermill": {
     "duration": 0.043453,
     "end_time": "2023-11-30T23:10:48.271605",
     "exception": false,
     "start_time": "2023-11-30T23:10:48.228152",
     "status": "completed"
    },
    "tags": []
   },
   "outputs": [],
   "source": [
    "model.compile(\n",
    "    optimizer='rmsprop',\n",
    "    loss='categorical_crossentropy',\n",
    "    metrics=['accuracy'],\n",
    ")"
   ]
  },
  {
   "cell_type": "code",
   "execution_count": 13,
   "id": "c0a18afe",
   "metadata": {
    "execution": {
     "iopub.execute_input": "2023-11-30T23:10:48.291036Z",
     "iopub.status.busy": "2023-11-30T23:10:48.289759Z",
     "iopub.status.idle": "2023-11-30T23:10:48.295606Z",
     "shell.execute_reply": "2023-11-30T23:10:48.294768Z"
    },
    "papermill": {
     "duration": 0.017912,
     "end_time": "2023-11-30T23:10:48.297910",
     "exception": false,
     "start_time": "2023-11-30T23:10:48.279998",
     "status": "completed"
    },
    "tags": []
   },
   "outputs": [],
   "source": [
    "early_stopping = keras.callbacks.EarlyStopping(\n",
    "    patience=5,\n",
    "    min_delta=0.001,\n",
    "    restore_best_weights=True,\n",
    ")"
   ]
  },
  {
   "cell_type": "code",
   "execution_count": 14,
   "id": "77009b85",
   "metadata": {
    "execution": {
     "iopub.execute_input": "2023-11-30T23:10:48.316370Z",
     "iopub.status.busy": "2023-11-30T23:10:48.315946Z",
     "iopub.status.idle": "2023-11-30T23:40:14.518439Z",
     "shell.execute_reply": "2023-11-30T23:40:14.517197Z"
    },
    "papermill": {
     "duration": 1766.970849,
     "end_time": "2023-11-30T23:40:15.277053",
     "exception": false,
     "start_time": "2023-11-30T23:10:48.306204",
     "status": "completed"
    },
    "tags": []
   },
   "outputs": [
    {
     "name": "stdout",
     "output_type": "stream",
     "text": [
      "Epoch 1/20\n",
      "919/919 [==============================] - 194s 210ms/step - loss: 0.1405 - accuracy: 0.9575 - val_loss: 0.0665 - val_accuracy: 0.9798\n",
      "Epoch 2/20\n",
      "919/919 [==============================] - 197s 214ms/step - loss: 0.0511 - accuracy: 0.9851 - val_loss: 0.0634 - val_accuracy: 0.9826\n",
      "Epoch 3/20\n",
      "919/919 [==============================] - 196s 214ms/step - loss: 0.0361 - accuracy: 0.9888 - val_loss: 0.0557 - val_accuracy: 0.9840\n",
      "Epoch 4/20\n",
      "919/919 [==============================] - 196s 213ms/step - loss: 0.0272 - accuracy: 0.9916 - val_loss: 0.0496 - val_accuracy: 0.9868\n",
      "Epoch 5/20\n",
      "919/919 [==============================] - 195s 213ms/step - loss: 0.0213 - accuracy: 0.9933 - val_loss: 0.0562 - val_accuracy: 0.9866\n",
      "Epoch 6/20\n",
      "919/919 [==============================] - 196s 214ms/step - loss: 0.0168 - accuracy: 0.9951 - val_loss: 0.0668 - val_accuracy: 0.9864\n",
      "Epoch 7/20\n",
      "919/919 [==============================] - 198s 215ms/step - loss: 0.0134 - accuracy: 0.9963 - val_loss: 0.0750 - val_accuracy: 0.9841\n",
      "Epoch 8/20\n",
      "919/919 [==============================] - 198s 215ms/step - loss: 0.0094 - accuracy: 0.9974 - val_loss: 0.0863 - val_accuracy: 0.9845\n",
      "Epoch 9/20\n",
      "919/919 [==============================] - 196s 213ms/step - loss: 0.0089 - accuracy: 0.9978 - val_loss: 0.0796 - val_accuracy: 0.9860\n"
     ]
    }
   ],
   "source": [
    "history = model.fit(\n",
    "    images_train_with_channel, \n",
    "    labels_train_one_hot,\n",
    "    validation_data=(images_valid_with_channel, labels_valid_one_hot),\n",
    "    epochs=20,\n",
    "    callbacks=[early_stopping],\n",
    ")"
   ]
  },
  {
   "cell_type": "code",
   "execution_count": 15,
   "id": "397dca98",
   "metadata": {
    "execution": {
     "iopub.execute_input": "2023-11-30T23:40:16.803134Z",
     "iopub.status.busy": "2023-11-30T23:40:16.802728Z",
     "iopub.status.idle": "2023-11-30T23:40:16.809330Z",
     "shell.execute_reply": "2023-11-30T23:40:16.808018Z"
    },
    "papermill": {
     "duration": 0.771339,
     "end_time": "2023-11-30T23:40:16.811708",
     "exception": false,
     "start_time": "2023-11-30T23:40:16.040369",
     "status": "completed"
    },
    "tags": []
   },
   "outputs": [],
   "source": [
    "history_frame = pd.DataFrame(history.history)"
   ]
  },
  {
   "cell_type": "code",
   "execution_count": 16,
   "id": "0808a5e7",
   "metadata": {
    "execution": {
     "iopub.execute_input": "2023-11-30T23:40:18.403949Z",
     "iopub.status.busy": "2023-11-30T23:40:18.403238Z",
     "iopub.status.idle": "2023-11-30T23:40:18.407443Z",
     "shell.execute_reply": "2023-11-30T23:40:18.406649Z"
    },
    "papermill": {
     "duration": 0.766827,
     "end_time": "2023-11-30T23:40:18.409450",
     "exception": false,
     "start_time": "2023-11-30T23:40:17.642623",
     "status": "completed"
    },
    "tags": []
   },
   "outputs": [],
   "source": [
    "#history_frame.loc[5:, ['loss', 'val_loss']].plot()\n",
    "#history_frame.loc[5:, ['accuracy', 'val_accuracy']].plot()"
   ]
  },
  {
   "cell_type": "code",
   "execution_count": 17,
   "id": "e8ac680e",
   "metadata": {
    "execution": {
     "iopub.execute_input": "2023-11-30T23:40:20.015824Z",
     "iopub.status.busy": "2023-11-30T23:40:20.015040Z",
     "iopub.status.idle": "2023-11-30T23:41:30.051297Z",
     "shell.execute_reply": "2023-11-30T23:41:30.049392Z"
    },
    "papermill": {
     "duration": 70.800292,
     "end_time": "2023-11-30T23:41:30.054190",
     "exception": false,
     "start_time": "2023-11-30T23:40:19.253898",
     "status": "completed"
    },
    "tags": []
   },
   "outputs": [
    {
     "name": "stdout",
     "output_type": "stream",
     "text": [
      "394/394 [==============================] - 18s 46ms/step - loss: 0.0496 - accuracy: 0.9868\n",
      "valid_acc: 0.9868254065513611\n"
     ]
    }
   ],
   "source": [
    "valid_loss, valid_acc = model.evaluate(images_valid_with_channel, labels_valid_one_hot)\n",
    "print('valid_acc:', valid_acc)"
   ]
  },
  {
   "cell_type": "code",
   "execution_count": 18,
   "id": "e532160c",
   "metadata": {
    "execution": {
     "iopub.execute_input": "2023-11-30T23:41:31.701105Z",
     "iopub.status.busy": "2023-11-30T23:41:31.700372Z",
     "iopub.status.idle": "2023-11-30T23:41:31.706088Z",
     "shell.execute_reply": "2023-11-30T23:41:31.705208Z"
    },
    "papermill": {
     "duration": 0.795661,
     "end_time": "2023-11-30T23:41:31.708549",
     "exception": false,
     "start_time": "2023-11-30T23:41:30.912888",
     "status": "completed"
    },
    "tags": []
   },
   "outputs": [],
   "source": [
    "images_test = test.values.reshape(-1, 28, 28)\n",
    "images_test_with_channel = images_test[..., np.newaxis]"
   ]
  },
  {
   "cell_type": "code",
   "execution_count": 19,
   "id": "985f6fc7",
   "metadata": {
    "execution": {
     "iopub.execute_input": "2023-11-30T23:41:33.348292Z",
     "iopub.status.busy": "2023-11-30T23:41:33.347486Z",
     "iopub.status.idle": "2023-11-30T23:42:12.816808Z",
     "shell.execute_reply": "2023-11-30T23:42:12.815616Z"
    },
    "papermill": {
     "duration": 40.327428,
     "end_time": "2023-11-30T23:42:12.819698",
     "exception": false,
     "start_time": "2023-11-30T23:41:32.492270",
     "status": "completed"
    },
    "tags": []
   },
   "outputs": [
    {
     "name": "stdout",
     "output_type": "stream",
     "text": [
      "875/875 [==============================] - 38s 44ms/step\n"
     ]
    }
   ],
   "source": [
    "pred = model.predict(images_test)"
   ]
  },
  {
   "cell_type": "code",
   "execution_count": 20,
   "id": "08d73735",
   "metadata": {
    "execution": {
     "iopub.execute_input": "2023-11-30T23:42:14.541480Z",
     "iopub.status.busy": "2023-11-30T23:42:14.540788Z",
     "iopub.status.idle": "2023-11-30T23:42:14.547145Z",
     "shell.execute_reply": "2023-11-30T23:42:14.546187Z"
    },
    "papermill": {
     "duration": 0.832621,
     "end_time": "2023-11-30T23:42:14.549511",
     "exception": false,
     "start_time": "2023-11-30T23:42:13.716890",
     "status": "completed"
    },
    "tags": []
   },
   "outputs": [],
   "source": [
    "predicted_classes = np.argmax(pred, axis=1)"
   ]
  },
  {
   "cell_type": "code",
   "execution_count": 21,
   "id": "67850b45",
   "metadata": {
    "execution": {
     "iopub.execute_input": "2023-11-30T23:42:16.198790Z",
     "iopub.status.busy": "2023-11-30T23:42:16.197978Z",
     "iopub.status.idle": "2023-11-30T23:42:16.203187Z",
     "shell.execute_reply": "2023-11-30T23:42:16.202319Z"
    },
    "papermill": {
     "duration": 0.831476,
     "end_time": "2023-11-30T23:42:16.205519",
     "exception": false,
     "start_time": "2023-11-30T23:42:15.374043",
     "status": "completed"
    },
    "tags": []
   },
   "outputs": [],
   "source": [
    "image_ids = np.arange(1, len(predicted_classes) + 1)"
   ]
  },
  {
   "cell_type": "code",
   "execution_count": 22,
   "id": "ef8524ea",
   "metadata": {
    "execution": {
     "iopub.execute_input": "2023-11-30T23:42:17.932753Z",
     "iopub.status.busy": "2023-11-30T23:42:17.931925Z",
     "iopub.status.idle": "2023-11-30T23:42:17.938158Z",
     "shell.execute_reply": "2023-11-30T23:42:17.937223Z"
    },
    "papermill": {
     "duration": 0.83469,
     "end_time": "2023-11-30T23:42:17.940697",
     "exception": false,
     "start_time": "2023-11-30T23:42:17.106007",
     "status": "completed"
    },
    "tags": []
   },
   "outputs": [],
   "source": [
    "df_submission = pd.DataFrame({\n",
    "    'ImageId': image_ids,\n",
    "    'Label': predicted_classes\n",
    "})"
   ]
  },
  {
   "cell_type": "code",
   "execution_count": 23,
   "id": "aed1a4e0",
   "metadata": {
    "execution": {
     "iopub.execute_input": "2023-11-30T23:42:19.687750Z",
     "iopub.status.busy": "2023-11-30T23:42:19.686958Z",
     "iopub.status.idle": "2023-11-30T23:42:19.766399Z",
     "shell.execute_reply": "2023-11-30T23:42:19.765043Z"
    },
    "papermill": {
     "duration": 1.002446,
     "end_time": "2023-11-30T23:42:19.769415",
     "exception": false,
     "start_time": "2023-11-30T23:42:18.766969",
     "status": "completed"
    },
    "tags": []
   },
   "outputs": [],
   "source": [
    "df_submission.to_csv('submission3.csv', index=False)"
   ]
  }
 ],
 "metadata": {
  "kaggle": {
   "accelerator": "none",
   "dataSources": [
    {
     "databundleVersionId": 861823,
     "sourceId": 3004,
     "sourceType": "competition"
    },
    {
     "datasetId": 708136,
     "sourceId": 1338830,
     "sourceType": "datasetVersion"
    }
   ],
   "dockerImageVersionId": 30558,
   "isGpuEnabled": false,
   "isInternetEnabled": true,
   "language": "python",
   "sourceType": "notebook"
  },
  "kernelspec": {
   "display_name": "Python 3",
   "language": "python",
   "name": "python3"
  },
  "language_info": {
   "codemirror_mode": {
    "name": "ipython",
    "version": 3
   },
   "file_extension": ".py",
   "mimetype": "text/x-python",
   "name": "python",
   "nbconvert_exporter": "python",
   "pygments_lexer": "ipython3",
   "version": "3.10.12"
  },
  "papermill": {
   "default_parameters": {},
   "duration": 1920.85165,
   "end_time": "2023-11-30T23:42:23.357676",
   "environment_variables": {},
   "exception": null,
   "input_path": "__notebook__.ipynb",
   "output_path": "__notebook__.ipynb",
   "parameters": {},
   "start_time": "2023-11-30T23:10:22.506026",
   "version": "2.4.0"
  }
 },
 "nbformat": 4,
 "nbformat_minor": 5
}
