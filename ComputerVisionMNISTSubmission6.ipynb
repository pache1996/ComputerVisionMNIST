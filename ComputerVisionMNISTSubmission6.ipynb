{
 "cells": [
  {
   "cell_type": "markdown",
   "id": "b450de52",
   "metadata": {
    "papermill": {
     "duration": 0.007586,
     "end_time": "2023-12-01T17:39:19.046524",
     "exception": false,
     "start_time": "2023-12-01T17:39:19.038938",
     "status": "completed"
    },
    "tags": []
   },
   "source": [
    "# Intro\n",
    "Basically this environment is to essay different things from preprocessing to everything else. "
   ]
  },
  {
   "cell_type": "code",
   "execution_count": 1,
   "id": "e30e832d",
   "metadata": {
    "execution": {
     "iopub.execute_input": "2023-12-01T17:39:19.062414Z",
     "iopub.status.busy": "2023-12-01T17:39:19.061780Z",
     "iopub.status.idle": "2023-12-01T17:39:29.320118Z",
     "shell.execute_reply": "2023-12-01T17:39:29.319319Z"
    },
    "papermill": {
     "duration": 10.268947,
     "end_time": "2023-12-01T17:39:29.322525",
     "exception": false,
     "start_time": "2023-12-01T17:39:19.053578",
     "status": "completed"
    },
    "tags": []
   },
   "outputs": [
    {
     "name": "stderr",
     "output_type": "stream",
     "text": [
      "/opt/conda/lib/python3.10/site-packages/scipy/__init__.py:146: UserWarning: A NumPy version >=1.16.5 and <1.23.0 is required for this version of SciPy (detected version 1.23.5\n",
      "  warnings.warn(f\"A NumPy version >={np_minversion} and <{np_maxversion}\"\n"
     ]
    }
   ],
   "source": [
    "import pandas as pd \n",
    "import seaborn as sns\n",
    "import matplotlib.pyplot as plt\n",
    "import os\n",
    "import numpy as np\n",
    "import tensorflow as tf\n",
    "from sklearn.model_selection import train_test_split\n",
    "from tensorflow.keras.layers.experimental import preprocessing\n",
    "from tensorflow import keras\n",
    "from tensorflow.keras import layers\n",
    "\n",
    "def set_seed(seed=35643419):\n",
    "    np.random.seed(seed)\n",
    "    tf.random.set_seed(seed)\n",
    "    os.environ['PYTHONHASHSEED'] = str(seed)\n",
    "    os.environ['TF_DETERMINISTIC_OPS'] = '1'\n",
    "set_seed(35643419)"
   ]
  },
  {
   "cell_type": "code",
   "execution_count": 2,
   "id": "bebcaf09",
   "metadata": {
    "execution": {
     "iopub.execute_input": "2023-12-01T17:39:29.339620Z",
     "iopub.status.busy": "2023-12-01T17:39:29.338591Z",
     "iopub.status.idle": "2023-12-01T17:39:35.549535Z",
     "shell.execute_reply": "2023-12-01T17:39:35.548542Z"
    },
    "papermill": {
     "duration": 6.221911,
     "end_time": "2023-12-01T17:39:35.552033",
     "exception": false,
     "start_time": "2023-12-01T17:39:29.330122",
     "status": "completed"
    },
    "tags": []
   },
   "outputs": [],
   "source": [
    "train = pd.read_csv('/kaggle/input/digit-recognizer/train.csv')\n",
    "test = pd.read_csv('/kaggle/input/digit-recognizer/test.csv')"
   ]
  },
  {
   "cell_type": "code",
   "execution_count": 3,
   "id": "1a1e86f7",
   "metadata": {
    "execution": {
     "iopub.execute_input": "2023-12-01T17:39:35.568366Z",
     "iopub.status.busy": "2023-12-01T17:39:35.568007Z",
     "iopub.status.idle": "2023-12-01T17:39:35.571913Z",
     "shell.execute_reply": "2023-12-01T17:39:35.571037Z"
    },
    "papermill": {
     "duration": 0.014399,
     "end_time": "2023-12-01T17:39:35.573930",
     "exception": false,
     "start_time": "2023-12-01T17:39:35.559531",
     "status": "completed"
    },
    "tags": []
   },
   "outputs": [],
   "source": [
    "#train.head()"
   ]
  },
  {
   "cell_type": "code",
   "execution_count": 4,
   "id": "4017bade",
   "metadata": {
    "execution": {
     "iopub.execute_input": "2023-12-01T17:39:35.591163Z",
     "iopub.status.busy": "2023-12-01T17:39:35.590851Z",
     "iopub.status.idle": "2023-12-01T17:39:35.594620Z",
     "shell.execute_reply": "2023-12-01T17:39:35.593783Z"
    },
    "papermill": {
     "duration": 0.014166,
     "end_time": "2023-12-01T17:39:35.596537",
     "exception": false,
     "start_time": "2023-12-01T17:39:35.582371",
     "status": "completed"
    },
    "tags": []
   },
   "outputs": [],
   "source": [
    "#We have more or less the same distribution of numbers\n",
    "#sns.histplot(train.label)"
   ]
  },
  {
   "cell_type": "code",
   "execution_count": 5,
   "id": "9433094a",
   "metadata": {
    "execution": {
     "iopub.execute_input": "2023-12-01T17:39:35.612289Z",
     "iopub.status.busy": "2023-12-01T17:39:35.611953Z",
     "iopub.status.idle": "2023-12-01T17:39:35.706053Z",
     "shell.execute_reply": "2023-12-01T17:39:35.705245Z"
    },
    "papermill": {
     "duration": 0.104264,
     "end_time": "2023-12-01T17:39:35.708072",
     "exception": false,
     "start_time": "2023-12-01T17:39:35.603808",
     "status": "completed"
    },
    "tags": []
   },
   "outputs": [],
   "source": [
    "labels = train['label']\n",
    "pixels = train.drop('label', axis=1)\n",
    "\n",
    "images = pixels.values.reshape(-1, 28, 28)\n",
    "\n",
    "#for i in [0,1,2,3,4]:\n",
    " #   plt.imshow(images[i], cmap='gray')\n",
    "  #  plt.title(f\"Label: {labels[i]}\")\n",
    "   # plt.show()"
   ]
  },
  {
   "cell_type": "code",
   "execution_count": 6,
   "id": "b4a820b1",
   "metadata": {
    "execution": {
     "iopub.execute_input": "2023-12-01T17:39:35.724258Z",
     "iopub.status.busy": "2023-12-01T17:39:35.723924Z",
     "iopub.status.idle": "2023-12-01T17:39:35.952915Z",
     "shell.execute_reply": "2023-12-01T17:39:35.951925Z"
    },
    "papermill": {
     "duration": 0.239747,
     "end_time": "2023-12-01T17:39:35.955282",
     "exception": false,
     "start_time": "2023-12-01T17:39:35.715535",
     "status": "completed"
    },
    "tags": []
   },
   "outputs": [],
   "source": [
    "pixels_train, pixels_valid, labels_train, labels_valid = train_test_split(\n",
    "    pixels,  \n",
    "    labels,  \n",
    "    test_size=0.3,\n",
    "    random_state=35643419 \n",
    ")"
   ]
  },
  {
   "cell_type": "code",
   "execution_count": 7,
   "id": "11e9edce",
   "metadata": {
    "execution": {
     "iopub.execute_input": "2023-12-01T17:39:35.971290Z",
     "iopub.status.busy": "2023-12-01T17:39:35.970958Z",
     "iopub.status.idle": "2023-12-01T17:39:35.975461Z",
     "shell.execute_reply": "2023-12-01T17:39:35.974625Z"
    },
    "papermill": {
     "duration": 0.014553,
     "end_time": "2023-12-01T17:39:35.977404",
     "exception": false,
     "start_time": "2023-12-01T17:39:35.962851",
     "status": "completed"
    },
    "tags": []
   },
   "outputs": [],
   "source": [
    "images_train = pixels_train.values.reshape(-1, 28, 28)\n",
    "images_valid = pixels_valid.values.reshape(-1,28,28)"
   ]
  },
  {
   "cell_type": "code",
   "execution_count": 8,
   "id": "0fd312f3",
   "metadata": {
    "execution": {
     "iopub.execute_input": "2023-12-01T17:39:35.992819Z",
     "iopub.status.busy": "2023-12-01T17:39:35.992531Z",
     "iopub.status.idle": "2023-12-01T17:39:35.997754Z",
     "shell.execute_reply": "2023-12-01T17:39:35.997050Z"
    },
    "papermill": {
     "duration": 0.015034,
     "end_time": "2023-12-01T17:39:35.999624",
     "exception": false,
     "start_time": "2023-12-01T17:39:35.984590",
     "status": "completed"
    },
    "tags": []
   },
   "outputs": [],
   "source": [
    "labels_train_one_hot = tf.keras.utils.to_categorical(labels_train, num_classes=10)\n",
    "labels_valid_one_hot = tf.keras.utils.to_categorical(labels_valid, num_classes=10)"
   ]
  },
  {
   "cell_type": "code",
   "execution_count": 9,
   "id": "5bb9d54c",
   "metadata": {
    "execution": {
     "iopub.execute_input": "2023-12-01T17:39:36.015194Z",
     "iopub.status.busy": "2023-12-01T17:39:36.014909Z",
     "iopub.status.idle": "2023-12-01T17:39:36.019143Z",
     "shell.execute_reply": "2023-12-01T17:39:36.018334Z"
    },
    "papermill": {
     "duration": 0.014249,
     "end_time": "2023-12-01T17:39:36.020963",
     "exception": false,
     "start_time": "2023-12-01T17:39:36.006714",
     "status": "completed"
    },
    "tags": []
   },
   "outputs": [],
   "source": [
    "images_train_with_channel = images_train[..., np.newaxis]\n",
    "images_valid_with_channel = images_valid[..., np.newaxis]"
   ]
  },
  {
   "cell_type": "code",
   "execution_count": 10,
   "id": "d9f30ce8",
   "metadata": {
    "execution": {
     "iopub.execute_input": "2023-12-01T17:39:36.036733Z",
     "iopub.status.busy": "2023-12-01T17:39:36.036427Z",
     "iopub.status.idle": "2023-12-01T17:39:36.040420Z",
     "shell.execute_reply": "2023-12-01T17:39:36.039528Z"
    },
    "papermill": {
     "duration": 0.014169,
     "end_time": "2023-12-01T17:39:36.042366",
     "exception": false,
     "start_time": "2023-12-01T17:39:36.028197",
     "status": "completed"
    },
    "tags": []
   },
   "outputs": [],
   "source": [
    "#pretrained_base = tf.keras.models.load_model(\n",
    " #   '../input/cv-course-models/cv-course-models/inceptionv3',\n",
    "#)\n",
    "#pretrained_base.trainable = False"
   ]
  },
  {
   "cell_type": "code",
   "execution_count": 11,
   "id": "4704b32c",
   "metadata": {
    "execution": {
     "iopub.execute_input": "2023-12-01T17:39:36.058936Z",
     "iopub.status.busy": "2023-12-01T17:39:36.058089Z",
     "iopub.status.idle": "2023-12-01T17:39:39.330634Z",
     "shell.execute_reply": "2023-12-01T17:39:39.329629Z"
    },
    "papermill": {
     "duration": 3.283565,
     "end_time": "2023-12-01T17:39:39.333056",
     "exception": false,
     "start_time": "2023-12-01T17:39:36.049491",
     "status": "completed"
    },
    "tags": []
   },
   "outputs": [],
   "source": [
    "model = keras.Sequential([\n",
    "    preprocessing.Rescaling(scale=1./255),\n",
    "    #Filter + detect : obtain 32 features, moving 1 pixel in the two dimensions, treating borders equally (same)\n",
    "    layers.Conv2D(filters=32,kernel_size=3,strides=1,padding='valid',activation='relu', input_shape=(28, 28, 1)),\n",
    "    #Condense features\n",
    "    layers.MaxPool2D(pool_size=2,strides=1,padding='valid'),\n",
    "\n",
    "    layers.Conv2D(filters=64,kernel_size=3,strides=1,padding='valid',activation='relu'),\n",
    "    layers.MaxPool2D(pool_size=2,strides=1,padding='valid'),\n",
    "    \n",
    "    layers.Conv2D(filters=128, kernel_size=3, strides=1, padding='valid', activation='relu'),\n",
    "    layers.MaxPool2D(pool_size=2, strides=1, padding='valid'),\n",
    "    \n",
    "    layers.Flatten(),\n",
    "    layers.Dense(10, activation='softmax'),\n",
    "])"
   ]
  },
  {
   "cell_type": "code",
   "execution_count": 12,
   "id": "c9b53e58",
   "metadata": {
    "execution": {
     "iopub.execute_input": "2023-12-01T17:39:39.349278Z",
     "iopub.status.busy": "2023-12-01T17:39:39.348932Z",
     "iopub.status.idle": "2023-12-01T17:39:39.373025Z",
     "shell.execute_reply": "2023-12-01T17:39:39.372251Z"
    },
    "papermill": {
     "duration": 0.034803,
     "end_time": "2023-12-01T17:39:39.375303",
     "exception": false,
     "start_time": "2023-12-01T17:39:39.340500",
     "status": "completed"
    },
    "tags": []
   },
   "outputs": [],
   "source": [
    "model.compile(\n",
    "    optimizer='rmsprop',\n",
    "    loss='categorical_crossentropy',\n",
    "    metrics=['accuracy'],\n",
    ")"
   ]
  },
  {
   "cell_type": "code",
   "execution_count": 13,
   "id": "a8f1e028",
   "metadata": {
    "execution": {
     "iopub.execute_input": "2023-12-01T17:39:39.391615Z",
     "iopub.status.busy": "2023-12-01T17:39:39.391262Z",
     "iopub.status.idle": "2023-12-01T17:39:39.395679Z",
     "shell.execute_reply": "2023-12-01T17:39:39.394895Z"
    },
    "papermill": {
     "duration": 0.014952,
     "end_time": "2023-12-01T17:39:39.397675",
     "exception": false,
     "start_time": "2023-12-01T17:39:39.382723",
     "status": "completed"
    },
    "tags": []
   },
   "outputs": [],
   "source": [
    "early_stopping = keras.callbacks.EarlyStopping(\n",
    "    patience=5,\n",
    "    min_delta=0.001,\n",
    "    restore_best_weights=True,\n",
    ")"
   ]
  },
  {
   "cell_type": "code",
   "execution_count": 14,
   "id": "6fff2240",
   "metadata": {
    "execution": {
     "iopub.execute_input": "2023-12-01T17:39:39.413571Z",
     "iopub.status.busy": "2023-12-01T17:39:39.413241Z",
     "iopub.status.idle": "2023-12-01T17:39:39.417874Z",
     "shell.execute_reply": "2023-12-01T17:39:39.417022Z"
    },
    "papermill": {
     "duration": 0.014743,
     "end_time": "2023-12-01T17:39:39.419758",
     "exception": false,
     "start_time": "2023-12-01T17:39:39.405015",
     "status": "completed"
    },
    "tags": []
   },
   "outputs": [],
   "source": [
    "model_checkpoint = keras.callbacks.ModelCheckpoint(\n",
    "    'best_model.h5',  # Save the best weights to this file\n",
    "    save_best_only=True,  # Only save the best weights based on the validation loss\n",
    "    monitor='val_loss',  # Monitor validation loss\n",
    "    mode='min',  # Mode can be 'min' or 'max' depending on the metric to minimize or maximize\n",
    "    verbose=1  # Display messages when saving the best weights\n",
    ")"
   ]
  },
  {
   "cell_type": "code",
   "execution_count": 15,
   "id": "6c846c13",
   "metadata": {
    "execution": {
     "iopub.execute_input": "2023-12-01T17:39:39.435798Z",
     "iopub.status.busy": "2023-12-01T17:39:39.435491Z",
     "iopub.status.idle": "2023-12-01T17:40:36.545816Z",
     "shell.execute_reply": "2023-12-01T17:40:36.544816Z"
    },
    "papermill": {
     "duration": 57.120895,
     "end_time": "2023-12-01T17:40:36.547851",
     "exception": false,
     "start_time": "2023-12-01T17:39:39.426956",
     "status": "completed"
    },
    "tags": []
   },
   "outputs": [
    {
     "name": "stdout",
     "output_type": "stream",
     "text": [
      "Epoch 1/20\n",
      "919/919 [==============================] - ETA: 0s - loss: 0.1453 - accuracy: 0.9557\n",
      "Epoch 1: val_loss improved from inf to 0.04924, saving model to best_model.h5\n",
      "919/919 [==============================] - 14s 6ms/step - loss: 0.1453 - accuracy: 0.9557 - val_loss: 0.0492 - val_accuracy: 0.9846\n",
      "Epoch 2/20\n",
      "912/919 [============================>.] - ETA: 0s - loss: 0.0540 - accuracy: 0.9842\n",
      "Epoch 2: val_loss improved from 0.04924 to 0.04889, saving model to best_model.h5\n",
      "919/919 [==============================] - 5s 6ms/step - loss: 0.0543 - accuracy: 0.9842 - val_loss: 0.0489 - val_accuracy: 0.9863\n",
      "Epoch 3/20\n",
      "910/919 [============================>.] - ETA: 0s - loss: 0.0391 - accuracy: 0.9882\n",
      "Epoch 3: val_loss improved from 0.04889 to 0.04551, saving model to best_model.h5\n",
      "919/919 [==============================] - 5s 6ms/step - loss: 0.0390 - accuracy: 0.9882 - val_loss: 0.0455 - val_accuracy: 0.9881\n",
      "Epoch 4/20\n",
      "910/919 [============================>.] - ETA: 0s - loss: 0.0325 - accuracy: 0.9910\n",
      "Epoch 4: val_loss improved from 0.04551 to 0.04060, saving model to best_model.h5\n",
      "919/919 [==============================] - 5s 6ms/step - loss: 0.0323 - accuracy: 0.9910 - val_loss: 0.0406 - val_accuracy: 0.9892\n",
      "Epoch 5/20\n",
      "917/919 [============================>.] - ETA: 0s - loss: 0.0260 - accuracy: 0.9930\n",
      "Epoch 5: val_loss did not improve from 0.04060\n",
      "919/919 [==============================] - 5s 6ms/step - loss: 0.0260 - accuracy: 0.9931 - val_loss: 0.0475 - val_accuracy: 0.9873\n",
      "Epoch 6/20\n",
      "915/919 [============================>.] - ETA: 0s - loss: 0.0208 - accuracy: 0.9945\n",
      "Epoch 6: val_loss did not improve from 0.04060\n",
      "919/919 [==============================] - 5s 6ms/step - loss: 0.0208 - accuracy: 0.9945 - val_loss: 0.0655 - val_accuracy: 0.9848\n",
      "Epoch 7/20\n",
      "910/919 [============================>.] - ETA: 0s - loss: 0.0180 - accuracy: 0.9955\n",
      "Epoch 7: val_loss did not improve from 0.04060\n",
      "919/919 [==============================] - 5s 6ms/step - loss: 0.0182 - accuracy: 0.9955 - val_loss: 0.0729 - val_accuracy: 0.9829\n",
      "Epoch 8/20\n",
      "914/919 [============================>.] - ETA: 0s - loss: 0.0144 - accuracy: 0.9959\n",
      "Epoch 8: val_loss did not improve from 0.04060\n",
      "919/919 [==============================] - 5s 6ms/step - loss: 0.0145 - accuracy: 0.9959 - val_loss: 0.0750 - val_accuracy: 0.9860\n",
      "Epoch 9/20\n",
      "913/919 [============================>.] - ETA: 0s - loss: 0.0158 - accuracy: 0.9964\n",
      "Epoch 9: val_loss did not improve from 0.04060\n",
      "919/919 [==============================] - 5s 6ms/step - loss: 0.0157 - accuracy: 0.9965 - val_loss: 0.0616 - val_accuracy: 0.9890\n"
     ]
    }
   ],
   "source": [
    "history = model.fit(\n",
    "    images_train_with_channel, \n",
    "    labels_train_one_hot,\n",
    "    validation_data=(images_valid_with_channel, labels_valid_one_hot),\n",
    "    epochs=20,\n",
    "    callbacks=[early_stopping,model_checkpoint],\n",
    ")"
   ]
  },
  {
   "cell_type": "code",
   "execution_count": 16,
   "id": "b8f4b04a",
   "metadata": {
    "execution": {
     "iopub.execute_input": "2023-12-01T17:40:36.735764Z",
     "iopub.status.busy": "2023-12-01T17:40:36.734891Z",
     "iopub.status.idle": "2023-12-01T17:40:36.740093Z",
     "shell.execute_reply": "2023-12-01T17:40:36.739185Z"
    },
    "papermill": {
     "duration": 0.127723,
     "end_time": "2023-12-01T17:40:36.741965",
     "exception": false,
     "start_time": "2023-12-01T17:40:36.614242",
     "status": "completed"
    },
    "tags": []
   },
   "outputs": [],
   "source": [
    "history_frame = pd.DataFrame(history.history)"
   ]
  },
  {
   "cell_type": "code",
   "execution_count": 17,
   "id": "52d559b7",
   "metadata": {
    "execution": {
     "iopub.execute_input": "2023-12-01T17:40:36.876956Z",
     "iopub.status.busy": "2023-12-01T17:40:36.876586Z",
     "iopub.status.idle": "2023-12-01T17:40:37.457530Z",
     "shell.execute_reply": "2023-12-01T17:40:37.456395Z"
    },
    "papermill": {
     "duration": 0.651772,
     "end_time": "2023-12-01T17:40:37.459914",
     "exception": false,
     "start_time": "2023-12-01T17:40:36.808142",
     "status": "completed"
    },
    "tags": []
   },
   "outputs": [
    {
     "data": {
      "text/plain": [
       "<Axes: >"
      ]
     },
     "execution_count": 17,
     "metadata": {},
     "output_type": "execute_result"
    },
    {
     "data": {
      "image/png": "[encoded data removed]",
      "text/plain": [
       "<Figure size 640x480 with 1 Axes>"
      ]
     },
     "metadata": {},
     "output_type": "display_data"
    },
    {
     "data": {
      "image/png": "[encoded data removed]",
      "text/plain": [
       "<Figure size 640x480 with 1 Axes>"
      ]
     },
     "metadata": {},
     "output_type": "display_data"
    }
   ],
   "source": [
    "history_frame.loc[3:, ['loss', 'val_loss']].plot()\n",
    "history_frame.loc[3:, ['accuracy', 'val_accuracy']].plot()"
   ]
  },
  {
   "cell_type": "code",
   "execution_count": 18,
   "id": "5204c0ab",
   "metadata": {
    "execution": {
     "iopub.execute_input": "2023-12-01T17:40:37.618094Z",
     "iopub.status.busy": "2023-12-01T17:40:37.617159Z",
     "iopub.status.idle": "2023-12-01T17:40:37.750160Z",
     "shell.execute_reply": "2023-12-01T17:40:37.749269Z"
    },
    "papermill": {
     "duration": 0.214479,
     "end_time": "2023-12-01T17:40:37.752701",
     "exception": false,
     "start_time": "2023-12-01T17:40:37.538222",
     "status": "completed"
    },
    "tags": []
   },
   "outputs": [],
   "source": [
    "best_model = keras.models.load_model('best_model.h5')"
   ]
  },
  {
   "cell_type": "code",
   "execution_count": 19,
   "id": "c1a2682b",
   "metadata": {
    "execution": {
     "iopub.execute_input": "2023-12-01T17:40:37.912315Z",
     "iopub.status.busy": "2023-12-01T17:40:37.911890Z",
     "iopub.status.idle": "2023-12-01T17:40:39.539928Z",
     "shell.execute_reply": "2023-12-01T17:40:39.538988Z"
    },
    "papermill": {
     "duration": 1.709349,
     "end_time": "2023-12-01T17:40:39.541903",
     "exception": false,
     "start_time": "2023-12-01T17:40:37.832554",
     "status": "completed"
    },
    "tags": []
   },
   "outputs": [
    {
     "name": "stdout",
     "output_type": "stream",
     "text": [
      "394/394 [==============================] - 1s 3ms/step - loss: 0.0406 - accuracy: 0.9892\n",
      "valid_acc: 0.9892063736915588\n"
     ]
    }
   ],
   "source": [
    "valid_loss, valid_acc = best_model.evaluate(images_valid_with_channel, labels_valid_one_hot)\n",
    "print('valid_acc:', valid_acc)"
   ]
  },
  {
   "cell_type": "code",
   "execution_count": 20,
   "id": "423c9ba3",
   "metadata": {
    "execution": {
     "iopub.execute_input": "2023-12-01T17:40:39.683671Z",
     "iopub.status.busy": "2023-12-01T17:40:39.683053Z",
     "iopub.status.idle": "2023-12-01T17:40:39.687787Z",
     "shell.execute_reply": "2023-12-01T17:40:39.686891Z"
    },
    "papermill": {
     "duration": 0.076996,
     "end_time": "2023-12-01T17:40:39.689711",
     "exception": false,
     "start_time": "2023-12-01T17:40:39.612715",
     "status": "completed"
    },
    "tags": []
   },
   "outputs": [],
   "source": [
    "images_test = test.values.reshape(-1, 28, 28)\n",
    "images_test_with_channel = images_test[..., np.newaxis]"
   ]
  },
  {
   "cell_type": "code",
   "execution_count": 21,
   "id": "12f3b72b",
   "metadata": {
    "execution": {
     "iopub.execute_input": "2023-12-01T17:40:39.831032Z",
     "iopub.status.busy": "2023-12-01T17:40:39.830178Z",
     "iopub.status.idle": "2023-12-01T17:40:42.414404Z",
     "shell.execute_reply": "2023-12-01T17:40:42.413541Z"
    },
    "papermill": {
     "duration": 2.657809,
     "end_time": "2023-12-01T17:40:42.416722",
     "exception": false,
     "start_time": "2023-12-01T17:40:39.758913",
     "status": "completed"
    },
    "tags": []
   },
   "outputs": [
    {
     "name": "stdout",
     "output_type": "stream",
     "text": [
      "875/875 [==============================] - 2s 2ms/step\n"
     ]
    }
   ],
   "source": [
    "pred = best_model.predict(images_test)"
   ]
  },
  {
   "cell_type": "code",
   "execution_count": 22,
   "id": "b085af62",
   "metadata": {
    "execution": {
     "iopub.execute_input": "2023-12-01T17:40:42.565248Z",
     "iopub.status.busy": "2023-12-01T17:40:42.564424Z",
     "iopub.status.idle": "2023-12-01T17:40:42.570124Z",
     "shell.execute_reply": "2023-12-01T17:40:42.569243Z"
    },
    "papermill": {
     "duration": 0.08269,
     "end_time": "2023-12-01T17:40:42.572014",
     "exception": false,
     "start_time": "2023-12-01T17:40:42.489324",
     "status": "completed"
    },
    "tags": []
   },
   "outputs": [],
   "source": [
    "predicted_classes = np.argmax(pred, axis=1)"
   ]
  },
  {
   "cell_type": "code",
   "execution_count": 23,
   "id": "52ec7930",
   "metadata": {
    "execution": {
     "iopub.execute_input": "2023-12-01T17:40:42.732488Z",
     "iopub.status.busy": "2023-12-01T17:40:42.731774Z",
     "iopub.status.idle": "2023-12-01T17:40:42.736476Z",
     "shell.execute_reply": "2023-12-01T17:40:42.735603Z"
    },
    "papermill": {
     "duration": 0.087812,
     "end_time": "2023-12-01T17:40:42.738393",
     "exception": false,
     "start_time": "2023-12-01T17:40:42.650581",
     "status": "completed"
    },
    "tags": []
   },
   "outputs": [],
   "source": [
    "image_ids = np.arange(1, len(predicted_classes) + 1)"
   ]
  },
  {
   "cell_type": "code",
   "execution_count": 24,
   "id": "bdb0abd0",
   "metadata": {
    "execution": {
     "iopub.execute_input": "2023-12-01T17:40:42.884215Z",
     "iopub.status.busy": "2023-12-01T17:40:42.883845Z",
     "iopub.status.idle": "2023-12-01T17:40:42.889358Z",
     "shell.execute_reply": "2023-12-01T17:40:42.888427Z"
    },
    "papermill": {
     "duration": 0.081488,
     "end_time": "2023-12-01T17:40:42.891262",
     "exception": false,
     "start_time": "2023-12-01T17:40:42.809774",
     "status": "completed"
    },
    "tags": []
   },
   "outputs": [],
   "source": [
    "df_submission = pd.DataFrame({\n",
    "    'ImageId': image_ids,\n",
    "    'Label': predicted_classes\n",
    "})"
   ]
  },
  {
   "cell_type": "code",
   "execution_count": 25,
   "id": "8e8d08c2",
   "metadata": {
    "execution": {
     "iopub.execute_input": "2023-12-01T17:40:43.035767Z",
     "iopub.status.busy": "2023-12-01T17:40:43.035418Z",
     "iopub.status.idle": "2023-12-01T17:40:43.094503Z",
     "shell.execute_reply": "2023-12-01T17:40:43.093694Z"
    },
    "papermill": {
     "duration": 0.133996,
     "end_time": "2023-12-01T17:40:43.096708",
     "exception": false,
     "start_time": "2023-12-01T17:40:42.962712",
     "status": "completed"
    },
    "tags": []
   },
   "outputs": [],
   "source": [
    "df_submission.to_csv('submission6.csv', index=False)"
   ]
  }
 ],
 "metadata": {
  "kaggle": {
   "accelerator": "gpu",
   "dataSources": [
    {
     "databundleVersionId": 861823,
     "sourceId": 3004,
     "sourceType": "competition"
    },
    {
     "datasetId": 708136,
     "sourceId": 1338830,
     "sourceType": "datasetVersion"
    }
   ],
   "dockerImageVersionId": 30558,
   "isGpuEnabled": true,
   "isInternetEnabled": true,
   "language": "python",
   "sourceType": "notebook"
  },
  "kernelspec": {
   "display_name": "Python 3",
   "language": "python",
   "name": "python3"
  },
  "language_info": {
   "codemirror_mode": {
    "name": "ipython",
    "version": 3
   },
   "file_extension": ".py",
   "mimetype": "text/x-python",
   "name": "python",
   "nbconvert_exporter": "python",
   "pygments_lexer": "ipython3",
   "version": "3.10.12"
  },
  "papermill": {
   "default_parameters": {},
   "duration": 90.598899,
   "end_time": "2023-12-01T17:40:46.246594",
   "environment_variables": {},
   "exception": null,
   "input_path": "__notebook__.ipynb",
   "output_path": "__notebook__.ipynb",
   "parameters": {},
   "start_time": "2023-12-01T17:39:15.647695",
   "version": "2.4.0"
  }
 },
 "nbformat": 4,
 "nbformat_minor": 5
}
