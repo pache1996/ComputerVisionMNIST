{
 "cells": [
  {
   "cell_type": "markdown",
   "id": "5e8c1f5f",
   "metadata": {
    "papermill": {
     "duration": 0.007691,
     "end_time": "2023-12-01T17:07:15.216961",
     "exception": false,
     "start_time": "2023-12-01T17:07:15.209270",
     "status": "completed"
    },
    "tags": []
   },
   "source": [
    "# Intro\n",
    "Basically this environment is to essay different things from preprocessing to everything else. "
   ]
  },
  {
   "cell_type": "code",
   "execution_count": 1,
   "id": "4a5f5f83",
   "metadata": {
    "execution": {
     "iopub.execute_input": "2023-12-01T17:07:15.233081Z",
     "iopub.status.busy": "2023-12-01T17:07:15.232374Z",
     "iopub.status.idle": "2023-12-01T17:07:25.232500Z",
     "shell.execute_reply": "2023-12-01T17:07:25.231751Z"
    },
    "papermill": {
     "duration": 10.010624,
     "end_time": "2023-12-01T17:07:25.234987",
     "exception": false,
     "start_time": "2023-12-01T17:07:15.224363",
     "status": "completed"
    },
    "tags": []
   },
   "outputs": [
    {
     "name": "stderr",
     "output_type": "stream",
     "text": [
      "/opt/conda/lib/python3.10/site-packages/scipy/__init__.py:146: UserWarning: A NumPy version >=1.16.5 and <1.23.0 is required for this version of SciPy (detected version 1.23.5\n",
      "  warnings.warn(f\"A NumPy version >={np_minversion} and <{np_maxversion}\"\n"
     ]
    }
   ],
   "source": [
    "import pandas as pd \n",
    "import seaborn as sns\n",
    "import matplotlib.pyplot as plt\n",
    "import os\n",
    "import numpy as np\n",
    "import tensorflow as tf\n",
    "from sklearn.model_selection import train_test_split\n",
    "from tensorflow.keras.layers.experimental import preprocessing\n",
    "from tensorflow import keras\n",
    "from tensorflow.keras import layers\n",
    "\n",
    "def set_seed(seed=35643419):\n",
    "    np.random.seed(seed)\n",
    "    tf.random.set_seed(seed)\n",
    "    os.environ['PYTHONHASHSEED'] = str(seed)\n",
    "    os.environ['TF_DETERMINISTIC_OPS'] = '1'\n",
    "set_seed(35643419)"
   ]
  },
  {
   "cell_type": "code",
   "execution_count": 2,
   "id": "15152e09",
   "metadata": {
    "execution": {
     "iopub.execute_input": "2023-12-01T17:07:25.250978Z",
     "iopub.status.busy": "2023-12-01T17:07:25.250455Z",
     "iopub.status.idle": "2023-12-01T17:07:30.972247Z",
     "shell.execute_reply": "2023-12-01T17:07:30.971439Z"
    },
    "papermill": {
     "duration": 5.732045,
     "end_time": "2023-12-01T17:07:30.974566",
     "exception": false,
     "start_time": "2023-12-01T17:07:25.242521",
     "status": "completed"
    },
    "tags": []
   },
   "outputs": [],
   "source": [
    "train = pd.read_csv('/kaggle/input/digit-recognizer/train.csv')\n",
    "test = pd.read_csv('/kaggle/input/digit-recognizer/test.csv')"
   ]
  },
  {
   "cell_type": "code",
   "execution_count": 3,
   "id": "5938ded3",
   "metadata": {
    "execution": {
     "iopub.execute_input": "2023-12-01T17:07:30.991143Z",
     "iopub.status.busy": "2023-12-01T17:07:30.990858Z",
     "iopub.status.idle": "2023-12-01T17:07:30.994647Z",
     "shell.execute_reply": "2023-12-01T17:07:30.993768Z"
    },
    "papermill": {
     "duration": 0.013925,
     "end_time": "2023-12-01T17:07:30.996647",
     "exception": false,
     "start_time": "2023-12-01T17:07:30.982722",
     "status": "completed"
    },
    "tags": []
   },
   "outputs": [],
   "source": [
    "#train.head()"
   ]
  },
  {
   "cell_type": "code",
   "execution_count": 4,
   "id": "63e2b692",
   "metadata": {
    "execution": {
     "iopub.execute_input": "2023-12-01T17:07:31.011885Z",
     "iopub.status.busy": "2023-12-01T17:07:31.011609Z",
     "iopub.status.idle": "2023-12-01T17:07:31.015473Z",
     "shell.execute_reply": "2023-12-01T17:07:31.014478Z"
    },
    "papermill": {
     "duration": 0.013539,
     "end_time": "2023-12-01T17:07:31.017272",
     "exception": false,
     "start_time": "2023-12-01T17:07:31.003733",
     "status": "completed"
    },
    "tags": []
   },
   "outputs": [],
   "source": [
    "#We have more or less the same distribution of numbers\n",
    "#sns.histplot(train.label)"
   ]
  },
  {
   "cell_type": "code",
   "execution_count": 5,
   "id": "45fe3e64",
   "metadata": {
    "execution": {
     "iopub.execute_input": "2023-12-01T17:07:31.032486Z",
     "iopub.status.busy": "2023-12-01T17:07:31.031996Z",
     "iopub.status.idle": "2023-12-01T17:07:31.123327Z",
     "shell.execute_reply": "2023-12-01T17:07:31.122389Z"
    },
    "papermill": {
     "duration": 0.100961,
     "end_time": "2023-12-01T17:07:31.125263",
     "exception": false,
     "start_time": "2023-12-01T17:07:31.024302",
     "status": "completed"
    },
    "tags": []
   },
   "outputs": [],
   "source": [
    "labels = train['label']\n",
    "pixels = train.drop('label', axis=1)\n",
    "\n",
    "images = pixels.values.reshape(-1, 28, 28)\n",
    "\n",
    "#for i in [0,1,2,3,4]:\n",
    " #   plt.imshow(images[i], cmap='gray')\n",
    "  #  plt.title(f\"Label: {labels[i]}\")\n",
    "   # plt.show()"
   ]
  },
  {
   "cell_type": "code",
   "execution_count": 6,
   "id": "8849f185",
   "metadata": {
    "execution": {
     "iopub.execute_input": "2023-12-01T17:07:31.141453Z",
     "iopub.status.busy": "2023-12-01T17:07:31.140786Z",
     "iopub.status.idle": "2023-12-01T17:07:31.367441Z",
     "shell.execute_reply": "2023-12-01T17:07:31.366455Z"
    },
    "papermill": {
     "duration": 0.237318,
     "end_time": "2023-12-01T17:07:31.369866",
     "exception": false,
     "start_time": "2023-12-01T17:07:31.132548",
     "status": "completed"
    },
    "tags": []
   },
   "outputs": [],
   "source": [
    "pixels_train, pixels_valid, labels_train, labels_valid = train_test_split(\n",
    "    pixels,  \n",
    "    labels,  \n",
    "    test_size=0.3,\n",
    "    random_state=35643419 \n",
    ")"
   ]
  },
  {
   "cell_type": "code",
   "execution_count": 7,
   "id": "69dbb339",
   "metadata": {
    "execution": {
     "iopub.execute_input": "2023-12-01T17:07:31.385927Z",
     "iopub.status.busy": "2023-12-01T17:07:31.385534Z",
     "iopub.status.idle": "2023-12-01T17:07:31.389957Z",
     "shell.execute_reply": "2023-12-01T17:07:31.389133Z"
    },
    "papermill": {
     "duration": 0.014357,
     "end_time": "2023-12-01T17:07:31.391792",
     "exception": false,
     "start_time": "2023-12-01T17:07:31.377435",
     "status": "completed"
    },
    "tags": []
   },
   "outputs": [],
   "source": [
    "images_train = pixels_train.values.reshape(-1, 28, 28)\n",
    "images_valid = pixels_valid.values.reshape(-1,28,28)"
   ]
  },
  {
   "cell_type": "code",
   "execution_count": 8,
   "id": "fcd10b37",
   "metadata": {
    "execution": {
     "iopub.execute_input": "2023-12-01T17:07:31.407167Z",
     "iopub.status.busy": "2023-12-01T17:07:31.406912Z",
     "iopub.status.idle": "2023-12-01T17:07:31.412258Z",
     "shell.execute_reply": "2023-12-01T17:07:31.411468Z"
    },
    "papermill": {
     "duration": 0.014865,
     "end_time": "2023-12-01T17:07:31.414112",
     "exception": false,
     "start_time": "2023-12-01T17:07:31.399247",
     "status": "completed"
    },
    "tags": []
   },
   "outputs": [],
   "source": [
    "labels_train_one_hot = tf.keras.utils.to_categorical(labels_train, num_classes=10)\n",
    "labels_valid_one_hot = tf.keras.utils.to_categorical(labels_valid, num_classes=10)"
   ]
  },
  {
   "cell_type": "code",
   "execution_count": 9,
   "id": "c2204467",
   "metadata": {
    "execution": {
     "iopub.execute_input": "2023-12-01T17:07:31.429257Z",
     "iopub.status.busy": "2023-12-01T17:07:31.428992Z",
     "iopub.status.idle": "2023-12-01T17:07:31.432893Z",
     "shell.execute_reply": "2023-12-01T17:07:31.432082Z"
    },
    "papermill": {
     "duration": 0.013782,
     "end_time": "2023-12-01T17:07:31.435025",
     "exception": false,
     "start_time": "2023-12-01T17:07:31.421243",
     "status": "completed"
    },
    "tags": []
   },
   "outputs": [],
   "source": [
    "images_train_with_channel = images_train[..., np.newaxis]\n",
    "images_valid_with_channel = images_valid[..., np.newaxis]"
   ]
  },
  {
   "cell_type": "code",
   "execution_count": 10,
   "id": "f48acfa9",
   "metadata": {
    "execution": {
     "iopub.execute_input": "2023-12-01T17:07:31.449973Z",
     "iopub.status.busy": "2023-12-01T17:07:31.449725Z",
     "iopub.status.idle": "2023-12-01T17:07:31.453161Z",
     "shell.execute_reply": "2023-12-01T17:07:31.452368Z"
    },
    "papermill": {
     "duration": 0.013159,
     "end_time": "2023-12-01T17:07:31.455171",
     "exception": false,
     "start_time": "2023-12-01T17:07:31.442012",
     "status": "completed"
    },
    "tags": []
   },
   "outputs": [],
   "source": [
    "#pretrained_base = tf.keras.models.load_model(\n",
    " #   '../input/cv-course-models/cv-course-models/inceptionv3',\n",
    "#)\n",
    "#pretrained_base.trainable = False"
   ]
  },
  {
   "cell_type": "code",
   "execution_count": 11,
   "id": "e9e36477",
   "metadata": {
    "execution": {
     "iopub.execute_input": "2023-12-01T17:07:31.470459Z",
     "iopub.status.busy": "2023-12-01T17:07:31.469871Z",
     "iopub.status.idle": "2023-12-01T17:07:34.599467Z",
     "shell.execute_reply": "2023-12-01T17:07:34.598670Z"
    },
    "papermill": {
     "duration": 3.139567,
     "end_time": "2023-12-01T17:07:34.601763",
     "exception": false,
     "start_time": "2023-12-01T17:07:31.462196",
     "status": "completed"
    },
    "tags": []
   },
   "outputs": [],
   "source": [
    "model = keras.Sequential([\n",
    "    preprocessing.Rescaling(scale=1./255),\n",
    "    #Filter + detect : obtain 32 features, moving 1 pixel in the two dimensions, treating borders equally (same)\n",
    "    layers.Conv2D(filters=32,kernel_size=3,strides=1,padding='same',activation='relu', input_shape=(28, 28, 1)),\n",
    "    #Condense features\n",
    "    layers.MaxPool2D(pool_size=2,strides=1,padding='same'),\n",
    "\n",
    "    layers.Conv2D(filters=64,kernel_size=3,strides=1,padding='same',activation='relu'),\n",
    "    layers.MaxPool2D(pool_size=2,strides=1,padding='same'),\n",
    "    \n",
    "    layers.Conv2D(filters=128, kernel_size=3, strides=1, padding='same', activation='relu'),\n",
    "    layers.MaxPool2D(pool_size=2, strides=1, padding='same'),\n",
    "    \n",
    "    layers.Conv2D(filters=256, kernel_size=3, strides=1, padding='same', activation='relu'),\n",
    "    layers.MaxPool2D(pool_size=2, strides=1, padding='same'),\n",
    "    \n",
    "    layers.Flatten(),\n",
    "    layers.Dense(10, activation='softmax'),\n",
    "])"
   ]
  },
  {
   "cell_type": "code",
   "execution_count": 12,
   "id": "5d10562a",
   "metadata": {
    "execution": {
     "iopub.execute_input": "2023-12-01T17:07:34.617877Z",
     "iopub.status.busy": "2023-12-01T17:07:34.617356Z",
     "iopub.status.idle": "2023-12-01T17:07:34.640566Z",
     "shell.execute_reply": "2023-12-01T17:07:34.639739Z"
    },
    "papermill": {
     "duration": 0.033335,
     "end_time": "2023-12-01T17:07:34.642576",
     "exception": false,
     "start_time": "2023-12-01T17:07:34.609241",
     "status": "completed"
    },
    "tags": []
   },
   "outputs": [],
   "source": [
    "model.compile(\n",
    "    optimizer='rmsprop',\n",
    "    loss='categorical_crossentropy',\n",
    "    metrics=['accuracy'],\n",
    ")"
   ]
  },
  {
   "cell_type": "code",
   "execution_count": 13,
   "id": "1a842d1c",
   "metadata": {
    "execution": {
     "iopub.execute_input": "2023-12-01T17:07:34.658269Z",
     "iopub.status.busy": "2023-12-01T17:07:34.657702Z",
     "iopub.status.idle": "2023-12-01T17:07:34.661771Z",
     "shell.execute_reply": "2023-12-01T17:07:34.661032Z"
    },
    "papermill": {
     "duration": 0.014043,
     "end_time": "2023-12-01T17:07:34.663630",
     "exception": false,
     "start_time": "2023-12-01T17:07:34.649587",
     "status": "completed"
    },
    "tags": []
   },
   "outputs": [],
   "source": [
    "early_stopping = keras.callbacks.EarlyStopping(\n",
    "    patience=5,\n",
    "    min_delta=0.001,\n",
    "    restore_best_weights=True,\n",
    ")"
   ]
  },
  {
   "cell_type": "code",
   "execution_count": 14,
   "id": "42eafaed",
   "metadata": {
    "execution": {
     "iopub.execute_input": "2023-12-01T17:07:34.679122Z",
     "iopub.status.busy": "2023-12-01T17:07:34.678493Z",
     "iopub.status.idle": "2023-12-01T17:07:34.682759Z",
     "shell.execute_reply": "2023-12-01T17:07:34.681970Z"
    },
    "papermill": {
     "duration": 0.013988,
     "end_time": "2023-12-01T17:07:34.684522",
     "exception": false,
     "start_time": "2023-12-01T17:07:34.670534",
     "status": "completed"
    },
    "tags": []
   },
   "outputs": [],
   "source": [
    "model_checkpoint = keras.callbacks.ModelCheckpoint(\n",
    "    'best_model.h5',  # Save the best weights to this file\n",
    "    save_best_only=True,  # Only save the best weights based on the validation loss\n",
    "    monitor='val_loss',  # Monitor validation loss\n",
    "    mode='min',  # Mode can be 'min' or 'max' depending on the metric to minimize or maximize\n",
    "    verbose=1  # Display messages when saving the best weights\n",
    ")"
   ]
  },
  {
   "cell_type": "code",
   "execution_count": 15,
   "id": "cf796138",
   "metadata": {
    "execution": {
     "iopub.execute_input": "2023-12-01T17:07:34.700349Z",
     "iopub.status.busy": "2023-12-01T17:07:34.699631Z",
     "iopub.status.idle": "2023-12-01T17:09:36.723237Z",
     "shell.execute_reply": "2023-12-01T17:09:36.722382Z"
    },
    "papermill": {
     "duration": 122.179861,
     "end_time": "2023-12-01T17:09:36.871279",
     "exception": false,
     "start_time": "2023-12-01T17:07:34.691418",
     "status": "completed"
    },
    "tags": []
   },
   "outputs": [
    {
     "name": "stdout",
     "output_type": "stream",
     "text": [
      "Epoch 1/20\n",
      "919/919 [==============================] - ETA: 0s - loss: 0.1730 - accuracy: 0.9489\n",
      "Epoch 1: val_loss improved from inf to 0.04793, saving model to best_model.h5\n",
      "919/919 [==============================] - 20s 13ms/step - loss: 0.1730 - accuracy: 0.9489 - val_loss: 0.0479 - val_accuracy: 0.9849\n",
      "Epoch 2/20\n",
      "916/919 [============================>.] - ETA: 0s - loss: 0.0559 - accuracy: 0.9834\n",
      "Epoch 2: val_loss improved from 0.04793 to 0.04662, saving model to best_model.h5\n",
      "919/919 [==============================] - 11s 12ms/step - loss: 0.0560 - accuracy: 0.9834 - val_loss: 0.0466 - val_accuracy: 0.9861\n",
      "Epoch 3/20\n",
      "916/919 [============================>.] - ETA: 0s - loss: 0.0414 - accuracy: 0.9890\n",
      "Epoch 3: val_loss did not improve from 0.04662\n",
      "919/919 [==============================] - 11s 12ms/step - loss: 0.0415 - accuracy: 0.9889 - val_loss: 0.0572 - val_accuracy: 0.9841\n",
      "Epoch 4/20\n",
      "916/919 [============================>.] - ETA: 0s - loss: 0.0323 - accuracy: 0.9906\n",
      "Epoch 4: val_loss did not improve from 0.04662\n",
      "919/919 [==============================] - 11s 12ms/step - loss: 0.0322 - accuracy: 0.9906 - val_loss: 0.0506 - val_accuracy: 0.9883\n",
      "Epoch 5/20\n",
      "916/919 [============================>.] - ETA: 0s - loss: 0.0291 - accuracy: 0.9922\n",
      "Epoch 5: val_loss improved from 0.04662 to 0.04262, saving model to best_model.h5\n",
      "919/919 [==============================] - 11s 12ms/step - loss: 0.0290 - accuracy: 0.9922 - val_loss: 0.0426 - val_accuracy: 0.9884\n",
      "Epoch 6/20\n",
      "916/919 [============================>.] - ETA: 0s - loss: 0.0250 - accuracy: 0.9941\n",
      "Epoch 6: val_loss did not improve from 0.04262\n",
      "919/919 [==============================] - 11s 12ms/step - loss: 0.0249 - accuracy: 0.9941 - val_loss: 0.0679 - val_accuracy: 0.9860\n",
      "Epoch 7/20\n",
      "916/919 [============================>.] - ETA: 0s - loss: 0.0224 - accuracy: 0.9946\n",
      "Epoch 7: val_loss did not improve from 0.04262\n",
      "919/919 [==============================] - 11s 12ms/step - loss: 0.0230 - accuracy: 0.9946 - val_loss: 0.0592 - val_accuracy: 0.9863\n",
      "Epoch 8/20\n",
      "916/919 [============================>.] - ETA: 0s - loss: 0.0203 - accuracy: 0.9951\n",
      "Epoch 8: val_loss did not improve from 0.04262\n",
      "919/919 [==============================] - 11s 12ms/step - loss: 0.0202 - accuracy: 0.9951 - val_loss: 0.0774 - val_accuracy: 0.9860\n",
      "Epoch 9/20\n",
      "916/919 [============================>.] - ETA: 0s - loss: 0.0208 - accuracy: 0.9956\n",
      "Epoch 9: val_loss did not improve from 0.04262\n",
      "919/919 [==============================] - 11s 12ms/step - loss: 0.0207 - accuracy: 0.9956 - val_loss: 0.0892 - val_accuracy: 0.9863\n",
      "Epoch 10/20\n",
      "916/919 [============================>.] - ETA: 0s - loss: 0.0176 - accuracy: 0.9961\n",
      "Epoch 10: val_loss did not improve from 0.04262\n",
      "919/919 [==============================] - 11s 12ms/step - loss: 0.0176 - accuracy: 0.9961 - val_loss: 0.0692 - val_accuracy: 0.9899\n"
     ]
    }
   ],
   "source": [
    "history = model.fit(\n",
    "    images_train_with_channel, \n",
    "    labels_train_one_hot,\n",
    "    validation_data=(images_valid_with_channel, labels_valid_one_hot),\n",
    "    epochs=20,\n",
    "    callbacks=[early_stopping,model_checkpoint],\n",
    ")"
   ]
  },
  {
   "cell_type": "code",
   "execution_count": 16,
   "id": "c5b37cf0",
   "metadata": {
    "execution": {
     "iopub.execute_input": "2023-12-01T17:09:37.161772Z",
     "iopub.status.busy": "2023-12-01T17:09:37.161058Z",
     "iopub.status.idle": "2023-12-01T17:09:37.166030Z",
     "shell.execute_reply": "2023-12-01T17:09:37.165208Z"
    },
    "papermill": {
     "duration": 0.152057,
     "end_time": "2023-12-01T17:09:37.167824",
     "exception": false,
     "start_time": "2023-12-01T17:09:37.015767",
     "status": "completed"
    },
    "tags": []
   },
   "outputs": [],
   "source": [
    "history_frame = pd.DataFrame(history.history)"
   ]
  },
  {
   "cell_type": "code",
   "execution_count": 17,
   "id": "941a0651",
   "metadata": {
    "execution": {
     "iopub.execute_input": "2023-12-01T17:09:37.459837Z",
     "iopub.status.busy": "2023-12-01T17:09:37.459514Z",
     "iopub.status.idle": "2023-12-01T17:09:38.044410Z",
     "shell.execute_reply": "2023-12-01T17:09:38.043531Z"
    },
    "papermill": {
     "duration": 0.733722,
     "end_time": "2023-12-01T17:09:38.046381",
     "exception": false,
     "start_time": "2023-12-01T17:09:37.312659",
     "status": "completed"
    },
    "tags": []
   },
   "outputs": [
    {
     "data": {
      "text/plain": [
       "<Axes: >"
      ]
     },
     "execution_count": 17,
     "metadata": {},
     "output_type": "execute_result"
    },
    {
     "data": {
      "image/png": "[encoded data removed]",
      "text/plain": [
       "<Figure size 640x480 with 1 Axes>"
      ]
     },
     "metadata": {},
     "output_type": "display_data"
    },
    {
     "data": {
      "image/png": "[encoded data removed]",
      "text/plain": [
       "<Figure size 640x480 with 1 Axes>"
      ]
     },
     "metadata": {},
     "output_type": "display_data"
    }
   ],
   "source": [
    "history_frame.loc[3:, ['loss', 'val_loss']].plot()\n",
    "history_frame.loc[3:, ['accuracy', 'val_accuracy']].plot()"
   ]
  },
  {
   "cell_type": "code",
   "execution_count": 18,
   "id": "a4a13217",
   "metadata": {
    "execution": {
     "iopub.execute_input": "2023-12-01T17:09:38.341687Z",
     "iopub.status.busy": "2023-12-01T17:09:38.340777Z",
     "iopub.status.idle": "2023-12-01T17:09:38.495679Z",
     "shell.execute_reply": "2023-12-01T17:09:38.494933Z"
    },
    "papermill": {
     "duration": 0.304576,
     "end_time": "2023-12-01T17:09:38.497883",
     "exception": false,
     "start_time": "2023-12-01T17:09:38.193307",
     "status": "completed"
    },
    "tags": []
   },
   "outputs": [],
   "source": [
    "best_model = keras.models.load_model('best_model.h5')"
   ]
  },
  {
   "cell_type": "code",
   "execution_count": 19,
   "id": "9774d4c5",
   "metadata": {
    "execution": {
     "iopub.execute_input": "2023-12-01T17:09:38.792640Z",
     "iopub.status.busy": "2023-12-01T17:09:38.792204Z",
     "iopub.status.idle": "2023-12-01T17:09:41.051100Z",
     "shell.execute_reply": "2023-12-01T17:09:41.050237Z"
    },
    "papermill": {
     "duration": 2.407865,
     "end_time": "2023-12-01T17:09:41.052997",
     "exception": false,
     "start_time": "2023-12-01T17:09:38.645132",
     "status": "completed"
    },
    "tags": []
   },
   "outputs": [
    {
     "name": "stdout",
     "output_type": "stream",
     "text": [
      "394/394 [==============================] - 2s 5ms/step - loss: 0.0426 - accuracy: 0.9884\n",
      "valid_acc: 0.9884126782417297\n"
     ]
    }
   ],
   "source": [
    "valid_loss, valid_acc = best_model.evaluate(images_valid_with_channel, labels_valid_one_hot)\n",
    "print('valid_acc:', valid_acc)"
   ]
  },
  {
   "cell_type": "code",
   "execution_count": 20,
   "id": "f607f0b9",
   "metadata": {
    "execution": {
     "iopub.execute_input": "2023-12-01T17:09:41.354293Z",
     "iopub.status.busy": "2023-12-01T17:09:41.353480Z",
     "iopub.status.idle": "2023-12-01T17:09:41.358091Z",
     "shell.execute_reply": "2023-12-01T17:09:41.357285Z"
    },
    "papermill": {
     "duration": 0.158336,
     "end_time": "2023-12-01T17:09:41.360069",
     "exception": false,
     "start_time": "2023-12-01T17:09:41.201733",
     "status": "completed"
    },
    "tags": []
   },
   "outputs": [],
   "source": [
    "images_test = test.values.reshape(-1, 28, 28)\n",
    "images_test_with_channel = images_test[..., np.newaxis]"
   ]
  },
  {
   "cell_type": "code",
   "execution_count": 21,
   "id": "2f6f89b4",
   "metadata": {
    "execution": {
     "iopub.execute_input": "2023-12-01T17:09:41.659932Z",
     "iopub.status.busy": "2023-12-01T17:09:41.659226Z",
     "iopub.status.idle": "2023-12-01T17:09:45.780021Z",
     "shell.execute_reply": "2023-12-01T17:09:45.779124Z"
    },
    "papermill": {
     "duration": 4.273782,
     "end_time": "2023-12-01T17:09:45.782276",
     "exception": false,
     "start_time": "2023-12-01T17:09:41.508494",
     "status": "completed"
    },
    "tags": []
   },
   "outputs": [
    {
     "name": "stdout",
     "output_type": "stream",
     "text": [
      "875/875 [==============================] - 3s 3ms/step\n"
     ]
    }
   ],
   "source": [
    "pred = best_model.predict(images_test)"
   ]
  },
  {
   "cell_type": "code",
   "execution_count": 22,
   "id": "e1c672b9",
   "metadata": {
    "execution": {
     "iopub.execute_input": "2023-12-01T17:09:46.091219Z",
     "iopub.status.busy": "2023-12-01T17:09:46.090516Z",
     "iopub.status.idle": "2023-12-01T17:09:46.095746Z",
     "shell.execute_reply": "2023-12-01T17:09:46.095095Z"
    },
    "papermill": {
     "duration": 0.161321,
     "end_time": "2023-12-01T17:09:46.097672",
     "exception": false,
     "start_time": "2023-12-01T17:09:45.936351",
     "status": "completed"
    },
    "tags": []
   },
   "outputs": [],
   "source": [
    "predicted_classes = np.argmax(pred, axis=1)"
   ]
  },
  {
   "cell_type": "code",
   "execution_count": 23,
   "id": "eec5850f",
   "metadata": {
    "execution": {
     "iopub.execute_input": "2023-12-01T17:09:46.406173Z",
     "iopub.status.busy": "2023-12-01T17:09:46.405559Z",
     "iopub.status.idle": "2023-12-01T17:09:46.409926Z",
     "shell.execute_reply": "2023-12-01T17:09:46.409067Z"
    },
    "papermill": {
     "duration": 0.161097,
     "end_time": "2023-12-01T17:09:46.411773",
     "exception": false,
     "start_time": "2023-12-01T17:09:46.250676",
     "status": "completed"
    },
    "tags": []
   },
   "outputs": [],
   "source": [
    "image_ids = np.arange(1, len(predicted_classes) + 1)"
   ]
  },
  {
   "cell_type": "code",
   "execution_count": 24,
   "id": "2bb3255d",
   "metadata": {
    "execution": {
     "iopub.execute_input": "2023-12-01T17:09:46.720009Z",
     "iopub.status.busy": "2023-12-01T17:09:46.719302Z",
     "iopub.status.idle": "2023-12-01T17:09:46.724194Z",
     "shell.execute_reply": "2023-12-01T17:09:46.723416Z"
    },
    "papermill": {
     "duration": 0.160648,
     "end_time": "2023-12-01T17:09:46.725956",
     "exception": false,
     "start_time": "2023-12-01T17:09:46.565308",
     "status": "completed"
    },
    "tags": []
   },
   "outputs": [],
   "source": [
    "df_submission = pd.DataFrame({\n",
    "    'ImageId': image_ids,\n",
    "    'Label': predicted_classes\n",
    "})"
   ]
  },
  {
   "cell_type": "code",
   "execution_count": 25,
   "id": "15e388d9",
   "metadata": {
    "execution": {
     "iopub.execute_input": "2023-12-01T17:09:47.030563Z",
     "iopub.status.busy": "2023-12-01T17:09:47.030269Z",
     "iopub.status.idle": "2023-12-01T17:09:47.088674Z",
     "shell.execute_reply": "2023-12-01T17:09:47.087815Z"
    },
    "papermill": {
     "duration": 0.212886,
     "end_time": "2023-12-01T17:09:47.090542",
     "exception": false,
     "start_time": "2023-12-01T17:09:46.877656",
     "status": "completed"
    },
    "tags": []
   },
   "outputs": [],
   "source": [
    "df_submission.to_csv('submission5.csv', index=False)"
   ]
  }
 ],
 "metadata": {
  "kaggle": {
   "accelerator": "gpu",
   "dataSources": [
    {
     "databundleVersionId": 861823,
     "sourceId": 3004,
     "sourceType": "competition"
    },
    {
     "datasetId": 708136,
     "sourceId": 1338830,
     "sourceType": "datasetVersion"
    }
   ],
   "dockerImageVersionId": 30558,
   "isGpuEnabled": true,
   "isInternetEnabled": true,
   "language": "python",
   "sourceType": "notebook"
  },
  "kernelspec": {
   "display_name": "Python 3",
   "language": "python",
   "name": "python3"
  },
  "language_info": {
   "codemirror_mode": {
    "name": "ipython",
    "version": 3
   },
   "file_extension": ".py",
   "mimetype": "text/x-python",
   "name": "python",
   "nbconvert_exporter": "python",
   "pygments_lexer": "ipython3",
   "version": "3.10.12"
  },
  "papermill": {
   "default_parameters": {},
   "duration": 158.610819,
   "end_time": "2023-12-01T17:09:50.462624",
   "environment_variables": {},
   "exception": null,
   "input_path": "__notebook__.ipynb",
   "output_path": "__notebook__.ipynb",
   "parameters": {},
   "start_time": "2023-12-01T17:07:11.851805",
   "version": "2.4.0"
  }
 },
 "nbformat": 4,
 "nbformat_minor": 5
}
