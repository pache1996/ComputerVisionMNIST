{
 "cells": [
  {
   "cell_type": "markdown",
   "id": "4c8928e8",
   "metadata": {
    "papermill": {
     "duration": 0.008841,
     "end_time": "2024-01-03T19:32:55.202178",
     "exception": false,
     "start_time": "2024-01-03T19:32:55.193337",
     "status": "completed"
    },
    "tags": []
   },
   "source": [
    "# Intro\n",
    "Basically this environment is to essay different things from preprocessing to everything else. "
   ]
  },
  {
   "cell_type": "code",
   "execution_count": 1,
   "id": "00a879df",
   "metadata": {
    "execution": {
     "iopub.execute_input": "2024-01-03T19:32:55.219870Z",
     "iopub.status.busy": "2024-01-03T19:32:55.219564Z",
     "iopub.status.idle": "2024-01-03T19:33:04.420101Z",
     "shell.execute_reply": "2024-01-03T19:33:04.419306Z"
    },
    "papermill": {
     "duration": 9.21195,
     "end_time": "2024-01-03T19:33:04.422349",
     "exception": false,
     "start_time": "2024-01-03T19:32:55.210399",
     "status": "completed"
    },
    "tags": []
   },
   "outputs": [
    {
     "name": "stderr",
     "output_type": "stream",
     "text": [
      "/opt/conda/lib/python3.10/site-packages/scipy/__init__.py:146: UserWarning: A NumPy version >=1.16.5 and <1.23.0 is required for this version of SciPy (detected version 1.23.5\n",
      "  warnings.warn(f\"A NumPy version >={np_minversion} and <{np_maxversion}\"\n"
     ]
    }
   ],
   "source": [
    "import pandas as pd \n",
    "import seaborn as sns\n",
    "import matplotlib.pyplot as plt\n",
    "import os\n",
    "import numpy as np\n",
    "import tensorflow as tf\n",
    "from sklearn.model_selection import train_test_split\n",
    "from tensorflow.keras.layers.experimental import preprocessing\n",
    "from tensorflow import keras\n",
    "from tensorflow.keras import layers\n",
    "from tensorflow.keras.preprocessing.image import ImageDataGenerator\n",
    "\n",
    "def set_seed(seed=35643419):\n",
    "    np.random.seed(seed)\n",
    "    tf.random.set_seed(seed)\n",
    "    os.environ['PYTHONHASHSEED'] = str(seed)\n",
    "    os.environ['TF_DETERMINISTIC_OPS'] = '1'\n",
    "set_seed(35643419)"
   ]
  },
  {
   "cell_type": "code",
   "execution_count": 2,
   "id": "d2469d95",
   "metadata": {
    "execution": {
     "iopub.execute_input": "2024-01-03T19:33:04.441129Z",
     "iopub.status.busy": "2024-01-03T19:33:04.440562Z",
     "iopub.status.idle": "2024-01-03T19:33:09.908061Z",
     "shell.execute_reply": "2024-01-03T19:33:09.907099Z"
    },
    "papermill": {
     "duration": 5.479326,
     "end_time": "2024-01-03T19:33:09.910386",
     "exception": false,
     "start_time": "2024-01-03T19:33:04.431060",
     "status": "completed"
    },
    "tags": []
   },
   "outputs": [],
   "source": [
    "train = pd.read_csv('/kaggle/input/digit-recognizer/train.csv')\n",
    "test = pd.read_csv('/kaggle/input/digit-recognizer/test.csv')"
   ]
  },
  {
   "cell_type": "code",
   "execution_count": 3,
   "id": "c6433b71",
   "metadata": {
    "execution": {
     "iopub.execute_input": "2024-01-03T19:33:09.930893Z",
     "iopub.status.busy": "2024-01-03T19:33:09.930337Z",
     "iopub.status.idle": "2024-01-03T19:33:09.934621Z",
     "shell.execute_reply": "2024-01-03T19:33:09.933720Z"
    },
    "papermill": {
     "duration": 0.016546,
     "end_time": "2024-01-03T19:33:09.936753",
     "exception": false,
     "start_time": "2024-01-03T19:33:09.920207",
     "status": "completed"
    },
    "tags": []
   },
   "outputs": [],
   "source": [
    "#train.head()"
   ]
  },
  {
   "cell_type": "code",
   "execution_count": 4,
   "id": "8e031937",
   "metadata": {
    "execution": {
     "iopub.execute_input": "2024-01-03T19:33:09.954261Z",
     "iopub.status.busy": "2024-01-03T19:33:09.954011Z",
     "iopub.status.idle": "2024-01-03T19:33:09.957559Z",
     "shell.execute_reply": "2024-01-03T19:33:09.956762Z"
    },
    "papermill": {
     "duration": 0.014305,
     "end_time": "2024-01-03T19:33:09.959385",
     "exception": false,
     "start_time": "2024-01-03T19:33:09.945080",
     "status": "completed"
    },
    "tags": []
   },
   "outputs": [],
   "source": [
    "#We have more or less the same distribution of numbers\n",
    "#sns.histplot(train.label)"
   ]
  },
  {
   "cell_type": "code",
   "execution_count": 5,
   "id": "cf09b113",
   "metadata": {
    "execution": {
     "iopub.execute_input": "2024-01-03T19:33:09.977317Z",
     "iopub.status.busy": "2024-01-03T19:33:09.976682Z",
     "iopub.status.idle": "2024-01-03T19:33:10.065817Z",
     "shell.execute_reply": "2024-01-03T19:33:10.064865Z"
    },
    "papermill": {
     "duration": 0.100295,
     "end_time": "2024-01-03T19:33:10.068020",
     "exception": false,
     "start_time": "2024-01-03T19:33:09.967725",
     "status": "completed"
    },
    "tags": []
   },
   "outputs": [],
   "source": [
    "labels = train['label']\n",
    "pixels = train.drop('label', axis=1)\n",
    "\n",
    "images = pixels.values.reshape(-1, 28, 28)\n",
    "\n",
    "#for i in [0,1,2,3,4]:\n",
    " #   plt.imshow(images[i], cmap='gray')\n",
    "  #  plt.title(f\"Label: {labels[i]}\")\n",
    "   # plt.show()"
   ]
  },
  {
   "cell_type": "code",
   "execution_count": 6,
   "id": "65d9e121",
   "metadata": {
    "execution": {
     "iopub.execute_input": "2024-01-03T19:33:10.086801Z",
     "iopub.status.busy": "2024-01-03T19:33:10.086095Z",
     "iopub.status.idle": "2024-01-03T19:33:10.092595Z",
     "shell.execute_reply": "2024-01-03T19:33:10.091770Z"
    },
    "papermill": {
     "duration": 0.018026,
     "end_time": "2024-01-03T19:33:10.094611",
     "exception": false,
     "start_time": "2024-01-03T19:33:10.076585",
     "status": "completed"
    },
    "tags": []
   },
   "outputs": [
    {
     "data": {
      "text/plain": [
       "'\\ndatagen = ImageDataGenerator(\\n    shear_range=0.2,\\n    zoom_range=0.2,\\n    vertical_flip=True,\\n)\\n'"
      ]
     },
     "execution_count": 6,
     "metadata": {},
     "output_type": "execute_result"
    }
   ],
   "source": [
    "'''\n",
    "datagen = ImageDataGenerator(\n",
    "    shear_range=0.2,\n",
    "    zoom_range=0.2,\n",
    "    vertical_flip=True,\n",
    ")\n",
    "'''"
   ]
  },
  {
   "cell_type": "code",
   "execution_count": 7,
   "id": "2f43cf13",
   "metadata": {
    "execution": {
     "iopub.execute_input": "2024-01-03T19:33:10.112552Z",
     "iopub.status.busy": "2024-01-03T19:33:10.112000Z",
     "iopub.status.idle": "2024-01-03T19:33:10.341974Z",
     "shell.execute_reply": "2024-01-03T19:33:10.341202Z"
    },
    "papermill": {
     "duration": 0.241458,
     "end_time": "2024-01-03T19:33:10.344335",
     "exception": false,
     "start_time": "2024-01-03T19:33:10.102877",
     "status": "completed"
    },
    "tags": []
   },
   "outputs": [],
   "source": [
    "pixels_train, pixels_valid, labels_train, labels_valid = train_test_split(\n",
    "    pixels,  \n",
    "    labels,  \n",
    "    test_size=0.3,\n",
    "    random_state=35643419 \n",
    ")"
   ]
  },
  {
   "cell_type": "code",
   "execution_count": 8,
   "id": "e2d52de5",
   "metadata": {
    "execution": {
     "iopub.execute_input": "2024-01-03T19:33:10.363284Z",
     "iopub.status.busy": "2024-01-03T19:33:10.362540Z",
     "iopub.status.idle": "2024-01-03T19:33:10.367085Z",
     "shell.execute_reply": "2024-01-03T19:33:10.366241Z"
    },
    "papermill": {
     "duration": 0.015807,
     "end_time": "2024-01-03T19:33:10.368934",
     "exception": false,
     "start_time": "2024-01-03T19:33:10.353127",
     "status": "completed"
    },
    "tags": []
   },
   "outputs": [],
   "source": [
    "images_train = pixels_train.values.reshape(-1, 28, 28)\n",
    "images_valid = pixels_valid.values.reshape(-1,28,28)"
   ]
  },
  {
   "cell_type": "code",
   "execution_count": 9,
   "id": "e5e8916c",
   "metadata": {
    "execution": {
     "iopub.execute_input": "2024-01-03T19:33:10.387657Z",
     "iopub.status.busy": "2024-01-03T19:33:10.387394Z",
     "iopub.status.idle": "2024-01-03T19:33:10.393099Z",
     "shell.execute_reply": "2024-01-03T19:33:10.392407Z"
    },
    "papermill": {
     "duration": 0.017389,
     "end_time": "2024-01-03T19:33:10.394930",
     "exception": false,
     "start_time": "2024-01-03T19:33:10.377541",
     "status": "completed"
    },
    "tags": []
   },
   "outputs": [],
   "source": [
    "labels_train_one_hot = tf.keras.utils.to_categorical(labels_train, num_classes=10)\n",
    "labels_valid_one_hot = tf.keras.utils.to_categorical(labels_valid, num_classes=10)"
   ]
  },
  {
   "cell_type": "code",
   "execution_count": 10,
   "id": "b4d32ef7",
   "metadata": {
    "execution": {
     "iopub.execute_input": "2024-01-03T19:33:10.413242Z",
     "iopub.status.busy": "2024-01-03T19:33:10.412951Z",
     "iopub.status.idle": "2024-01-03T19:33:10.417291Z",
     "shell.execute_reply": "2024-01-03T19:33:10.416301Z"
    },
    "papermill": {
     "duration": 0.015718,
     "end_time": "2024-01-03T19:33:10.419229",
     "exception": false,
     "start_time": "2024-01-03T19:33:10.403511",
     "status": "completed"
    },
    "tags": []
   },
   "outputs": [],
   "source": [
    "images_train_with_channel = images_train[..., np.newaxis]\n",
    "images_valid_with_channel = images_valid[..., np.newaxis]"
   ]
  },
  {
   "cell_type": "code",
   "execution_count": 11,
   "id": "2d91f2b0",
   "metadata": {
    "execution": {
     "iopub.execute_input": "2024-01-03T19:33:10.437318Z",
     "iopub.status.busy": "2024-01-03T19:33:10.437050Z",
     "iopub.status.idle": "2024-01-03T19:33:10.442623Z",
     "shell.execute_reply": "2024-01-03T19:33:10.441796Z"
    },
    "papermill": {
     "duration": 0.016562,
     "end_time": "2024-01-03T19:33:10.444424",
     "exception": false,
     "start_time": "2024-01-03T19:33:10.427862",
     "status": "completed"
    },
    "tags": []
   },
   "outputs": [
    {
     "data": {
      "text/plain": [
       "'\\nimages_train_with_channel = datagen.flow(\\n    x=images_train_with_channel,\\n    y=labels_train_one_hot,\\n    batch_size=32,\\n    seed=35643419\\n)\\n\\nimages_valid_with_channel = datagen.flow(\\n    x=images_train_with_channel,\\n    y=labels_valid_one_hot,\\n    batch_size=32,\\n    seed=35643419\\n)\\n'"
      ]
     },
     "execution_count": 11,
     "metadata": {},
     "output_type": "execute_result"
    }
   ],
   "source": [
    "'''\n",
    "images_train_with_channel = datagen.flow(\n",
    "    x=images_train_with_channel,\n",
    "    y=labels_train_one_hot,\n",
    "    batch_size=32,\n",
    "    seed=35643419\n",
    ")\n",
    "\n",
    "images_valid_with_channel = datagen.flow(\n",
    "    x=images_train_with_channel,\n",
    "    y=labels_valid_one_hot,\n",
    "    batch_size=32,\n",
    "    seed=35643419\n",
    ")\n",
    "'''"
   ]
  },
  {
   "cell_type": "code",
   "execution_count": 12,
   "id": "18aaa4c0",
   "metadata": {
    "execution": {
     "iopub.execute_input": "2024-01-03T19:33:10.462513Z",
     "iopub.status.busy": "2024-01-03T19:33:10.462027Z",
     "iopub.status.idle": "2024-01-03T19:33:10.465688Z",
     "shell.execute_reply": "2024-01-03T19:33:10.464895Z"
    },
    "papermill": {
     "duration": 0.014777,
     "end_time": "2024-01-03T19:33:10.467547",
     "exception": false,
     "start_time": "2024-01-03T19:33:10.452770",
     "status": "completed"
    },
    "tags": []
   },
   "outputs": [],
   "source": [
    "#pretrained_base = tf.keras.models.load_model(\n",
    " #   '../input/cv-course-models/cv-course-models/inceptionv3',\n",
    "#)\n",
    "#pretrained_base.trainable = False"
   ]
  },
  {
   "cell_type": "code",
   "execution_count": 13,
   "id": "2d10a40e",
   "metadata": {
    "execution": {
     "iopub.execute_input": "2024-01-03T19:33:10.485902Z",
     "iopub.status.busy": "2024-01-03T19:33:10.485639Z",
     "iopub.status.idle": "2024-01-03T19:33:13.593740Z",
     "shell.execute_reply": "2024-01-03T19:33:13.592914Z"
    },
    "papermill": {
     "duration": 3.120059,
     "end_time": "2024-01-03T19:33:13.596104",
     "exception": false,
     "start_time": "2024-01-03T19:33:10.476045",
     "status": "completed"
    },
    "tags": []
   },
   "outputs": [],
   "source": [
    "model = keras.Sequential([\n",
    "    preprocessing.Rescaling(scale=1./255,input_shape=(28,28,1)),\n",
    "    layers.Conv2D(filters=32,kernel_size=3,strides=1,padding='valid',activation='relu', input_shape=(28, 28, 1)),\n",
    "    layers.ReLU(),\n",
    "    layers.MaxPool2D(pool_size=2,strides=1,padding='valid'),\n",
    "\n",
    "    layers.Conv2D(filters=64,kernel_size=3,strides=1,padding='valid',activation='relu'),\n",
    "    layers.ReLU(),\n",
    "    layers.MaxPool2D(pool_size=2,strides=1,padding='valid'),\n",
    "    \n",
    "    layers.Conv2D(filters=128, kernel_size=3, strides=1, padding='valid', activation='relu'),\n",
    "    layers.MaxPool2D(pool_size=2, strides=1, padding='valid'),\n",
    "    \n",
    "    layers.Flatten(),\n",
    "    layers.Dense(512,activation='tanh'),\n",
    "    layers.Dense(10, activation='softmax'),\n",
    "])"
   ]
  },
  {
   "cell_type": "code",
   "execution_count": 14,
   "id": "d5af5588",
   "metadata": {
    "execution": {
     "iopub.execute_input": "2024-01-03T19:33:13.614751Z",
     "iopub.status.busy": "2024-01-03T19:33:13.614465Z",
     "iopub.status.idle": "2024-01-03T19:33:13.629675Z",
     "shell.execute_reply": "2024-01-03T19:33:13.629003Z"
    },
    "papermill": {
     "duration": 0.026505,
     "end_time": "2024-01-03T19:33:13.631512",
     "exception": false,
     "start_time": "2024-01-03T19:33:13.605007",
     "status": "completed"
    },
    "tags": []
   },
   "outputs": [],
   "source": [
    "model.compile(\n",
    "    optimizer='rmsprop',\n",
    "    loss='categorical_crossentropy',\n",
    "    metrics=['accuracy'],\n",
    ")"
   ]
  },
  {
   "cell_type": "code",
   "execution_count": 15,
   "id": "902108e8",
   "metadata": {
    "execution": {
     "iopub.execute_input": "2024-01-03T19:33:13.649870Z",
     "iopub.status.busy": "2024-01-03T19:33:13.649609Z",
     "iopub.status.idle": "2024-01-03T19:33:13.655128Z",
     "shell.execute_reply": "2024-01-03T19:33:13.654168Z"
    },
    "papermill": {
     "duration": 0.017255,
     "end_time": "2024-01-03T19:33:13.657323",
     "exception": false,
     "start_time": "2024-01-03T19:33:13.640068",
     "status": "completed"
    },
    "tags": []
   },
   "outputs": [
    {
     "data": {
      "text/plain": [
       "'\\nearly_stopping = keras.callbacks.EarlyStopping(\\n    patience=10,\\n    min_delta=0.001,\\n    restore_best_weights=True,\\n)\\n'"
      ]
     },
     "execution_count": 15,
     "metadata": {},
     "output_type": "execute_result"
    }
   ],
   "source": [
    "'''\n",
    "early_stopping = keras.callbacks.EarlyStopping(\n",
    "    patience=10,\n",
    "    min_delta=0.001,\n",
    "    restore_best_weights=True,\n",
    ")\n",
    "'''"
   ]
  },
  {
   "cell_type": "code",
   "execution_count": 16,
   "id": "2a78820b",
   "metadata": {
    "execution": {
     "iopub.execute_input": "2024-01-03T19:33:13.675417Z",
     "iopub.status.busy": "2024-01-03T19:33:13.675149Z",
     "iopub.status.idle": "2024-01-03T19:33:13.680481Z",
     "shell.execute_reply": "2024-01-03T19:33:13.679833Z"
    },
    "papermill": {
     "duration": 0.016448,
     "end_time": "2024-01-03T19:33:13.682298",
     "exception": false,
     "start_time": "2024-01-03T19:33:13.665850",
     "status": "completed"
    },
    "tags": []
   },
   "outputs": [],
   "source": [
    "model_checkpoint = keras.callbacks.ModelCheckpoint(\n",
    "    'best_model.h5',  # Save the best weights to this file\n",
    "    save_best_only=True,  # Only save the best weights based on the validation loss\n",
    "    monitor='val_loss',  # Monitor validation loss\n",
    "    mode='min',  # Mode can be 'min' or 'max' depending on the metric to minimize or maximize\n",
    "    verbose=1  # Display messages when saving the best weights\n",
    ")"
   ]
  },
  {
   "cell_type": "code",
   "execution_count": 17,
   "id": "57ca1cab",
   "metadata": {
    "execution": {
     "iopub.execute_input": "2024-01-03T19:33:13.700800Z",
     "iopub.status.busy": "2024-01-03T19:33:13.700526Z",
     "iopub.status.idle": "2024-01-03T19:37:55.130987Z",
     "shell.execute_reply": "2024-01-03T19:37:55.130223Z"
    },
    "papermill": {
     "duration": 281.442046,
     "end_time": "2024-01-03T19:37:55.132917",
     "exception": false,
     "start_time": "2024-01-03T19:33:13.690871",
     "status": "completed"
    },
    "tags": []
   },
   "outputs": [
    {
     "name": "stdout",
     "output_type": "stream",
     "text": [
      "Epoch 1/50\n",
      "459/460 [============================>.] - ETA: 0s - loss: 0.2129 - accuracy: 0.9404\n",
      "Epoch 1: val_loss improved from inf to 0.13183, saving model to best_model.h5\n",
      "460/460 [==============================] - 14s 14ms/step - loss: 0.2128 - accuracy: 0.9404 - val_loss: 0.1318 - val_accuracy: 0.9598\n",
      "Epoch 2/50\n",
      "458/460 [============================>.] - ETA: 0s - loss: 0.0582 - accuracy: 0.9824\n",
      "Epoch 2: val_loss improved from 0.13183 to 0.06289, saving model to best_model.h5\n",
      "460/460 [==============================] - 6s 13ms/step - loss: 0.0581 - accuracy: 0.9824 - val_loss: 0.0629 - val_accuracy: 0.9818\n",
      "Epoch 3/50\n",
      "459/460 [============================>.] - ETA: 0s - loss: 0.0377 - accuracy: 0.9883\n",
      "Epoch 3: val_loss improved from 0.06289 to 0.04940, saving model to best_model.h5\n",
      "460/460 [==============================] - 6s 13ms/step - loss: 0.0377 - accuracy: 0.9883 - val_loss: 0.0494 - val_accuracy: 0.9865\n",
      "Epoch 4/50\n",
      "456/460 [============================>.] - ETA: 0s - loss: 0.0266 - accuracy: 0.9921\n",
      "Epoch 4: val_loss improved from 0.04940 to 0.04019, saving model to best_model.h5\n",
      "460/460 [==============================] - 6s 13ms/step - loss: 0.0265 - accuracy: 0.9921 - val_loss: 0.0402 - val_accuracy: 0.9897\n",
      "Epoch 5/50\n",
      "457/460 [============================>.] - ETA: 0s - loss: 0.0162 - accuracy: 0.9949\n",
      "Epoch 5: val_loss improved from 0.04019 to 0.03625, saving model to best_model.h5\n",
      "460/460 [==============================] - 6s 13ms/step - loss: 0.0162 - accuracy: 0.9950 - val_loss: 0.0362 - val_accuracy: 0.9902\n",
      "Epoch 6/50\n",
      "459/460 [============================>.] - ETA: 0s - loss: 0.0123 - accuracy: 0.9961\n",
      "Epoch 6: val_loss did not improve from 0.03625\n",
      "460/460 [==============================] - 5s 12ms/step - loss: 0.0122 - accuracy: 0.9961 - val_loss: 0.0419 - val_accuracy: 0.9899\n",
      "Epoch 7/50\n",
      "460/460 [==============================] - ETA: 0s - loss: 0.0070 - accuracy: 0.9981\n",
      "Epoch 7: val_loss did not improve from 0.03625\n",
      "460/460 [==============================] - 5s 12ms/step - loss: 0.0070 - accuracy: 0.9981 - val_loss: 0.0566 - val_accuracy: 0.9856\n",
      "Epoch 8/50\n",
      "457/460 [============================>.] - ETA: 0s - loss: 0.0039 - accuracy: 0.9988\n",
      "Epoch 8: val_loss did not improve from 0.03625\n",
      "460/460 [==============================] - 5s 12ms/step - loss: 0.0039 - accuracy: 0.9988 - val_loss: 0.0426 - val_accuracy: 0.9898\n",
      "Epoch 9/50\n",
      "456/460 [============================>.] - ETA: 0s - loss: 0.0022 - accuracy: 0.9995\n",
      "Epoch 9: val_loss did not improve from 0.03625\n",
      "460/460 [==============================] - 5s 12ms/step - loss: 0.0022 - accuracy: 0.9995 - val_loss: 0.0436 - val_accuracy: 0.9910\n",
      "Epoch 10/50\n",
      "457/460 [============================>.] - ETA: 0s - loss: 0.0024 - accuracy: 0.9993\n",
      "Epoch 10: val_loss did not improve from 0.03625\n",
      "460/460 [==============================] - 5s 12ms/step - loss: 0.0024 - accuracy: 0.9993 - val_loss: 0.0445 - val_accuracy: 0.9909\n",
      "Epoch 11/50\n",
      "456/460 [============================>.] - ETA: 0s - loss: 0.0017 - accuracy: 0.9996\n",
      "Epoch 11: val_loss did not improve from 0.03625\n",
      "460/460 [==============================] - 5s 12ms/step - loss: 0.0017 - accuracy: 0.9996 - val_loss: 0.0472 - val_accuracy: 0.9892\n",
      "Epoch 12/50\n",
      "457/460 [============================>.] - ETA: 0s - loss: 4.0518e-04 - accuracy: 0.9999\n",
      "Epoch 12: val_loss did not improve from 0.03625\n",
      "460/460 [==============================] - 5s 12ms/step - loss: 4.0357e-04 - accuracy: 0.9999 - val_loss: 0.0459 - val_accuracy: 0.9917\n",
      "Epoch 13/50\n",
      "459/460 [============================>.] - ETA: 0s - loss: 5.7247e-04 - accuracy: 0.9998\n",
      "Epoch 13: val_loss did not improve from 0.03625\n",
      "460/460 [==============================] - 5s 12ms/step - loss: 5.7200e-04 - accuracy: 0.9998 - val_loss: 0.0521 - val_accuracy: 0.9902\n",
      "Epoch 14/50\n",
      "455/460 [============================>.] - ETA: 0s - loss: 1.8277e-04 - accuracy: 1.0000\n",
      "Epoch 14: val_loss did not improve from 0.03625\n",
      "460/460 [==============================] - 5s 12ms/step - loss: 1.8119e-04 - accuracy: 1.0000 - val_loss: 0.0450 - val_accuracy: 0.9917\n",
      "Epoch 15/50\n",
      "460/460 [==============================] - ETA: 0s - loss: 8.7090e-05 - accuracy: 1.0000\n",
      "Epoch 15: val_loss did not improve from 0.03625\n",
      "460/460 [==============================] - 5s 12ms/step - loss: 8.7090e-05 - accuracy: 1.0000 - val_loss: 0.0438 - val_accuracy: 0.9914\n",
      "Epoch 16/50\n",
      "456/460 [============================>.] - ETA: 0s - loss: 6.0795e-05 - accuracy: 1.0000\n",
      "Epoch 16: val_loss did not improve from 0.03625\n",
      "460/460 [==============================] - 5s 12ms/step - loss: 6.0630e-05 - accuracy: 1.0000 - val_loss: 0.0438 - val_accuracy: 0.9915\n",
      "Epoch 17/50\n",
      "460/460 [==============================] - ETA: 0s - loss: 4.1697e-05 - accuracy: 1.0000\n",
      "Epoch 17: val_loss did not improve from 0.03625\n",
      "460/460 [==============================] - 5s 12ms/step - loss: 4.1697e-05 - accuracy: 1.0000 - val_loss: 0.0432 - val_accuracy: 0.9917\n",
      "Epoch 18/50\n",
      "460/460 [==============================] - ETA: 0s - loss: 2.3682e-05 - accuracy: 1.0000\n",
      "Epoch 18: val_loss did not improve from 0.03625\n",
      "460/460 [==============================] - 5s 12ms/step - loss: 2.3682e-05 - accuracy: 1.0000 - val_loss: 0.0480 - val_accuracy: 0.9912\n",
      "Epoch 19/50\n",
      "458/460 [============================>.] - ETA: 0s - loss: 3.2412e-05 - accuracy: 1.0000\n",
      "Epoch 19: val_loss did not improve from 0.03625\n",
      "460/460 [==============================] - 5s 12ms/step - loss: 3.2350e-05 - accuracy: 1.0000 - val_loss: 0.0450 - val_accuracy: 0.9913\n",
      "Epoch 20/50\n",
      "456/460 [============================>.] - ETA: 0s - loss: 1.9445e-05 - accuracy: 1.0000\n",
      "Epoch 20: val_loss did not improve from 0.03625\n",
      "460/460 [==============================] - 5s 12ms/step - loss: 1.9353e-05 - accuracy: 1.0000 - val_loss: 0.0445 - val_accuracy: 0.9915\n",
      "Epoch 21/50\n",
      "458/460 [============================>.] - ETA: 0s - loss: 1.1320e-05 - accuracy: 1.0000\n",
      "Epoch 21: val_loss did not improve from 0.03625\n",
      "460/460 [==============================] - 5s 12ms/step - loss: 1.1296e-05 - accuracy: 1.0000 - val_loss: 0.0447 - val_accuracy: 0.9913\n",
      "Epoch 22/50\n",
      "455/460 [============================>.] - ETA: 0s - loss: 1.0178e-05 - accuracy: 1.0000\n",
      "Epoch 22: val_loss did not improve from 0.03625\n",
      "460/460 [==============================] - 5s 12ms/step - loss: 1.0137e-05 - accuracy: 1.0000 - val_loss: 0.0445 - val_accuracy: 0.9915\n",
      "Epoch 23/50\n",
      "456/460 [============================>.] - ETA: 0s - loss: 9.2835e-06 - accuracy: 1.0000\n",
      "Epoch 23: val_loss did not improve from 0.03625\n",
      "460/460 [==============================] - 5s 12ms/step - loss: 9.2534e-06 - accuracy: 1.0000 - val_loss: 0.0447 - val_accuracy: 0.9914\n",
      "Epoch 24/50\n",
      "459/460 [============================>.] - ETA: 0s - loss: 8.6207e-06 - accuracy: 1.0000\n",
      "Epoch 24: val_loss did not improve from 0.03625\n",
      "460/460 [==============================] - 5s 12ms/step - loss: 8.6193e-06 - accuracy: 1.0000 - val_loss: 0.0451 - val_accuracy: 0.9915\n",
      "Epoch 25/50\n",
      "458/460 [============================>.] - ETA: 0s - loss: 8.0429e-06 - accuracy: 1.0000\n",
      "Epoch 25: val_loss did not improve from 0.03625\n",
      "460/460 [==============================] - 5s 12ms/step - loss: 8.0359e-06 - accuracy: 1.0000 - val_loss: 0.0452 - val_accuracy: 0.9915\n",
      "Epoch 26/50\n",
      "458/460 [============================>.] - ETA: 0s - loss: 7.5359e-06 - accuracy: 1.0000\n",
      "Epoch 26: val_loss did not improve from 0.03625\n",
      "460/460 [==============================] - 5s 12ms/step - loss: 7.5288e-06 - accuracy: 1.0000 - val_loss: 0.0454 - val_accuracy: 0.9915\n",
      "Epoch 27/50\n",
      "455/460 [============================>.] - ETA: 0s - loss: 7.1532e-06 - accuracy: 1.0000\n",
      "Epoch 27: val_loss did not improve from 0.03625\n",
      "460/460 [==============================] - 5s 12ms/step - loss: 7.1503e-06 - accuracy: 1.0000 - val_loss: 0.0455 - val_accuracy: 0.9914\n",
      "Epoch 28/50\n",
      "455/460 [============================>.] - ETA: 0s - loss: 6.7429e-06 - accuracy: 1.0000\n",
      "Epoch 28: val_loss did not improve from 0.03625\n",
      "460/460 [==============================] - 5s 12ms/step - loss: 6.7589e-06 - accuracy: 1.0000 - val_loss: 0.0455 - val_accuracy: 0.9916\n",
      "Epoch 29/50\n",
      "455/460 [============================>.] - ETA: 0s - loss: 6.4512e-06 - accuracy: 1.0000\n",
      "Epoch 29: val_loss did not improve from 0.03625\n",
      "460/460 [==============================] - 5s 12ms/step - loss: 6.4544e-06 - accuracy: 1.0000 - val_loss: 0.0454 - val_accuracy: 0.9915\n",
      "Epoch 30/50\n",
      "455/460 [============================>.] - ETA: 0s - loss: 6.1519e-06 - accuracy: 1.0000\n",
      "Epoch 30: val_loss did not improve from 0.03625\n",
      "460/460 [==============================] - 5s 12ms/step - loss: 6.1490e-06 - accuracy: 1.0000 - val_loss: 0.0459 - val_accuracy: 0.9913\n",
      "Epoch 31/50\n",
      "458/460 [============================>.] - ETA: 0s - loss: 5.8855e-06 - accuracy: 1.0000\n",
      "Epoch 31: val_loss did not improve from 0.03625\n",
      "460/460 [==============================] - 5s 12ms/step - loss: 5.8802e-06 - accuracy: 1.0000 - val_loss: 0.0460 - val_accuracy: 0.9914\n",
      "Epoch 32/50\n",
      "456/460 [============================>.] - ETA: 0s - loss: 5.5996e-06 - accuracy: 1.0000\n",
      "Epoch 32: val_loss did not improve from 0.03625\n",
      "460/460 [==============================] - 5s 12ms/step - loss: 5.6370e-06 - accuracy: 1.0000 - val_loss: 0.0461 - val_accuracy: 0.9914\n",
      "Epoch 33/50\n",
      "459/460 [============================>.] - ETA: 0s - loss: 5.4110e-06 - accuracy: 1.0000\n",
      "Epoch 33: val_loss did not improve from 0.03625\n",
      "460/460 [==============================] - 5s 12ms/step - loss: 5.4089e-06 - accuracy: 1.0000 - val_loss: 0.0460 - val_accuracy: 0.9913\n",
      "Epoch 34/50\n",
      "459/460 [============================>.] - ETA: 0s - loss: 5.2098e-06 - accuracy: 1.0000\n",
      "Epoch 34: val_loss did not improve from 0.03625\n",
      "460/460 [==============================] - 5s 12ms/step - loss: 5.2060e-06 - accuracy: 1.0000 - val_loss: 0.0462 - val_accuracy: 0.9915\n",
      "Epoch 35/50\n",
      "455/460 [============================>.] - ETA: 0s - loss: 5.0311e-06 - accuracy: 1.0000\n",
      "Epoch 35: val_loss did not improve from 0.03625\n",
      "460/460 [==============================] - 5s 12ms/step - loss: 5.0100e-06 - accuracy: 1.0000 - val_loss: 0.0463 - val_accuracy: 0.9914\n",
      "Epoch 36/50\n",
      "455/460 [============================>.] - ETA: 0s - loss: 4.8298e-06 - accuracy: 1.0000\n",
      "Epoch 36: val_loss did not improve from 0.03625\n",
      "460/460 [==============================] - 5s 12ms/step - loss: 4.8368e-06 - accuracy: 1.0000 - val_loss: 0.0463 - val_accuracy: 0.9915\n",
      "Epoch 37/50\n",
      "456/460 [============================>.] - ETA: 0s - loss: 4.6804e-06 - accuracy: 1.0000\n",
      "Epoch 37: val_loss did not improve from 0.03625\n",
      "460/460 [==============================] - 5s 12ms/step - loss: 4.6735e-06 - accuracy: 1.0000 - val_loss: 0.0465 - val_accuracy: 0.9916\n",
      "Epoch 38/50\n",
      "460/460 [==============================] - ETA: 0s - loss: 4.5172e-06 - accuracy: 1.0000\n",
      "Epoch 38: val_loss did not improve from 0.03625\n",
      "460/460 [==============================] - 5s 12ms/step - loss: 4.5172e-06 - accuracy: 1.0000 - val_loss: 0.0465 - val_accuracy: 0.9915\n",
      "Epoch 39/50\n",
      "459/460 [============================>.] - ETA: 0s - loss: 4.3797e-06 - accuracy: 1.0000\n",
      "Epoch 39: val_loss did not improve from 0.03625\n",
      "460/460 [==============================] - 5s 12ms/step - loss: 4.3780e-06 - accuracy: 1.0000 - val_loss: 0.0466 - val_accuracy: 0.9916\n",
      "Epoch 40/50\n",
      "457/460 [============================>.] - ETA: 0s - loss: 4.2427e-06 - accuracy: 1.0000\n",
      "Epoch 40: val_loss did not improve from 0.03625\n",
      "460/460 [==============================] - 5s 12ms/step - loss: 4.2457e-06 - accuracy: 1.0000 - val_loss: 0.0465 - val_accuracy: 0.9915\n",
      "Epoch 41/50\n",
      "459/460 [============================>.] - ETA: 0s - loss: 4.1160e-06 - accuracy: 1.0000\n",
      "Epoch 41: val_loss did not improve from 0.03625\n",
      "460/460 [==============================] - 5s 12ms/step - loss: 4.1173e-06 - accuracy: 1.0000 - val_loss: 0.0466 - val_accuracy: 0.9916\n",
      "Epoch 42/50\n",
      "458/460 [============================>.] - ETA: 0s - loss: 3.9872e-06 - accuracy: 1.0000\n",
      "Epoch 42: val_loss did not improve from 0.03625\n",
      "460/460 [==============================] - 5s 12ms/step - loss: 3.9985e-06 - accuracy: 1.0000 - val_loss: 0.0467 - val_accuracy: 0.9915\n",
      "Epoch 43/50\n",
      "455/460 [============================>.] - ETA: 0s - loss: 3.8443e-06 - accuracy: 1.0000\n",
      "Epoch 43: val_loss did not improve from 0.03625\n",
      "460/460 [==============================] - 5s 12ms/step - loss: 3.8877e-06 - accuracy: 1.0000 - val_loss: 0.0468 - val_accuracy: 0.9914\n",
      "Epoch 44/50\n",
      "458/460 [============================>.] - ETA: 0s - loss: 3.7666e-06 - accuracy: 1.0000\n",
      "Epoch 44: val_loss did not improve from 0.03625\n",
      "460/460 [==============================] - 5s 12ms/step - loss: 3.7830e-06 - accuracy: 1.0000 - val_loss: 0.0468 - val_accuracy: 0.9916\n",
      "Epoch 45/50\n",
      "460/460 [==============================] - ETA: 0s - loss: 3.6807e-06 - accuracy: 1.0000\n",
      "Epoch 45: val_loss did not improve from 0.03625\n",
      "460/460 [==============================] - 5s 12ms/step - loss: 3.6807e-06 - accuracy: 1.0000 - val_loss: 0.0468 - val_accuracy: 0.9915\n",
      "Epoch 46/50\n",
      "458/460 [============================>.] - ETA: 0s - loss: 3.5952e-06 - accuracy: 1.0000\n",
      "Epoch 46: val_loss did not improve from 0.03625\n",
      "460/460 [==============================] - 5s 12ms/step - loss: 3.5868e-06 - accuracy: 1.0000 - val_loss: 0.0470 - val_accuracy: 0.9915\n",
      "Epoch 47/50\n",
      "456/460 [============================>.] - ETA: 0s - loss: 3.4976e-06 - accuracy: 1.0000\n",
      "Epoch 47: val_loss did not improve from 0.03625\n",
      "460/460 [==============================] - 5s 12ms/step - loss: 3.4977e-06 - accuracy: 1.0000 - val_loss: 0.0470 - val_accuracy: 0.9915\n",
      "Epoch 48/50\n",
      "456/460 [============================>.] - ETA: 0s - loss: 3.4270e-06 - accuracy: 1.0000\n",
      "Epoch 48: val_loss did not improve from 0.03625\n",
      "460/460 [==============================] - 5s 12ms/step - loss: 3.4138e-06 - accuracy: 1.0000 - val_loss: 0.0470 - val_accuracy: 0.9915\n",
      "Epoch 49/50\n",
      "458/460 [============================>.] - ETA: 0s - loss: 3.3338e-06 - accuracy: 1.0000\n",
      "Epoch 49: val_loss did not improve from 0.03625\n",
      "460/460 [==============================] - 5s 12ms/step - loss: 3.3343e-06 - accuracy: 1.0000 - val_loss: 0.0470 - val_accuracy: 0.9915\n",
      "Epoch 50/50\n",
      "456/460 [============================>.] - ETA: 0s - loss: 3.2680e-06 - accuracy: 1.0000\n",
      "Epoch 50: val_loss did not improve from 0.03625\n",
      "460/460 [==============================] - 5s 12ms/step - loss: 3.2548e-06 - accuracy: 1.0000 - val_loss: 0.0473 - val_accuracy: 0.9914\n"
     ]
    }
   ],
   "source": [
    "history = model.fit(\n",
    "    images_train_with_channel, \n",
    "    labels_train_one_hot,\n",
    "    validation_data=(images_valid_with_channel, labels_valid_one_hot),\n",
    "    epochs=50,\n",
    "    callbacks=[model_checkpoint],\n",
    "    #callbacks=[early_stopping,model_checkpoint],\n",
    "    batch_size=64\n",
    ")"
   ]
  },
  {
   "cell_type": "code",
   "execution_count": 18,
   "id": "122f064a",
   "metadata": {
    "execution": {
     "iopub.execute_input": "2024-01-03T19:37:55.769595Z",
     "iopub.status.busy": "2024-01-03T19:37:55.769252Z",
     "iopub.status.idle": "2024-01-03T19:37:55.774361Z",
     "shell.execute_reply": "2024-01-03T19:37:55.773407Z"
    },
    "papermill": {
     "duration": 0.324728,
     "end_time": "2024-01-03T19:37:55.776268",
     "exception": false,
     "start_time": "2024-01-03T19:37:55.451540",
     "status": "completed"
    },
    "tags": []
   },
   "outputs": [],
   "source": [
    "history_frame = pd.DataFrame(history.history)"
   ]
  },
  {
   "cell_type": "code",
   "execution_count": 19,
   "id": "497c1662",
   "metadata": {
    "execution": {
     "iopub.execute_input": "2024-01-03T19:37:56.453548Z",
     "iopub.status.busy": "2024-01-03T19:37:56.452670Z",
     "iopub.status.idle": "2024-01-03T19:37:57.023357Z",
     "shell.execute_reply": "2024-01-03T19:37:57.022431Z"
    },
    "papermill": {
     "duration": 0.934207,
     "end_time": "2024-01-03T19:37:57.025255",
     "exception": false,
     "start_time": "2024-01-03T19:37:56.091048",
     "status": "completed"
    },
    "tags": []
   },
   "outputs": [
    {
     "data": {
      "text/plain": [
       "<Axes: >"
      ]
     },
     "execution_count": 19,
     "metadata": {},
     "output_type": "execute_result"
    },
    {
     "data": {
      "image/png": "[encoded data removed]",
      "text/plain": [
       "<Figure size 640x480 with 1 Axes>"
      ]
     },
     "metadata": {},
     "output_type": "display_data"
    },
    {
     "data": {
      "image/png": "[encoded data removed]",
      "text/plain": [
       "<Figure size 640x480 with 1 Axes>"
      ]
     },
     "metadata": {},
     "output_type": "display_data"
    }
   ],
   "source": [
    "history_frame.loc[1:, ['loss', 'val_loss']].plot()\n",
    "history_frame.loc[1:, ['accuracy', 'val_accuracy']].plot()"
   ]
  },
  {
   "cell_type": "code",
   "execution_count": 20,
   "id": "41705b09",
   "metadata": {
    "execution": {
     "iopub.execute_input": "2024-01-03T19:37:57.658927Z",
     "iopub.status.busy": "2024-01-03T19:37:57.658587Z",
     "iopub.status.idle": "2024-01-03T19:37:58.621905Z",
     "shell.execute_reply": "2024-01-03T19:37:58.620923Z"
    },
    "papermill": {
     "duration": 1.281857,
     "end_time": "2024-01-03T19:37:58.624328",
     "exception": false,
     "start_time": "2024-01-03T19:37:57.342471",
     "status": "completed"
    },
    "tags": []
   },
   "outputs": [],
   "source": [
    "best_model = keras.models.load_model('best_model.h5')"
   ]
  },
  {
   "cell_type": "code",
   "execution_count": 21,
   "id": "e11de69d",
   "metadata": {
    "execution": {
     "iopub.execute_input": "2024-01-03T19:37:59.261803Z",
     "iopub.status.busy": "2024-01-03T19:37:59.261372Z",
     "iopub.status.idle": "2024-01-03T19:38:00.969403Z",
     "shell.execute_reply": "2024-01-03T19:38:00.968542Z"
    },
    "papermill": {
     "duration": 2.02507,
     "end_time": "2024-01-03T19:38:00.971335",
     "exception": false,
     "start_time": "2024-01-03T19:37:58.946265",
     "status": "completed"
    },
    "tags": []
   },
   "outputs": [
    {
     "name": "stdout",
     "output_type": "stream",
     "text": [
      "394/394 [==============================] - 1s 3ms/step - loss: 0.0362 - accuracy: 0.9902\n",
      "valid_acc: 0.99015873670578\n"
     ]
    }
   ],
   "source": [
    "valid_loss, valid_acc = best_model.evaluate(images_valid_with_channel, labels_valid_one_hot)\n",
    "print('valid_acc:', valid_acc)"
   ]
  },
  {
   "cell_type": "code",
   "execution_count": 22,
   "id": "40b58c83",
   "metadata": {
    "execution": {
     "iopub.execute_input": "2024-01-03T19:38:01.604784Z",
     "iopub.status.busy": "2024-01-03T19:38:01.604428Z",
     "iopub.status.idle": "2024-01-03T19:38:01.608579Z",
     "shell.execute_reply": "2024-01-03T19:38:01.607715Z"
    },
    "papermill": {
     "duration": 0.323521,
     "end_time": "2024-01-03T19:38:01.610565",
     "exception": false,
     "start_time": "2024-01-03T19:38:01.287044",
     "status": "completed"
    },
    "tags": []
   },
   "outputs": [],
   "source": [
    "#validpred=np.argmax(best_model.predict(images_valid), axis=1)"
   ]
  },
  {
   "cell_type": "code",
   "execution_count": 23,
   "id": "33cd04e6",
   "metadata": {
    "execution": {
     "iopub.execute_input": "2024-01-03T19:38:02.244714Z",
     "iopub.status.busy": "2024-01-03T19:38:02.244117Z",
     "iopub.status.idle": "2024-01-03T19:38:02.249804Z",
     "shell.execute_reply": "2024-01-03T19:38:02.248946Z"
    },
    "papermill": {
     "duration": 0.325304,
     "end_time": "2024-01-03T19:38:02.251746",
     "exception": false,
     "start_time": "2024-01-03T19:38:01.926442",
     "status": "completed"
    },
    "tags": []
   },
   "outputs": [
    {
     "data": {
      "text/plain": [
       "'\\nfrom sklearn.metrics import confusion_matrix\\ncm = confusion_matrix(validpred, labels_valid)\\nprint(cm)\\n'"
      ]
     },
     "execution_count": 23,
     "metadata": {},
     "output_type": "execute_result"
    }
   ],
   "source": [
    "'''\n",
    "from sklearn.metrics import confusion_matrix\n",
    "cm = confusion_matrix(validpred, labels_valid)\n",
    "print(cm)\n",
    "'''"
   ]
  },
  {
   "cell_type": "code",
   "execution_count": 24,
   "id": "23b4b1c9",
   "metadata": {
    "execution": {
     "iopub.execute_input": "2024-01-03T19:38:02.890761Z",
     "iopub.status.busy": "2024-01-03T19:38:02.890078Z",
     "iopub.status.idle": "2024-01-03T19:38:02.894325Z",
     "shell.execute_reply": "2024-01-03T19:38:02.893467Z"
    },
    "papermill": {
     "duration": 0.324982,
     "end_time": "2024-01-03T19:38:02.896217",
     "exception": false,
     "start_time": "2024-01-03T19:38:02.571235",
     "status": "completed"
    },
    "tags": []
   },
   "outputs": [],
   "source": [
    "#sns.heatmap(cm, annot=True, fmt=\"d\", cmap=\"Blues\")"
   ]
  },
  {
   "cell_type": "code",
   "execution_count": 25,
   "id": "6d5832e1",
   "metadata": {
    "execution": {
     "iopub.execute_input": "2024-01-03T19:38:03.570943Z",
     "iopub.status.busy": "2024-01-03T19:38:03.570260Z",
     "iopub.status.idle": "2024-01-03T19:38:03.574710Z",
     "shell.execute_reply": "2024-01-03T19:38:03.573873Z"
    },
    "papermill": {
     "duration": 0.366275,
     "end_time": "2024-01-03T19:38:03.576605",
     "exception": false,
     "start_time": "2024-01-03T19:38:03.210330",
     "status": "completed"
    },
    "tags": []
   },
   "outputs": [],
   "source": [
    "images_test = test.values.reshape(-1, 28, 28)\n",
    "images_test_with_channel = images_test[..., np.newaxis]"
   ]
  },
  {
   "cell_type": "code",
   "execution_count": 26,
   "id": "a6273961",
   "metadata": {
    "execution": {
     "iopub.execute_input": "2024-01-03T19:38:04.211469Z",
     "iopub.status.busy": "2024-01-03T19:38:04.210852Z",
     "iopub.status.idle": "2024-01-03T19:38:07.001375Z",
     "shell.execute_reply": "2024-01-03T19:38:07.000557Z"
    },
    "papermill": {
     "duration": 3.110494,
     "end_time": "2024-01-03T19:38:07.003612",
     "exception": false,
     "start_time": "2024-01-03T19:38:03.893118",
     "status": "completed"
    },
    "tags": []
   },
   "outputs": [
    {
     "name": "stdout",
     "output_type": "stream",
     "text": [
      "875/875 [==============================] - 2s 2ms/step\n"
     ]
    }
   ],
   "source": [
    "pred = best_model.predict(images_test)"
   ]
  },
  {
   "cell_type": "code",
   "execution_count": 27,
   "id": "0c09d2ec",
   "metadata": {
    "execution": {
     "iopub.execute_input": "2024-01-03T19:38:07.643461Z",
     "iopub.status.busy": "2024-01-03T19:38:07.643118Z",
     "iopub.status.idle": "2024-01-03T19:38:07.648105Z",
     "shell.execute_reply": "2024-01-03T19:38:07.647331Z"
    },
    "papermill": {
     "duration": 0.325008,
     "end_time": "2024-01-03T19:38:07.650028",
     "exception": false,
     "start_time": "2024-01-03T19:38:07.325020",
     "status": "completed"
    },
    "tags": []
   },
   "outputs": [],
   "source": [
    "predicted_classes = np.argmax(pred, axis=1)"
   ]
  },
  {
   "cell_type": "code",
   "execution_count": 28,
   "id": "8dc5e531",
   "metadata": {
    "execution": {
     "iopub.execute_input": "2024-01-03T19:38:08.341145Z",
     "iopub.status.busy": "2024-01-03T19:38:08.340783Z",
     "iopub.status.idle": "2024-01-03T19:38:08.345420Z",
     "shell.execute_reply": "2024-01-03T19:38:08.344625Z"
    },
    "papermill": {
     "duration": 0.331261,
     "end_time": "2024-01-03T19:38:08.347245",
     "exception": false,
     "start_time": "2024-01-03T19:38:08.015984",
     "status": "completed"
    },
    "tags": []
   },
   "outputs": [],
   "source": [
    "image_ids = np.arange(1, len(predicted_classes) + 1)"
   ]
  },
  {
   "cell_type": "code",
   "execution_count": 29,
   "id": "a06dbf49",
   "metadata": {
    "execution": {
     "iopub.execute_input": "2024-01-03T19:38:08.987118Z",
     "iopub.status.busy": "2024-01-03T19:38:08.986334Z",
     "iopub.status.idle": "2024-01-03T19:38:08.991257Z",
     "shell.execute_reply": "2024-01-03T19:38:08.990413Z"
    },
    "papermill": {
     "duration": 0.32771,
     "end_time": "2024-01-03T19:38:08.993128",
     "exception": false,
     "start_time": "2024-01-03T19:38:08.665418",
     "status": "completed"
    },
    "tags": []
   },
   "outputs": [],
   "source": [
    "df_submission = pd.DataFrame({\n",
    "    'ImageId': image_ids,\n",
    "    'Label': predicted_classes\n",
    "})"
   ]
  },
  {
   "cell_type": "code",
   "execution_count": 30,
   "id": "61944ca7",
   "metadata": {
    "execution": {
     "iopub.execute_input": "2024-01-03T19:38:09.635652Z",
     "iopub.status.busy": "2024-01-03T19:38:09.634857Z",
     "iopub.status.idle": "2024-01-03T19:38:09.693532Z",
     "shell.execute_reply": "2024-01-03T19:38:09.692787Z"
    },
    "papermill": {
     "duration": 0.382625,
     "end_time": "2024-01-03T19:38:09.695462",
     "exception": false,
     "start_time": "2024-01-03T19:38:09.312837",
     "status": "completed"
    },
    "tags": []
   },
   "outputs": [],
   "source": [
    "df_submission.to_csv('submission.csv', index=False)"
   ]
  }
 ],
 "metadata": {
  "kaggle": {
   "accelerator": "gpu",
   "dataSources": [
    {
     "databundleVersionId": 861823,
     "sourceId": 3004,
     "sourceType": "competition"
    }
   ],
   "dockerImageVersionId": 30559,
   "isGpuEnabled": true,
   "isInternetEnabled": true,
   "language": "python",
   "sourceType": "notebook"
  },
  "kernelspec": {
   "display_name": "Python 3",
   "language": "python",
   "name": "python3"
  },
  "language_info": {
   "codemirror_mode": {
    "name": "ipython",
    "version": 3
   },
   "file_extension": ".py",
   "mimetype": "text/x-python",
   "name": "python",
   "nbconvert_exporter": "python",
   "pygments_lexer": "ipython3",
   "version": "3.10.12"
  },
  "papermill": {
   "default_parameters": {},
   "duration": 320.764842,
   "end_time": "2024-01-03T19:38:12.617848",
   "environment_variables": {},
   "exception": null,
   "input_path": "__notebook__.ipynb",
   "output_path": "__notebook__.ipynb",
   "parameters": {},
   "start_time": "2024-01-03T19:32:51.853006",
   "version": "2.4.0"
  }
 },
 "nbformat": 4,
 "nbformat_minor": 5
}
