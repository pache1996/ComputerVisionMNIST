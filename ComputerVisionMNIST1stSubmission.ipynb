{
 "cells": [
  {
   "cell_type": "markdown",
   "id": "cc934dcb",
   "metadata": {
    "papermill": {
     "duration": 0.009849,
     "end_time": "2023-11-30T22:00:25.027715",
     "exception": false,
     "start_time": "2023-11-30T22:00:25.017866",
     "status": "completed"
    },
    "tags": []
   },
   "source": [
    "# Intro\n",
    "Basically this environment is to essay different things from preprocessing to everything else. "
   ]
  },
  {
   "cell_type": "code",
   "execution_count": 1,
   "id": "11fa97be",
   "metadata": {
    "execution": {
     "iopub.execute_input": "2023-11-30T22:00:25.046940Z",
     "iopub.status.busy": "2023-11-30T22:00:25.046323Z",
     "iopub.status.idle": "2023-11-30T22:00:38.497260Z",
     "shell.execute_reply": "2023-11-30T22:00:38.495817Z"
    },
    "papermill": {
     "duration": 13.464399,
     "end_time": "2023-11-30T22:00:38.500505",
     "exception": false,
     "start_time": "2023-11-30T22:00:25.036106",
     "status": "completed"
    },
    "tags": []
   },
   "outputs": [],
   "source": [
    "import pandas as pd \n",
    "import seaborn as sns\n",
    "import matplotlib.pyplot as plt\n",
    "import os\n",
    "import numpy as np\n",
    "import tensorflow as tf\n",
    "from sklearn.model_selection import train_test_split\n",
    "from tensorflow.keras.layers.experimental import preprocessing\n",
    "from tensorflow import keras\n",
    "from tensorflow.keras import layers\n",
    "\n",
    "def set_seed(seed=35643419):\n",
    "    np.random.seed(seed)\n",
    "    tf.random.set_seed(seed)\n",
    "    os.environ['PYTHONHASHSEED'] = str(seed)\n",
    "    os.environ['TF_DETERMINISTIC_OPS'] = '1'\n",
    "set_seed(35643419)"
   ]
  },
  {
   "cell_type": "code",
   "execution_count": 2,
   "id": "7ac88dac",
   "metadata": {
    "execution": {
     "iopub.execute_input": "2023-11-30T22:00:38.520115Z",
     "iopub.status.busy": "2023-11-30T22:00:38.519287Z",
     "iopub.status.idle": "2023-11-30T22:00:45.229508Z",
     "shell.execute_reply": "2023-11-30T22:00:45.228166Z"
    },
    "papermill": {
     "duration": 6.724018,
     "end_time": "2023-11-30T22:00:45.232997",
     "exception": false,
     "start_time": "2023-11-30T22:00:38.508979",
     "status": "completed"
    },
    "tags": []
   },
   "outputs": [],
   "source": [
    "train = pd.read_csv('/kaggle/input/digit-recognizer/train.csv')\n",
    "test = pd.read_csv('/kaggle/input/digit-recognizer/test.csv')"
   ]
  },
  {
   "cell_type": "code",
   "execution_count": 3,
   "id": "3d0be5a9",
   "metadata": {
    "execution": {
     "iopub.execute_input": "2023-11-30T22:00:45.251498Z",
     "iopub.status.busy": "2023-11-30T22:00:45.250965Z",
     "iopub.status.idle": "2023-11-30T22:00:45.256121Z",
     "shell.execute_reply": "2023-11-30T22:00:45.255163Z"
    },
    "papermill": {
     "duration": 0.017173,
     "end_time": "2023-11-30T22:00:45.258369",
     "exception": false,
     "start_time": "2023-11-30T22:00:45.241196",
     "status": "completed"
    },
    "tags": []
   },
   "outputs": [],
   "source": [
    "#train.head()"
   ]
  },
  {
   "cell_type": "code",
   "execution_count": 4,
   "id": "6a597c55",
   "metadata": {
    "execution": {
     "iopub.execute_input": "2023-11-30T22:00:45.277899Z",
     "iopub.status.busy": "2023-11-30T22:00:45.276034Z",
     "iopub.status.idle": "2023-11-30T22:00:45.282360Z",
     "shell.execute_reply": "2023-11-30T22:00:45.281110Z"
    },
    "papermill": {
     "duration": 0.018477,
     "end_time": "2023-11-30T22:00:45.284887",
     "exception": false,
     "start_time": "2023-11-30T22:00:45.266410",
     "status": "completed"
    },
    "tags": []
   },
   "outputs": [],
   "source": [
    "#We have more or less the same distribution of numbers\n",
    "#sns.histplot(train.label)"
   ]
  },
  {
   "cell_type": "code",
   "execution_count": 5,
   "id": "e8665c2c",
   "metadata": {
    "execution": {
     "iopub.execute_input": "2023-11-30T22:00:45.303154Z",
     "iopub.status.busy": "2023-11-30T22:00:45.302634Z",
     "iopub.status.idle": "2023-11-30T22:00:45.433605Z",
     "shell.execute_reply": "2023-11-30T22:00:45.432411Z"
    },
    "papermill": {
     "duration": 0.143643,
     "end_time": "2023-11-30T22:00:45.436669",
     "exception": false,
     "start_time": "2023-11-30T22:00:45.293026",
     "status": "completed"
    },
    "tags": []
   },
   "outputs": [],
   "source": [
    "labels = train['label']\n",
    "pixels = train.drop('label', axis=1)\n",
    "\n",
    "images = pixels.values.reshape(-1, 28, 28)\n",
    "\n",
    "#for i in [0,1,2,3,4]:\n",
    " #   plt.imshow(images[i], cmap='gray')\n",
    "  #  plt.title(f\"Label: {labels[i]}\")\n",
    "   # plt.show()"
   ]
  },
  {
   "cell_type": "code",
   "execution_count": 6,
   "id": "05bf326c",
   "metadata": {
    "execution": {
     "iopub.execute_input": "2023-11-30T22:00:45.455811Z",
     "iopub.status.busy": "2023-11-30T22:00:45.454531Z",
     "iopub.status.idle": "2023-11-30T22:00:45.735060Z",
     "shell.execute_reply": "2023-11-30T22:00:45.733654Z"
    },
    "papermill": {
     "duration": 0.293428,
     "end_time": "2023-11-30T22:00:45.738263",
     "exception": false,
     "start_time": "2023-11-30T22:00:45.444835",
     "status": "completed"
    },
    "tags": []
   },
   "outputs": [],
   "source": [
    "pixels_train, pixels_valid, labels_train, labels_valid = train_test_split(\n",
    "    pixels,  \n",
    "    labels,  \n",
    "    test_size=0.3,\n",
    "    random_state=35643419 \n",
    ")"
   ]
  },
  {
   "cell_type": "code",
   "execution_count": 7,
   "id": "9237a1b9",
   "metadata": {
    "execution": {
     "iopub.execute_input": "2023-11-30T22:00:45.756583Z",
     "iopub.status.busy": "2023-11-30T22:00:45.756091Z",
     "iopub.status.idle": "2023-11-30T22:00:45.762864Z",
     "shell.execute_reply": "2023-11-30T22:00:45.761411Z"
    },
    "papermill": {
     "duration": 0.019257,
     "end_time": "2023-11-30T22:00:45.765617",
     "exception": false,
     "start_time": "2023-11-30T22:00:45.746360",
     "status": "completed"
    },
    "tags": []
   },
   "outputs": [],
   "source": [
    "images_train = pixels_train.values.reshape(-1, 28, 28)\n",
    "images_valid = pixels_valid.values.reshape(-1,28,28)"
   ]
  },
  {
   "cell_type": "code",
   "execution_count": 8,
   "id": "ac5bd49e",
   "metadata": {
    "execution": {
     "iopub.execute_input": "2023-11-30T22:00:45.785548Z",
     "iopub.status.busy": "2023-11-30T22:00:45.784430Z",
     "iopub.status.idle": "2023-11-30T22:00:45.791972Z",
     "shell.execute_reply": "2023-11-30T22:00:45.790657Z"
    },
    "papermill": {
     "duration": 0.020791,
     "end_time": "2023-11-30T22:00:45.794964",
     "exception": false,
     "start_time": "2023-11-30T22:00:45.774173",
     "status": "completed"
    },
    "tags": []
   },
   "outputs": [],
   "source": [
    "labels_train_one_hot = tf.keras.utils.to_categorical(labels_train, num_classes=10)\n",
    "labels_valid_one_hot = tf.keras.utils.to_categorical(labels_valid, num_classes=10)"
   ]
  },
  {
   "cell_type": "code",
   "execution_count": 9,
   "id": "19aa9de9",
   "metadata": {
    "execution": {
     "iopub.execute_input": "2023-11-30T22:00:45.813573Z",
     "iopub.status.busy": "2023-11-30T22:00:45.813095Z",
     "iopub.status.idle": "2023-11-30T22:00:45.819570Z",
     "shell.execute_reply": "2023-11-30T22:00:45.818178Z"
    },
    "papermill": {
     "duration": 0.019513,
     "end_time": "2023-11-30T22:00:45.822652",
     "exception": false,
     "start_time": "2023-11-30T22:00:45.803139",
     "status": "completed"
    },
    "tags": []
   },
   "outputs": [],
   "source": [
    "images_train_with_channel = images_train[..., np.newaxis]\n",
    "images_valid_with_channel = images_valid[..., np.newaxis]"
   ]
  },
  {
   "cell_type": "code",
   "execution_count": 10,
   "id": "1a818076",
   "metadata": {
    "execution": {
     "iopub.execute_input": "2023-11-30T22:00:45.841263Z",
     "iopub.status.busy": "2023-11-30T22:00:45.840767Z",
     "iopub.status.idle": "2023-11-30T22:00:46.118388Z",
     "shell.execute_reply": "2023-11-30T22:00:46.116868Z"
    },
    "papermill": {
     "duration": 0.291258,
     "end_time": "2023-11-30T22:00:46.122135",
     "exception": false,
     "start_time": "2023-11-30T22:00:45.830877",
     "status": "completed"
    },
    "tags": []
   },
   "outputs": [],
   "source": [
    "model = keras.Sequential([\n",
    "    #Data augmentation\n",
    "    preprocessing.Rescaling(scale=1./255),\n",
    "    #Filter + detect : obtain 64 features, moving 1 pixel in the two dimensions, treating borders equally (same)\n",
    "    layers.Conv2D(filters=124,kernel_size=3,strides=1,padding='same',activation='relu', input_shape=(28, 28, 1)),\n",
    "    #Condense features\n",
    "    layers.MaxPool2D(pool_size=2,strides=1,padding='same'),  \n",
    "    layers.Flatten(),\n",
    "    layers.Dense(10, activation='softmax'),\n",
    "])"
   ]
  },
  {
   "cell_type": "code",
   "execution_count": 11,
   "id": "a8a4dbfc",
   "metadata": {
    "execution": {
     "iopub.execute_input": "2023-11-30T22:00:46.142128Z",
     "iopub.status.busy": "2023-11-30T22:00:46.140710Z",
     "iopub.status.idle": "2023-11-30T22:00:46.176003Z",
     "shell.execute_reply": "2023-11-30T22:00:46.174510Z"
    },
    "papermill": {
     "duration": 0.04924,
     "end_time": "2023-11-30T22:00:46.179458",
     "exception": false,
     "start_time": "2023-11-30T22:00:46.130218",
     "status": "completed"
    },
    "tags": []
   },
   "outputs": [],
   "source": [
    "model.compile(\n",
    "    optimizer='rmsprop',\n",
    "    loss='categorical_crossentropy',\n",
    "    metrics=['accuracy'],\n",
    ")"
   ]
  },
  {
   "cell_type": "code",
   "execution_count": 12,
   "id": "56601872",
   "metadata": {
    "collapsed": true,
    "execution": {
     "iopub.execute_input": "2023-11-30T22:00:46.199599Z",
     "iopub.status.busy": "2023-11-30T22:00:46.199086Z",
     "iopub.status.idle": "2023-11-30T22:20:00.723088Z",
     "shell.execute_reply": "2023-11-30T22:20:00.721249Z"
    },
    "jupyter": {
     "outputs_hidden": true
    },
    "papermill": {
     "duration": 1154.538311,
     "end_time": "2023-11-30T22:20:00.726197",
     "exception": false,
     "start_time": "2023-11-30T22:00:46.187886",
     "status": "completed"
    },
    "tags": []
   },
   "outputs": [
    {
     "name": "stdout",
     "output_type": "stream",
     "text": [
      "Epoch 1/20\n",
      "919/919 [==============================] - 61s 65ms/step - loss: 0.1688 - accuracy: 0.9489 - val_loss: 0.0850 - val_accuracy: 0.9723\n",
      "Epoch 2/20\n",
      "919/919 [==============================] - 58s 63ms/step - loss: 0.0656 - accuracy: 0.9802 - val_loss: 0.0648 - val_accuracy: 0.9794\n",
      "Epoch 3/20\n",
      "919/919 [==============================] - 54s 59ms/step - loss: 0.0454 - accuracy: 0.9861 - val_loss: 0.0637 - val_accuracy: 0.9806\n",
      "Epoch 4/20\n",
      "919/919 [==============================] - 55s 59ms/step - loss: 0.0348 - accuracy: 0.9899 - val_loss: 0.0663 - val_accuracy: 0.9802\n",
      "Epoch 5/20\n",
      "919/919 [==============================] - 55s 60ms/step - loss: 0.0255 - accuracy: 0.9927 - val_loss: 0.0665 - val_accuracy: 0.9811\n",
      "Epoch 6/20\n",
      "919/919 [==============================] - 55s 59ms/step - loss: 0.0189 - accuracy: 0.9944 - val_loss: 0.0890 - val_accuracy: 0.9782\n",
      "Epoch 7/20\n",
      "919/919 [==============================] - 57s 62ms/step - loss: 0.0145 - accuracy: 0.9956 - val_loss: 0.0976 - val_accuracy: 0.9744\n",
      "Epoch 8/20\n",
      "919/919 [==============================] - 58s 63ms/step - loss: 0.0099 - accuracy: 0.9970 - val_loss: 0.0828 - val_accuracy: 0.9806\n",
      "Epoch 9/20\n",
      "919/919 [==============================] - 58s 63ms/step - loss: 0.0068 - accuracy: 0.9982 - val_loss: 0.0899 - val_accuracy: 0.9813\n",
      "Epoch 10/20\n",
      "919/919 [==============================] - 58s 63ms/step - loss: 0.0057 - accuracy: 0.9984 - val_loss: 0.0877 - val_accuracy: 0.9831\n",
      "Epoch 11/20\n",
      "919/919 [==============================] - 58s 63ms/step - loss: 0.0038 - accuracy: 0.9990 - val_loss: 0.0945 - val_accuracy: 0.9814\n",
      "Epoch 12/20\n",
      "919/919 [==============================] - 58s 63ms/step - loss: 0.0021 - accuracy: 0.9996 - val_loss: 0.0965 - val_accuracy: 0.9822\n",
      "Epoch 13/20\n",
      "919/919 [==============================] - 57s 62ms/step - loss: 0.0017 - accuracy: 0.9996 - val_loss: 0.1042 - val_accuracy: 0.9825\n",
      "Epoch 14/20\n",
      "919/919 [==============================] - 58s 63ms/step - loss: 0.0010 - accuracy: 0.9996 - val_loss: 0.1055 - val_accuracy: 0.9835\n",
      "Epoch 15/20\n",
      "919/919 [==============================] - 59s 64ms/step - loss: 6.6238e-04 - accuracy: 0.9999 - val_loss: 0.1097 - val_accuracy: 0.9833\n",
      "Epoch 16/20\n",
      "919/919 [==============================] - 59s 65ms/step - loss: 1.6268e-04 - accuracy: 1.0000 - val_loss: 0.1091 - val_accuracy: 0.9837\n",
      "Epoch 17/20\n",
      "919/919 [==============================] - 59s 64ms/step - loss: 8.2474e-05 - accuracy: 1.0000 - val_loss: 0.1172 - val_accuracy: 0.9837\n",
      "Epoch 18/20\n",
      "919/919 [==============================] - 59s 64ms/step - loss: 1.0266e-04 - accuracy: 1.0000 - val_loss: 0.1172 - val_accuracy: 0.9831\n",
      "Epoch 19/20\n",
      "919/919 [==============================] - 58s 63ms/step - loss: 2.5297e-05 - accuracy: 1.0000 - val_loss: 0.1191 - val_accuracy: 0.9840\n",
      "Epoch 20/20\n",
      "919/919 [==============================] - 59s 64ms/step - loss: 1.8338e-05 - accuracy: 1.0000 - val_loss: 0.1217 - val_accuracy: 0.9844\n"
     ]
    }
   ],
   "source": [
    "history = model.fit(\n",
    "    images_train_with_channel, \n",
    "    labels_train_one_hot,\n",
    "    validation_data=(images_valid_with_channel, labels_valid_one_hot),\n",
    "    epochs=20\n",
    ")"
   ]
  },
  {
   "cell_type": "code",
   "execution_count": 13,
   "id": "bec7462a",
   "metadata": {
    "execution": {
     "iopub.execute_input": "2023-11-30T22:20:04.339890Z",
     "iopub.status.busy": "2023-11-30T22:20:04.339402Z",
     "iopub.status.idle": "2023-11-30T22:20:04.346629Z",
     "shell.execute_reply": "2023-11-30T22:20:04.345437Z"
    },
    "papermill": {
     "duration": 1.794655,
     "end_time": "2023-11-30T22:20:04.349460",
     "exception": false,
     "start_time": "2023-11-30T22:20:02.554805",
     "status": "completed"
    },
    "tags": []
   },
   "outputs": [],
   "source": [
    "history_frame = pd.DataFrame(history.history)"
   ]
  },
  {
   "cell_type": "code",
   "execution_count": 14,
   "id": "10ceb01b",
   "metadata": {
    "execution": {
     "iopub.execute_input": "2023-11-30T22:20:07.858372Z",
     "iopub.status.busy": "2023-11-30T22:20:07.857882Z",
     "iopub.status.idle": "2023-11-30T22:20:07.863666Z",
     "shell.execute_reply": "2023-11-30T22:20:07.862115Z"
    },
    "papermill": {
     "duration": 1.720381,
     "end_time": "2023-11-30T22:20:07.866692",
     "exception": false,
     "start_time": "2023-11-30T22:20:06.146311",
     "status": "completed"
    },
    "tags": []
   },
   "outputs": [],
   "source": [
    "#history_frame.loc[5:, ['loss', 'val_loss']].plot()\n",
    "#history_frame.loc[5:, ['accuracy', 'val_accuracy']].plot()"
   ]
  },
  {
   "cell_type": "code",
   "execution_count": 15,
   "id": "51f4b044",
   "metadata": {
    "execution": {
     "iopub.execute_input": "2023-11-30T22:20:11.474173Z",
     "iopub.status.busy": "2023-11-30T22:20:11.473645Z",
     "iopub.status.idle": "2023-11-30T22:20:16.879936Z",
     "shell.execute_reply": "2023-11-30T22:20:16.878611Z"
    },
    "papermill": {
     "duration": 7.209412,
     "end_time": "2023-11-30T22:20:16.883265",
     "exception": false,
     "start_time": "2023-11-30T22:20:09.673853",
     "status": "completed"
    },
    "tags": []
   },
   "outputs": [
    {
     "name": "stdout",
     "output_type": "stream",
     "text": [
      "394/394 [==============================] - 4s 11ms/step - loss: 0.1217 - accuracy: 0.9844\n",
      "valid_acc: 0.9843651056289673\n"
     ]
    }
   ],
   "source": [
    "valid_loss, valid_acc = model.evaluate(images_valid_with_channel, labels_valid_one_hot)\n",
    "print('valid_acc:', valid_acc)"
   ]
  },
  {
   "cell_type": "code",
   "execution_count": 16,
   "id": "8bcdb634",
   "metadata": {
    "execution": {
     "iopub.execute_input": "2023-11-30T22:20:20.483169Z",
     "iopub.status.busy": "2023-11-30T22:20:20.482687Z",
     "iopub.status.idle": "2023-11-30T22:20:20.489597Z",
     "shell.execute_reply": "2023-11-30T22:20:20.488175Z"
    },
    "papermill": {
     "duration": 1.708813,
     "end_time": "2023-11-30T22:20:20.492280",
     "exception": false,
     "start_time": "2023-11-30T22:20:18.783467",
     "status": "completed"
    },
    "tags": []
   },
   "outputs": [],
   "source": [
    "images_test = test.values.reshape(-1, 28, 28)\n",
    "images_test_with_channel = images_test[..., np.newaxis]"
   ]
  },
  {
   "cell_type": "code",
   "execution_count": 17,
   "id": "530d6de9",
   "metadata": {
    "execution": {
     "iopub.execute_input": "2023-11-30T22:20:24.117220Z",
     "iopub.status.busy": "2023-11-30T22:20:24.115688Z",
     "iopub.status.idle": "2023-11-30T22:20:33.977556Z",
     "shell.execute_reply": "2023-11-30T22:20:33.976114Z"
    },
    "papermill": {
     "duration": 11.678825,
     "end_time": "2023-11-30T22:20:33.980966",
     "exception": false,
     "start_time": "2023-11-30T22:20:22.302141",
     "status": "completed"
    },
    "tags": []
   },
   "outputs": [
    {
     "name": "stdout",
     "output_type": "stream",
     "text": [
      "875/875 [==============================] - 9s 10ms/step\n"
     ]
    }
   ],
   "source": [
    "pred = model.predict(images_test)"
   ]
  },
  {
   "cell_type": "code",
   "execution_count": 18,
   "id": "b374f223",
   "metadata": {
    "execution": {
     "iopub.execute_input": "2023-11-30T22:20:37.494708Z",
     "iopub.status.busy": "2023-11-30T22:20:37.493315Z",
     "iopub.status.idle": "2023-11-30T22:20:37.501234Z",
     "shell.execute_reply": "2023-11-30T22:20:37.499774Z"
    },
    "papermill": {
     "duration": 1.844367,
     "end_time": "2023-11-30T22:20:37.504295",
     "exception": false,
     "start_time": "2023-11-30T22:20:35.659928",
     "status": "completed"
    },
    "tags": []
   },
   "outputs": [],
   "source": [
    "predicted_classes = np.argmax(pred, axis=1)"
   ]
  },
  {
   "cell_type": "code",
   "execution_count": 19,
   "id": "af1b48ac",
   "metadata": {
    "execution": {
     "iopub.execute_input": "2023-11-30T22:20:41.011527Z",
     "iopub.status.busy": "2023-11-30T22:20:41.011064Z",
     "iopub.status.idle": "2023-11-30T22:20:41.017355Z",
     "shell.execute_reply": "2023-11-30T22:20:41.016298Z"
    },
    "papermill": {
     "duration": 1.713747,
     "end_time": "2023-11-30T22:20:41.020305",
     "exception": false,
     "start_time": "2023-11-30T22:20:39.306558",
     "status": "completed"
    },
    "tags": []
   },
   "outputs": [],
   "source": [
    "image_ids = np.arange(1, len(predicted_classes) + 1)"
   ]
  },
  {
   "cell_type": "code",
   "execution_count": 20,
   "id": "4b6fa8b9",
   "metadata": {
    "execution": {
     "iopub.execute_input": "2023-11-30T22:20:44.632517Z",
     "iopub.status.busy": "2023-11-30T22:20:44.632040Z",
     "iopub.status.idle": "2023-11-30T22:20:44.639562Z",
     "shell.execute_reply": "2023-11-30T22:20:44.638182Z"
    },
    "papermill": {
     "duration": 1.794741,
     "end_time": "2023-11-30T22:20:44.642536",
     "exception": false,
     "start_time": "2023-11-30T22:20:42.847795",
     "status": "completed"
    },
    "tags": []
   },
   "outputs": [],
   "source": [
    "df_submission = pd.DataFrame({\n",
    "    'ImageId': image_ids,\n",
    "    'Label': predicted_classes\n",
    "})"
   ]
  },
  {
   "cell_type": "code",
   "execution_count": 21,
   "id": "2afe5665",
   "metadata": {
    "execution": {
     "iopub.execute_input": "2023-11-30T22:20:48.149629Z",
     "iopub.status.busy": "2023-11-30T22:20:48.148714Z",
     "iopub.status.idle": "2023-11-30T22:20:48.227479Z",
     "shell.execute_reply": "2023-11-30T22:20:48.225975Z"
    },
    "papermill": {
     "duration": 1.919994,
     "end_time": "2023-11-30T22:20:48.231241",
     "exception": false,
     "start_time": "2023-11-30T22:20:46.311247",
     "status": "completed"
    },
    "tags": []
   },
   "outputs": [],
   "source": [
    "df_submission.to_csv('submission2.csv', index=False)"
   ]
  }
 ],
 "metadata": {
  "kaggle": {
   "accelerator": "none",
   "dataSources": [
    {
     "databundleVersionId": 861823,
     "sourceId": 3004,
     "sourceType": "competition"
    }
   ],
   "dockerImageVersionId": 30558,
   "isGpuEnabled": false,
   "isInternetEnabled": true,
   "language": "python",
   "sourceType": "notebook"
  },
  "kernelspec": {
   "display_name": "Python 3",
   "language": "python",
   "name": "python3"
  },
  "language_info": {
   "codemirror_mode": {
    "name": "ipython",
    "version": 3
   },
   "file_extension": ".py",
   "mimetype": "text/x-python",
   "name": "python",
   "nbconvert_exporter": "python",
   "pygments_lexer": "ipython3",
   "version": "3.10.12"
  },
  "papermill": {
   "default_parameters": {},
   "duration": 1231.834912,
   "end_time": "2023-11-30T22:20:52.109221",
   "environment_variables": {},
   "exception": null,
   "input_path": "__notebook__.ipynb",
   "output_path": "__notebook__.ipynb",
   "parameters": {},
   "start_time": "2023-11-30T22:00:20.274309",
   "version": "2.4.0"
  }
 },
 "nbformat": 4,
 "nbformat_minor": 5
}
