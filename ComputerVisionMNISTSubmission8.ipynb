{
 "cells": [
  {
   "cell_type": "markdown",
   "id": "e2b96b5e",
   "metadata": {
    "papermill": {
     "duration": 0.007539,
     "end_time": "2023-12-01T18:09:46.322330",
     "exception": false,
     "start_time": "2023-12-01T18:09:46.314791",
     "status": "completed"
    },
    "tags": []
   },
   "source": [
    "# Intro\n",
    "Basically this environment is to essay different things from preprocessing to everything else. "
   ]
  },
  {
   "cell_type": "code",
   "execution_count": 1,
   "id": "c0a3cd34",
   "metadata": {
    "execution": {
     "iopub.execute_input": "2023-12-01T18:09:46.337718Z",
     "iopub.status.busy": "2023-12-01T18:09:46.337406Z",
     "iopub.status.idle": "2023-12-01T18:09:56.569851Z",
     "shell.execute_reply": "2023-12-01T18:09:56.569086Z"
    },
    "papermill": {
     "duration": 10.242646,
     "end_time": "2023-12-01T18:09:56.572114",
     "exception": false,
     "start_time": "2023-12-01T18:09:46.329468",
     "status": "completed"
    },
    "tags": []
   },
   "outputs": [
    {
     "name": "stderr",
     "output_type": "stream",
     "text": [
      "/opt/conda/lib/python3.10/site-packages/scipy/__init__.py:146: UserWarning: A NumPy version >=1.16.5 and <1.23.0 is required for this version of SciPy (detected version 1.23.5\n",
      "  warnings.warn(f\"A NumPy version >={np_minversion} and <{np_maxversion}\"\n"
     ]
    }
   ],
   "source": [
    "import pandas as pd \n",
    "import seaborn as sns\n",
    "import matplotlib.pyplot as plt\n",
    "import os\n",
    "import numpy as np\n",
    "import tensorflow as tf\n",
    "from sklearn.model_selection import train_test_split\n",
    "from tensorflow.keras.layers.experimental import preprocessing\n",
    "from tensorflow import keras\n",
    "from tensorflow.keras import layers\n",
    "\n",
    "def set_seed(seed=35643419):\n",
    "    np.random.seed(seed)\n",
    "    tf.random.set_seed(seed)\n",
    "    os.environ['PYTHONHASHSEED'] = str(seed)\n",
    "    os.environ['TF_DETERMINISTIC_OPS'] = '1'\n",
    "set_seed(35643419)"
   ]
  },
  {
   "cell_type": "code",
   "execution_count": 2,
   "id": "f4c3e7aa",
   "metadata": {
    "execution": {
     "iopub.execute_input": "2023-12-01T18:09:56.588083Z",
     "iopub.status.busy": "2023-12-01T18:09:56.587539Z",
     "iopub.status.idle": "2023-12-01T18:10:02.201171Z",
     "shell.execute_reply": "2023-12-01T18:10:02.200172Z"
    },
    "papermill": {
     "duration": 5.624497,
     "end_time": "2023-12-01T18:10:02.203986",
     "exception": false,
     "start_time": "2023-12-01T18:09:56.579489",
     "status": "completed"
    },
    "tags": []
   },
   "outputs": [],
   "source": [
    "train = pd.read_csv('/kaggle/input/digit-recognizer/train.csv')\n",
    "test = pd.read_csv('/kaggle/input/digit-recognizer/test.csv')"
   ]
  },
  {
   "cell_type": "code",
   "execution_count": 3,
   "id": "f06a17e6",
   "metadata": {
    "execution": {
     "iopub.execute_input": "2023-12-01T18:10:02.226495Z",
     "iopub.status.busy": "2023-12-01T18:10:02.225726Z",
     "iopub.status.idle": "2023-12-01T18:10:02.231769Z",
     "shell.execute_reply": "2023-12-01T18:10:02.230939Z"
    },
    "papermill": {
     "duration": 0.019021,
     "end_time": "2023-12-01T18:10:02.233682",
     "exception": false,
     "start_time": "2023-12-01T18:10:02.214661",
     "status": "completed"
    },
    "tags": []
   },
   "outputs": [],
   "source": [
    "#train.head()"
   ]
  },
  {
   "cell_type": "code",
   "execution_count": 4,
   "id": "61bc4f61",
   "metadata": {
    "execution": {
     "iopub.execute_input": "2023-12-01T18:10:02.249194Z",
     "iopub.status.busy": "2023-12-01T18:10:02.248852Z",
     "iopub.status.idle": "2023-12-01T18:10:02.252887Z",
     "shell.execute_reply": "2023-12-01T18:10:02.252049Z"
    },
    "papermill": {
     "duration": 0.014053,
     "end_time": "2023-12-01T18:10:02.254909",
     "exception": false,
     "start_time": "2023-12-01T18:10:02.240856",
     "status": "completed"
    },
    "tags": []
   },
   "outputs": [],
   "source": [
    "#We have more or less the same distribution of numbers\n",
    "#sns.histplot(train.label)"
   ]
  },
  {
   "cell_type": "code",
   "execution_count": 5,
   "id": "77048add",
   "metadata": {
    "execution": {
     "iopub.execute_input": "2023-12-01T18:10:02.270222Z",
     "iopub.status.busy": "2023-12-01T18:10:02.269886Z",
     "iopub.status.idle": "2023-12-01T18:10:02.365186Z",
     "shell.execute_reply": "2023-12-01T18:10:02.363699Z"
    },
    "papermill": {
     "duration": 0.106162,
     "end_time": "2023-12-01T18:10:02.368064",
     "exception": false,
     "start_time": "2023-12-01T18:10:02.261902",
     "status": "completed"
    },
    "tags": []
   },
   "outputs": [],
   "source": [
    "labels = train['label']\n",
    "pixels = train.drop('label', axis=1)\n",
    "\n",
    "images = pixels.values.reshape(-1, 28, 28)\n",
    "\n",
    "#for i in [0,1,2,3,4]:\n",
    " #   plt.imshow(images[i], cmap='gray')\n",
    "  #  plt.title(f\"Label: {labels[i]}\")\n",
    "   # plt.show()"
   ]
  },
  {
   "cell_type": "code",
   "execution_count": 6,
   "id": "6009872d",
   "metadata": {
    "execution": {
     "iopub.execute_input": "2023-12-01T18:10:02.387378Z",
     "iopub.status.busy": "2023-12-01T18:10:02.387003Z",
     "iopub.status.idle": "2023-12-01T18:10:02.617061Z",
     "shell.execute_reply": "2023-12-01T18:10:02.616247Z"
    },
    "papermill": {
     "duration": 0.241792,
     "end_time": "2023-12-01T18:10:02.619429",
     "exception": false,
     "start_time": "2023-12-01T18:10:02.377637",
     "status": "completed"
    },
    "tags": []
   },
   "outputs": [],
   "source": [
    "pixels_train, pixels_valid, labels_train, labels_valid = train_test_split(\n",
    "    pixels,  \n",
    "    labels,  \n",
    "    test_size=0.3,\n",
    "    random_state=35643419 \n",
    ")"
   ]
  },
  {
   "cell_type": "code",
   "execution_count": 7,
   "id": "60af2fd6",
   "metadata": {
    "execution": {
     "iopub.execute_input": "2023-12-01T18:10:02.635547Z",
     "iopub.status.busy": "2023-12-01T18:10:02.635255Z",
     "iopub.status.idle": "2023-12-01T18:10:02.639647Z",
     "shell.execute_reply": "2023-12-01T18:10:02.638902Z"
    },
    "papermill": {
     "duration": 0.01436,
     "end_time": "2023-12-01T18:10:02.641536",
     "exception": false,
     "start_time": "2023-12-01T18:10:02.627176",
     "status": "completed"
    },
    "tags": []
   },
   "outputs": [],
   "source": [
    "images_train = pixels_train.values.reshape(-1, 28, 28)\n",
    "images_valid = pixels_valid.values.reshape(-1,28,28)"
   ]
  },
  {
   "cell_type": "code",
   "execution_count": 8,
   "id": "0ef1ccb4",
   "metadata": {
    "execution": {
     "iopub.execute_input": "2023-12-01T18:10:02.656548Z",
     "iopub.status.busy": "2023-12-01T18:10:02.656282Z",
     "iopub.status.idle": "2023-12-01T18:10:02.661415Z",
     "shell.execute_reply": "2023-12-01T18:10:02.660690Z"
    },
    "papermill": {
     "duration": 0.014738,
     "end_time": "2023-12-01T18:10:02.663276",
     "exception": false,
     "start_time": "2023-12-01T18:10:02.648538",
     "status": "completed"
    },
    "tags": []
   },
   "outputs": [],
   "source": [
    "labels_train_one_hot = tf.keras.utils.to_categorical(labels_train, num_classes=10)\n",
    "labels_valid_one_hot = tf.keras.utils.to_categorical(labels_valid, num_classes=10)"
   ]
  },
  {
   "cell_type": "code",
   "execution_count": 9,
   "id": "290cb319",
   "metadata": {
    "execution": {
     "iopub.execute_input": "2023-12-01T18:10:02.678240Z",
     "iopub.status.busy": "2023-12-01T18:10:02.677956Z",
     "iopub.status.idle": "2023-12-01T18:10:02.681935Z",
     "shell.execute_reply": "2023-12-01T18:10:02.681261Z"
    },
    "papermill": {
     "duration": 0.013429,
     "end_time": "2023-12-01T18:10:02.683743",
     "exception": false,
     "start_time": "2023-12-01T18:10:02.670314",
     "status": "completed"
    },
    "tags": []
   },
   "outputs": [],
   "source": [
    "images_train_with_channel = images_train[..., np.newaxis]\n",
    "images_valid_with_channel = images_valid[..., np.newaxis]"
   ]
  },
  {
   "cell_type": "code",
   "execution_count": 10,
   "id": "59007f73",
   "metadata": {
    "execution": {
     "iopub.execute_input": "2023-12-01T18:10:02.698612Z",
     "iopub.status.busy": "2023-12-01T18:10:02.698358Z",
     "iopub.status.idle": "2023-12-01T18:10:02.701863Z",
     "shell.execute_reply": "2023-12-01T18:10:02.701161Z"
    },
    "papermill": {
     "duration": 0.012942,
     "end_time": "2023-12-01T18:10:02.703605",
     "exception": false,
     "start_time": "2023-12-01T18:10:02.690663",
     "status": "completed"
    },
    "tags": []
   },
   "outputs": [],
   "source": [
    "#pretrained_base = tf.keras.models.load_model(\n",
    " #   '../input/cv-course-models/cv-course-models/inceptionv3',\n",
    "#)\n",
    "#pretrained_base.trainable = False"
   ]
  },
  {
   "cell_type": "code",
   "execution_count": 11,
   "id": "9daebf81",
   "metadata": {
    "execution": {
     "iopub.execute_input": "2023-12-01T18:10:02.718370Z",
     "iopub.status.busy": "2023-12-01T18:10:02.718101Z",
     "iopub.status.idle": "2023-12-01T18:10:05.928920Z",
     "shell.execute_reply": "2023-12-01T18:10:05.927850Z"
    },
    "papermill": {
     "duration": 3.22073,
     "end_time": "2023-12-01T18:10:05.931252",
     "exception": false,
     "start_time": "2023-12-01T18:10:02.710522",
     "status": "completed"
    },
    "tags": []
   },
   "outputs": [],
   "source": [
    "model = keras.Sequential([\n",
    "    preprocessing.Rescaling(scale=1./255),\n",
    "    #Filter + detect : obtain 32 features, moving 1 pixel in the two dimensions, treating borders equally (same)\n",
    "    layers.Conv2D(filters=32,kernel_size=3,strides=1,padding='valid',activation='relu', input_shape=(28, 28, 1)),\n",
    "    #Condense features\n",
    "    layers.MaxPool2D(pool_size=2,strides=3,padding='valid'),\n",
    "\n",
    "    layers.Conv2D(filters=64,kernel_size=3,strides=1,padding='valid',activation='relu'),\n",
    "    layers.MaxPool2D(pool_size=2,strides=1,padding='valid'),\n",
    "    \n",
    "    layers.Conv2D(filters=128, kernel_size=3, strides=1, padding='valid', activation='relu'),\n",
    "    layers.MaxPool2D(pool_size=2, strides=1, padding='valid'),\n",
    "    \n",
    "    layers.Flatten(),\n",
    "    layers.Dense(64, activation='relu'),\n",
    "    layers.Dropout(0.3),\n",
    "    layers.Dense(10, activation='softmax'),\n",
    "])"
   ]
  },
  {
   "cell_type": "code",
   "execution_count": 12,
   "id": "a383c2cc",
   "metadata": {
    "execution": {
     "iopub.execute_input": "2023-12-01T18:10:05.946952Z",
     "iopub.status.busy": "2023-12-01T18:10:05.946637Z",
     "iopub.status.idle": "2023-12-01T18:10:05.970157Z",
     "shell.execute_reply": "2023-12-01T18:10:05.969281Z"
    },
    "papermill": {
     "duration": 0.033596,
     "end_time": "2023-12-01T18:10:05.972101",
     "exception": false,
     "start_time": "2023-12-01T18:10:05.938505",
     "status": "completed"
    },
    "tags": []
   },
   "outputs": [],
   "source": [
    "model.compile(\n",
    "    optimizer='rmsprop',\n",
    "    loss='categorical_crossentropy',\n",
    "    metrics=['accuracy'],\n",
    ")"
   ]
  },
  {
   "cell_type": "code",
   "execution_count": 13,
   "id": "d92ab9ce",
   "metadata": {
    "execution": {
     "iopub.execute_input": "2023-12-01T18:10:05.987109Z",
     "iopub.status.busy": "2023-12-01T18:10:05.986837Z",
     "iopub.status.idle": "2023-12-01T18:10:05.990980Z",
     "shell.execute_reply": "2023-12-01T18:10:05.990272Z"
    },
    "papermill": {
     "duration": 0.0137,
     "end_time": "2023-12-01T18:10:05.992892",
     "exception": false,
     "start_time": "2023-12-01T18:10:05.979192",
     "status": "completed"
    },
    "tags": []
   },
   "outputs": [],
   "source": [
    "early_stopping = keras.callbacks.EarlyStopping(\n",
    "    patience=5,\n",
    "    min_delta=0.001,\n",
    "    restore_best_weights=True,\n",
    ")"
   ]
  },
  {
   "cell_type": "code",
   "execution_count": 14,
   "id": "0ec84fd3",
   "metadata": {
    "execution": {
     "iopub.execute_input": "2023-12-01T18:10:06.007942Z",
     "iopub.status.busy": "2023-12-01T18:10:06.007673Z",
     "iopub.status.idle": "2023-12-01T18:10:06.011959Z",
     "shell.execute_reply": "2023-12-01T18:10:06.011186Z"
    },
    "papermill": {
     "duration": 0.013866,
     "end_time": "2023-12-01T18:10:06.013719",
     "exception": false,
     "start_time": "2023-12-01T18:10:05.999853",
     "status": "completed"
    },
    "tags": []
   },
   "outputs": [],
   "source": [
    "model_checkpoint = keras.callbacks.ModelCheckpoint(\n",
    "    'best_model.h5',  # Save the best weights to this file\n",
    "    save_best_only=True,  # Only save the best weights based on the validation loss\n",
    "    monitor='val_loss',  # Monitor validation loss\n",
    "    mode='min',  # Mode can be 'min' or 'max' depending on the metric to minimize or maximize\n",
    "    verbose=1  # Display messages when saving the best weights\n",
    ")"
   ]
  },
  {
   "cell_type": "code",
   "execution_count": 15,
   "id": "0109b9a7",
   "metadata": {
    "execution": {
     "iopub.execute_input": "2023-12-01T18:10:06.028503Z",
     "iopub.status.busy": "2023-12-01T18:10:06.028247Z",
     "iopub.status.idle": "2023-12-01T18:10:44.602905Z",
     "shell.execute_reply": "2023-12-01T18:10:44.602097Z"
    },
    "papermill": {
     "duration": 38.584324,
     "end_time": "2023-12-01T18:10:44.604931",
     "exception": false,
     "start_time": "2023-12-01T18:10:06.020607",
     "status": "completed"
    },
    "tags": []
   },
   "outputs": [
    {
     "name": "stdout",
     "output_type": "stream",
     "text": [
      "Epoch 1/20\n",
      "910/919 [============================>.] - ETA: 0s - loss: 0.3122 - accuracy: 0.9036\n",
      "Epoch 1: val_loss improved from inf to 0.08081, saving model to best_model.h5\n",
      "919/919 [==============================] - 13s 5ms/step - loss: 0.3101 - accuracy: 0.9042 - val_loss: 0.0808 - val_accuracy: 0.9732\n",
      "Epoch 2/20\n",
      "907/919 [============================>.] - ETA: 0s - loss: 0.0837 - accuracy: 0.9751\n",
      "Epoch 2: val_loss improved from 0.08081 to 0.04132, saving model to best_model.h5\n",
      "919/919 [==============================] - 4s 4ms/step - loss: 0.0836 - accuracy: 0.9751 - val_loss: 0.0413 - val_accuracy: 0.9863\n",
      "Epoch 3/20\n",
      "910/919 [============================>.] - ETA: 0s - loss: 0.0561 - accuracy: 0.9842\n",
      "Epoch 3: val_loss did not improve from 0.04132\n",
      "919/919 [==============================] - 4s 4ms/step - loss: 0.0562 - accuracy: 0.9841 - val_loss: 0.0777 - val_accuracy: 0.9791\n",
      "Epoch 4/20\n",
      "907/919 [============================>.] - ETA: 0s - loss: 0.0426 - accuracy: 0.9878\n",
      "Epoch 4: val_loss did not improve from 0.04132\n",
      "919/919 [==============================] - 4s 4ms/step - loss: 0.0423 - accuracy: 0.9879 - val_loss: 0.0427 - val_accuracy: 0.9886\n",
      "Epoch 5/20\n",
      "913/919 [============================>.] - ETA: 0s - loss: 0.0360 - accuracy: 0.9893\n",
      "Epoch 5: val_loss did not improve from 0.04132\n",
      "919/919 [==============================] - 4s 5ms/step - loss: 0.0361 - accuracy: 0.9893 - val_loss: 0.0645 - val_accuracy: 0.9840\n",
      "Epoch 6/20\n",
      "908/919 [============================>.] - ETA: 0s - loss: 0.0302 - accuracy: 0.9915\n",
      "Epoch 6: val_loss did not improve from 0.04132\n",
      "919/919 [==============================] - 4s 4ms/step - loss: 0.0302 - accuracy: 0.9915 - val_loss: 0.0454 - val_accuracy: 0.9885\n",
      "Epoch 7/20\n",
      "906/919 [============================>.] - ETA: 0s - loss: 0.0262 - accuracy: 0.9921\n",
      "Epoch 7: val_loss did not improve from 0.04132\n",
      "919/919 [==============================] - 4s 4ms/step - loss: 0.0261 - accuracy: 0.9921 - val_loss: 0.0459 - val_accuracy: 0.9885\n"
     ]
    }
   ],
   "source": [
    "history = model.fit(\n",
    "    images_train_with_channel, \n",
    "    labels_train_one_hot,\n",
    "    validation_data=(images_valid_with_channel, labels_valid_one_hot),\n",
    "    epochs=20,\n",
    "    callbacks=[early_stopping,model_checkpoint],\n",
    ")"
   ]
  },
  {
   "cell_type": "code",
   "execution_count": 16,
   "id": "49e725d5",
   "metadata": {
    "execution": {
     "iopub.execute_input": "2023-12-01T18:10:44.697608Z",
     "iopub.status.busy": "2023-12-01T18:10:44.697231Z",
     "iopub.status.idle": "2023-12-01T18:10:44.702166Z",
     "shell.execute_reply": "2023-12-01T18:10:44.701299Z"
    },
    "papermill": {
     "duration": 0.052855,
     "end_time": "2023-12-01T18:10:44.704141",
     "exception": false,
     "start_time": "2023-12-01T18:10:44.651286",
     "status": "completed"
    },
    "tags": []
   },
   "outputs": [],
   "source": [
    "history_frame = pd.DataFrame(history.history)"
   ]
  },
  {
   "cell_type": "code",
   "execution_count": 17,
   "id": "7b5244b0",
   "metadata": {
    "execution": {
     "iopub.execute_input": "2023-12-01T18:10:44.794592Z",
     "iopub.status.busy": "2023-12-01T18:10:44.794292Z",
     "iopub.status.idle": "2023-12-01T18:10:45.326821Z",
     "shell.execute_reply": "2023-12-01T18:10:45.325974Z"
    },
    "papermill": {
     "duration": 0.58012,
     "end_time": "2023-12-01T18:10:45.328889",
     "exception": false,
     "start_time": "2023-12-01T18:10:44.748769",
     "status": "completed"
    },
    "tags": []
   },
   "outputs": [
    {
     "data": {
      "text/plain": [
       "<Axes: >"
      ]
     },
     "execution_count": 17,
     "metadata": {},
     "output_type": "execute_result"
    },
    {
     "data": {
      "image/png": "[encoded data removed]",
      "text/plain": [
       "<Figure size 640x480 with 1 Axes>"
      ]
     },
     "metadata": {},
     "output_type": "display_data"
    },
    {
     "data": {
      "image/png": "[encoded data removed]",
      "text/plain": [
       "<Figure size 640x480 with 1 Axes>"
      ]
     },
     "metadata": {},
     "output_type": "display_data"
    }
   ],
   "source": [
    "history_frame.loc[3:, ['loss', 'val_loss']].plot()\n",
    "history_frame.loc[3:, ['accuracy', 'val_accuracy']].plot()"
   ]
  },
  {
   "cell_type": "code",
   "execution_count": 18,
   "id": "1df95eea",
   "metadata": {
    "execution": {
     "iopub.execute_input": "2023-12-01T18:10:45.459576Z",
     "iopub.status.busy": "2023-12-01T18:10:45.459200Z",
     "iopub.status.idle": "2023-12-01T18:10:45.581297Z",
     "shell.execute_reply": "2023-12-01T18:10:45.580327Z"
    },
    "papermill": {
     "duration": 0.168438,
     "end_time": "2023-12-01T18:10:45.583487",
     "exception": false,
     "start_time": "2023-12-01T18:10:45.415049",
     "status": "completed"
    },
    "tags": []
   },
   "outputs": [],
   "source": [
    "best_model = keras.models.load_model('best_model.h5')"
   ]
  },
  {
   "cell_type": "code",
   "execution_count": 19,
   "id": "ea60a45d",
   "metadata": {
    "execution": {
     "iopub.execute_input": "2023-12-01T18:10:45.670585Z",
     "iopub.status.busy": "2023-12-01T18:10:45.670254Z",
     "iopub.status.idle": "2023-12-01T18:10:46.999445Z",
     "shell.execute_reply": "2023-12-01T18:10:46.998550Z"
    },
    "papermill": {
     "duration": 1.374902,
     "end_time": "2023-12-01T18:10:47.001452",
     "exception": false,
     "start_time": "2023-12-01T18:10:45.626550",
     "status": "completed"
    },
    "tags": []
   },
   "outputs": [
    {
     "name": "stdout",
     "output_type": "stream",
     "text": [
      "394/394 [==============================] - 1s 2ms/step - loss: 0.0413 - accuracy: 0.9863\n",
      "valid_acc: 0.9863492250442505\n"
     ]
    }
   ],
   "source": [
    "valid_loss, valid_acc = best_model.evaluate(images_valid_with_channel, labels_valid_one_hot)\n",
    "print('valid_acc:', valid_acc)"
   ]
  },
  {
   "cell_type": "code",
   "execution_count": 20,
   "id": "8c30bd18",
   "metadata": {
    "execution": {
     "iopub.execute_input": "2023-12-01T18:10:47.093206Z",
     "iopub.status.busy": "2023-12-01T18:10:47.092871Z",
     "iopub.status.idle": "2023-12-01T18:10:47.097391Z",
     "shell.execute_reply": "2023-12-01T18:10:47.096525Z"
    },
    "papermill": {
     "duration": 0.052522,
     "end_time": "2023-12-01T18:10:47.099307",
     "exception": false,
     "start_time": "2023-12-01T18:10:47.046785",
     "status": "completed"
    },
    "tags": []
   },
   "outputs": [],
   "source": [
    "images_test = test.values.reshape(-1, 28, 28)\n",
    "images_test_with_channel = images_test[..., np.newaxis]"
   ]
  },
  {
   "cell_type": "code",
   "execution_count": 21,
   "id": "b3376fa9",
   "metadata": {
    "execution": {
     "iopub.execute_input": "2023-12-01T18:10:47.188604Z",
     "iopub.status.busy": "2023-12-01T18:10:47.188320Z",
     "iopub.status.idle": "2023-12-01T18:10:49.677792Z",
     "shell.execute_reply": "2023-12-01T18:10:49.676841Z"
    },
    "papermill": {
     "duration": 2.536959,
     "end_time": "2023-12-01T18:10:49.680254",
     "exception": false,
     "start_time": "2023-12-01T18:10:47.143295",
     "status": "completed"
    },
    "tags": []
   },
   "outputs": [
    {
     "name": "stdout",
     "output_type": "stream",
     "text": [
      "875/875 [==============================] - 2s 2ms/step\n"
     ]
    }
   ],
   "source": [
    "pred = best_model.predict(images_test)"
   ]
  },
  {
   "cell_type": "code",
   "execution_count": 22,
   "id": "0ea0b597",
   "metadata": {
    "execution": {
     "iopub.execute_input": "2023-12-01T18:10:49.775569Z",
     "iopub.status.busy": "2023-12-01T18:10:49.775222Z",
     "iopub.status.idle": "2023-12-01T18:10:49.780322Z",
     "shell.execute_reply": "2023-12-01T18:10:49.779584Z"
    },
    "papermill": {
     "duration": 0.055068,
     "end_time": "2023-12-01T18:10:49.782253",
     "exception": false,
     "start_time": "2023-12-01T18:10:49.727185",
     "status": "completed"
    },
    "tags": []
   },
   "outputs": [],
   "source": [
    "predicted_classes = np.argmax(pred, axis=1)"
   ]
  },
  {
   "cell_type": "code",
   "execution_count": 23,
   "id": "f065fbfa",
   "metadata": {
    "execution": {
     "iopub.execute_input": "2023-12-01T18:10:49.879229Z",
     "iopub.status.busy": "2023-12-01T18:10:49.878654Z",
     "iopub.status.idle": "2023-12-01T18:10:49.883283Z",
     "shell.execute_reply": "2023-12-01T18:10:49.882486Z"
    },
    "papermill": {
     "duration": 0.055305,
     "end_time": "2023-12-01T18:10:49.885110",
     "exception": false,
     "start_time": "2023-12-01T18:10:49.829805",
     "status": "completed"
    },
    "tags": []
   },
   "outputs": [],
   "source": [
    "image_ids = np.arange(1, len(predicted_classes) + 1)"
   ]
  },
  {
   "cell_type": "code",
   "execution_count": 24,
   "id": "96f5b01a",
   "metadata": {
    "execution": {
     "iopub.execute_input": "2023-12-01T18:10:49.991947Z",
     "iopub.status.busy": "2023-12-01T18:10:49.991397Z",
     "iopub.status.idle": "2023-12-01T18:10:49.996503Z",
     "shell.execute_reply": "2023-12-01T18:10:49.995649Z"
    },
    "papermill": {
     "duration": 0.065936,
     "end_time": "2023-12-01T18:10:49.998337",
     "exception": false,
     "start_time": "2023-12-01T18:10:49.932401",
     "status": "completed"
    },
    "tags": []
   },
   "outputs": [],
   "source": [
    "df_submission = pd.DataFrame({\n",
    "    'ImageId': image_ids,\n",
    "    'Label': predicted_classes\n",
    "})"
   ]
  },
  {
   "cell_type": "code",
   "execution_count": 25,
   "id": "55a65cd0",
   "metadata": {
    "execution": {
     "iopub.execute_input": "2023-12-01T18:10:50.093634Z",
     "iopub.status.busy": "2023-12-01T18:10:50.092738Z",
     "iopub.status.idle": "2023-12-01T18:10:50.151410Z",
     "shell.execute_reply": "2023-12-01T18:10:50.150676Z"
    },
    "papermill": {
     "duration": 0.108488,
     "end_time": "2023-12-01T18:10:50.153197",
     "exception": false,
     "start_time": "2023-12-01T18:10:50.044709",
     "status": "completed"
    },
    "tags": []
   },
   "outputs": [],
   "source": [
    "df_submission.to_csv('submission8.csv', index=False)"
   ]
  }
 ],
 "metadata": {
  "kaggle": {
   "accelerator": "gpu",
   "dataSources": [
    {
     "databundleVersionId": 861823,
     "sourceId": 3004,
     "sourceType": "competition"
    },
    {
     "datasetId": 708136,
     "sourceId": 1338830,
     "sourceType": "datasetVersion"
    }
   ],
   "dockerImageVersionId": 30558,
   "isGpuEnabled": true,
   "isInternetEnabled": true,
   "language": "python",
   "sourceType": "notebook"
  },
  "kernelspec": {
   "display_name": "Python 3",
   "language": "python",
   "name": "python3"
  },
  "language_info": {
   "codemirror_mode": {
    "name": "ipython",
    "version": 3
   },
   "file_extension": ".py",
   "mimetype": "text/x-python",
   "name": "python",
   "nbconvert_exporter": "python",
   "pygments_lexer": "ipython3",
   "version": "3.10.12"
  },
  "papermill": {
   "default_parameters": {},
   "duration": 70.580547,
   "end_time": "2023-12-01T18:10:53.492841",
   "environment_variables": {},
   "exception": null,
   "input_path": "__notebook__.ipynb",
   "output_path": "__notebook__.ipynb",
   "parameters": {},
   "start_time": "2023-12-01T18:09:42.912294",
   "version": "2.4.0"
  }
 },
 "nbformat": 4,
 "nbformat_minor": 5
}
